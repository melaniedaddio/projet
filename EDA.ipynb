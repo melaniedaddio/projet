{
 "cells": [
  {
   "cell_type": "code",
   "execution_count": 121,
   "metadata": {},
   "outputs": [],
   "source": [
    "import pandas as pd\n",
    "import numpy as np\n",
    "import matplotlib.pyplot as plt\n",
    "import seaborn as sns"
   ]
  },
  {
   "cell_type": "markdown",
   "metadata": {},
   "source": [
    "# IDÉES ETAPES À SUIVRES :\n",
    "1) Exploration et préparation des données:\n",
    "\n",
    "- Analyser les données pour comprendre leur structure.\n",
    "- Nettoyer les données (traiter les valeurs manquantes, les doublons, etc.).\n",
    "- Effectuer une analyse exploratoire des données (EDA).\n",
    "\n",
    "2) Prétraitement des données:\n",
    "\n",
    "- Normaliser ou standardiser les données.\n",
    "- Encoder les variables catégorielles.\n",
    "- Diviser les données en ensembles d'entraînement et de test.\n",
    "\n",
    "3) Sélection du modèle:\n",
    "\n",
    "- Choisir les algorithmes de machine learning appropriés.\n",
    "- Entraîner plusieurs modèles pour comparer leurs performances.\n",
    "\n",
    "4) Entraînement du modèle:\n",
    "\n",
    "- Entraîner les modèles sur l'ensemble d'entraînement.\n",
    "- Ajuster les hyperparamètres pour optimiser les performances.\n",
    "\n",
    "5) Évaluation du modèle:\n",
    "\n",
    "- Évaluer les modèles sur l'ensemble de test.\n",
    "- Utiliser des métriques de performance appropriées (précision, rappel, F1-score, etc.).\n"
   ]
  },
  {
   "cell_type": "code",
   "execution_count": 122,
   "metadata": {},
   "outputs": [
    {
     "data": {
      "text/html": [
       "<div>\n",
       "<style scoped>\n",
       "    .dataframe tbody tr th:only-of-type {\n",
       "        vertical-align: middle;\n",
       "    }\n",
       "\n",
       "    .dataframe tbody tr th {\n",
       "        vertical-align: top;\n",
       "    }\n",
       "\n",
       "    .dataframe thead th {\n",
       "        text-align: right;\n",
       "    }\n",
       "</style>\n",
       "<table border=\"1\" class=\"dataframe\">\n",
       "  <thead>\n",
       "    <tr style=\"text-align: right;\">\n",
       "      <th></th>\n",
       "      <th>id</th>\n",
       "      <th>N_Days</th>\n",
       "      <th>Drug</th>\n",
       "      <th>Age</th>\n",
       "      <th>Sex</th>\n",
       "      <th>Ascites</th>\n",
       "      <th>Hepatomegaly</th>\n",
       "      <th>Spiders</th>\n",
       "      <th>Edema</th>\n",
       "      <th>Bilirubin</th>\n",
       "      <th>Cholesterol</th>\n",
       "      <th>Albumin</th>\n",
       "      <th>Copper</th>\n",
       "      <th>Alk_Phos</th>\n",
       "      <th>SGOT</th>\n",
       "      <th>Tryglicerides</th>\n",
       "      <th>Platelets</th>\n",
       "      <th>Prothrombin</th>\n",
       "      <th>Stage</th>\n",
       "      <th>Status</th>\n",
       "    </tr>\n",
       "  </thead>\n",
       "  <tbody>\n",
       "    <tr>\n",
       "      <th>0</th>\n",
       "      <td>0</td>\n",
       "      <td>1055.0</td>\n",
       "      <td>NaN</td>\n",
       "      <td>19724.0</td>\n",
       "      <td>F</td>\n",
       "      <td>NaN</td>\n",
       "      <td>NaN</td>\n",
       "      <td>NaN</td>\n",
       "      <td>N</td>\n",
       "      <td>1.3</td>\n",
       "      <td>NaN</td>\n",
       "      <td>3.64</td>\n",
       "      <td>NaN</td>\n",
       "      <td>NaN</td>\n",
       "      <td>NaN</td>\n",
       "      <td>NaN</td>\n",
       "      <td>209.0</td>\n",
       "      <td>10.5</td>\n",
       "      <td>3.0</td>\n",
       "      <td>C</td>\n",
       "    </tr>\n",
       "    <tr>\n",
       "      <th>1</th>\n",
       "      <td>1</td>\n",
       "      <td>3282.0</td>\n",
       "      <td>Placebo</td>\n",
       "      <td>17884.0</td>\n",
       "      <td>F</td>\n",
       "      <td>N</td>\n",
       "      <td>Y</td>\n",
       "      <td>Y</td>\n",
       "      <td>N</td>\n",
       "      <td>0.7</td>\n",
       "      <td>309.0</td>\n",
       "      <td>3.60</td>\n",
       "      <td>96.0</td>\n",
       "      <td>1142.0</td>\n",
       "      <td>71.3</td>\n",
       "      <td>106.0</td>\n",
       "      <td>240.0</td>\n",
       "      <td>12.4</td>\n",
       "      <td>4.0</td>\n",
       "      <td>C</td>\n",
       "    </tr>\n",
       "    <tr>\n",
       "      <th>2</th>\n",
       "      <td>2</td>\n",
       "      <td>1653.0</td>\n",
       "      <td>NaN</td>\n",
       "      <td>20600.0</td>\n",
       "      <td>F</td>\n",
       "      <td>NaN</td>\n",
       "      <td>NaN</td>\n",
       "      <td>NaN</td>\n",
       "      <td>N</td>\n",
       "      <td>2.2</td>\n",
       "      <td>NaN</td>\n",
       "      <td>3.64</td>\n",
       "      <td>NaN</td>\n",
       "      <td>NaN</td>\n",
       "      <td>NaN</td>\n",
       "      <td>NaN</td>\n",
       "      <td>139.0</td>\n",
       "      <td>9.5</td>\n",
       "      <td>2.0</td>\n",
       "      <td>C</td>\n",
       "    </tr>\n",
       "    <tr>\n",
       "      <th>3</th>\n",
       "      <td>3</td>\n",
       "      <td>999.0</td>\n",
       "      <td>D-penicillamine</td>\n",
       "      <td>22514.0</td>\n",
       "      <td>F</td>\n",
       "      <td>N</td>\n",
       "      <td>Y</td>\n",
       "      <td>N</td>\n",
       "      <td>N</td>\n",
       "      <td>1.0</td>\n",
       "      <td>498.0</td>\n",
       "      <td>3.35</td>\n",
       "      <td>89.0</td>\n",
       "      <td>1601.0</td>\n",
       "      <td>164.3</td>\n",
       "      <td>85.0</td>\n",
       "      <td>394.0</td>\n",
       "      <td>9.7</td>\n",
       "      <td>3.0</td>\n",
       "      <td>C</td>\n",
       "    </tr>\n",
       "    <tr>\n",
       "      <th>4</th>\n",
       "      <td>4</td>\n",
       "      <td>2202.0</td>\n",
       "      <td>NaN</td>\n",
       "      <td>17897.0</td>\n",
       "      <td>F</td>\n",
       "      <td>NaN</td>\n",
       "      <td>NaN</td>\n",
       "      <td>NaN</td>\n",
       "      <td>N</td>\n",
       "      <td>17.2</td>\n",
       "      <td>NaN</td>\n",
       "      <td>3.15</td>\n",
       "      <td>NaN</td>\n",
       "      <td>NaN</td>\n",
       "      <td>NaN</td>\n",
       "      <td>NaN</td>\n",
       "      <td>432.0</td>\n",
       "      <td>11.2</td>\n",
       "      <td>3.0</td>\n",
       "      <td>C</td>\n",
       "    </tr>\n",
       "  </tbody>\n",
       "</table>\n",
       "</div>"
      ],
      "text/plain": [
       "   id  N_Days             Drug      Age Sex Ascites Hepatomegaly Spiders  \\\n",
       "0   0  1055.0              NaN  19724.0   F     NaN          NaN     NaN   \n",
       "1   1  3282.0          Placebo  17884.0   F       N            Y       Y   \n",
       "2   2  1653.0              NaN  20600.0   F     NaN          NaN     NaN   \n",
       "3   3   999.0  D-penicillamine  22514.0   F       N            Y       N   \n",
       "4   4  2202.0              NaN  17897.0   F     NaN          NaN     NaN   \n",
       "\n",
       "  Edema  Bilirubin  Cholesterol  Albumin  Copper  Alk_Phos   SGOT  \\\n",
       "0     N        1.3          NaN     3.64     NaN       NaN    NaN   \n",
       "1     N        0.7        309.0     3.60    96.0    1142.0   71.3   \n",
       "2     N        2.2          NaN     3.64     NaN       NaN    NaN   \n",
       "3     N        1.0        498.0     3.35    89.0    1601.0  164.3   \n",
       "4     N       17.2          NaN     3.15     NaN       NaN    NaN   \n",
       "\n",
       "   Tryglicerides  Platelets  Prothrombin  Stage Status  \n",
       "0            NaN      209.0         10.5    3.0      C  \n",
       "1          106.0      240.0         12.4    4.0      C  \n",
       "2            NaN      139.0          9.5    2.0      C  \n",
       "3           85.0      394.0          9.7    3.0      C  \n",
       "4            NaN      432.0         11.2    3.0      C  "
      ]
     },
     "execution_count": 122,
     "metadata": {},
     "output_type": "execute_result"
    }
   ],
   "source": [
    "train_df = pd.read_csv('classification-multi-classes/train.csv', \n",
    "                      delimiter = \",\",\n",
    "                      header = 0)\n",
    "\n",
    "train_df.head()"
   ]
  },
  {
   "cell_type": "code",
   "execution_count": 123,
   "metadata": {},
   "outputs": [
    {
     "data": {
      "text/plain": [
       "(15000, 20)"
      ]
     },
     "execution_count": 123,
     "metadata": {},
     "output_type": "execute_result"
    }
   ],
   "source": [
    "train_df.shape"
   ]
  },
  {
   "cell_type": "markdown",
   "metadata": {},
   "source": [
    "## <span style=\"color:red\">1.  Exploration et préparation des données</span>"
   ]
  },
  {
   "cell_type": "markdown",
   "metadata": {},
   "source": [
    "- id : Identifiant unique de chaque patient ou enregistrement. \n",
    "- N_Days : Nombre de jours écoulés depuis un événement de référence (par exemple, diagnostic, début du suivi, ou début du traitement). Début du traitement 1986.\n",
    "- Drug : Nom ou catégorie du médicament administré au patient.\n",
    "- Age : Âge du patient (probablement en années).\n",
    "- Sex : Sexe du patient (Male ou Female).\n",
    "- Ascites : Présence d’ascite (accumulation de liquide dans la cavité abdominale). Valeurs possibles : Yes, No, ou NA (inconnue).\n",
    "- Hepatomegaly : Présence d’hépatomégalie (augmentation du volume du foie). Valeurs possibles : Yes, No, ou NA.\n",
    "- Spiders : Présence de telangiectasies en araignée (lésions vasculaires cutanées). Valeurs possibles : Yes, No, ou NA.\n",
    "- Edema : Présence d’œdème. Peut inclure des catégories comme None, Slight, ou Marked.\n",
    "- Bilirubin : Niveau de bilirubine dans le sang (en mg/dL), un marqueur de la fonction hépatique.\n",
    "- Cholesterol : Niveau de cholestérol dans le sang (en mg/dL), souvent indicatif d’une santé globale ou de troubles métaboliques.\n",
    "- Albumin : Niveau d’albumine dans le sang (en g/dL), un marqueur nutritionnel et de la fonction hépatique.\n",
    "- Copper : Concentration de cuivre dans le sang ou l’urine (en µg/dL), indicateur d’une éventuelle maladie de Wilson ou autre désordre métabolique.\n",
    "- Alk_Phos : Niveau de phosphatases alcalines (en UI/L), un indicateur de fonction hépatique ou osseuse.\n",
    "- SGOT : Niveau d'enzymes transaminases (SGOT ou AST) (en UI/L), indicateur de dommages au foie ou à d’autres organes.\n",
    "- Tryglicerides : Niveau de triglycérides dans le sang (en mg/dL), un marqueur lipidique et métabolique.\n",
    "- Platelets : Nombre de plaquettes dans le sang (en milliers/μL), un indicateur de la coagulation.\n",
    "- Prothrombin : Temps de prothrombine (en secondes ou % d’activité), un test de coagulation pour évaluer la fonction hépatique.\n",
    "- Stage : Stade de la maladie, basé sur un système de classification (souvent de 1 à 4, où 4 est le plus sévère).\n",
    "- Status : État ou issue du patient. Par exemple : Alive, Deceased, ou autres catégories. (VARIABLE CYBLE)"
   ]
  },
  {
   "cell_type": "markdown",
   "metadata": {},
   "source": [
    "### <span style=\"color:blue\">Types des variables</span>"
   ]
  },
  {
   "cell_type": "code",
   "execution_count": 124,
   "metadata": {},
   "outputs": [
    {
     "name": "stdout",
     "output_type": "stream",
     "text": [
      "<class 'pandas.core.frame.DataFrame'>\n",
      "RangeIndex: 15000 entries, 0 to 14999\n",
      "Data columns (total 20 columns):\n",
      " #   Column         Non-Null Count  Dtype  \n",
      "---  ------         --------------  -----  \n",
      " 0   id             15000 non-null  int64  \n",
      " 1   N_Days         15000 non-null  float64\n",
      " 2   Drug           8564 non-null   object \n",
      " 3   Age            15000 non-null  float64\n",
      " 4   Sex            15000 non-null  object \n",
      " 5   Ascites        8563 non-null   object \n",
      " 6   Hepatomegaly   8564 non-null   object \n",
      " 7   Spiders        8555 non-null   object \n",
      " 8   Edema          15000 non-null  object \n",
      " 9   Bilirubin      15000 non-null  float64\n",
      " 10  Cholesterol    6669 non-null   float64\n",
      " 11  Albumin        15000 non-null  float64\n",
      " 12  Copper         8452 non-null   float64\n",
      " 13  Alk_Phos       8558 non-null   float64\n",
      " 14  SGOT           8555 non-null   float64\n",
      " 15  Tryglicerides  6630 non-null   float64\n",
      " 16  Platelets      14414 non-null  float64\n",
      " 17  Prothrombin    14974 non-null  float64\n",
      " 18  Stage          15000 non-null  float64\n",
      " 19  Status         15000 non-null  object \n",
      "dtypes: float64(12), int64(1), object(7)\n",
      "memory usage: 2.3+ MB\n"
     ]
    }
   ],
   "source": [
    "train_df.info()"
   ]
  },
  {
   "cell_type": "code",
   "execution_count": 125,
   "metadata": {},
   "outputs": [],
   "source": [
    "# Mettre N_Days en int\n",
    "train_df['N_Days'] = train_df['N_Days'].astype('int')\n",
    "\n",
    "# stage mettre en object\n",
    "train_df['Stage'] = train_df['Stage'].astype('object')"
   ]
  },
  {
   "cell_type": "code",
   "execution_count": 126,
   "metadata": {},
   "outputs": [
    {
     "data": {
      "text/html": [
       "<div>\n",
       "<style scoped>\n",
       "    .dataframe tbody tr th:only-of-type {\n",
       "        vertical-align: middle;\n",
       "    }\n",
       "\n",
       "    .dataframe tbody tr th {\n",
       "        vertical-align: top;\n",
       "    }\n",
       "\n",
       "    .dataframe thead th {\n",
       "        text-align: right;\n",
       "    }\n",
       "</style>\n",
       "<table border=\"1\" class=\"dataframe\">\n",
       "  <thead>\n",
       "    <tr style=\"text-align: right;\">\n",
       "      <th></th>\n",
       "      <th>id</th>\n",
       "      <th>N_Days</th>\n",
       "      <th>Age</th>\n",
       "      <th>Bilirubin</th>\n",
       "      <th>Cholesterol</th>\n",
       "      <th>Albumin</th>\n",
       "      <th>Copper</th>\n",
       "      <th>Alk_Phos</th>\n",
       "      <th>SGOT</th>\n",
       "      <th>Tryglicerides</th>\n",
       "      <th>Platelets</th>\n",
       "      <th>Prothrombin</th>\n",
       "    </tr>\n",
       "  </thead>\n",
       "  <tbody>\n",
       "    <tr>\n",
       "      <th>count</th>\n",
       "      <td>15000.000000</td>\n",
       "      <td>15000.000000</td>\n",
       "      <td>15000.000000</td>\n",
       "      <td>15000.000000</td>\n",
       "      <td>6669.000000</td>\n",
       "      <td>15000.000000</td>\n",
       "      <td>8452.000000</td>\n",
       "      <td>8558.000000</td>\n",
       "      <td>8555.000000</td>\n",
       "      <td>6630.000000</td>\n",
       "      <td>14414.000000</td>\n",
       "      <td>14974.000000</td>\n",
       "    </tr>\n",
       "    <tr>\n",
       "      <th>mean</th>\n",
       "      <td>7499.500000</td>\n",
       "      <td>1966.998733</td>\n",
       "      <td>19248.502373</td>\n",
       "      <td>1.861462</td>\n",
       "      <td>327.670115</td>\n",
       "      <td>3.525314</td>\n",
       "      <td>74.715689</td>\n",
       "      <td>1667.605282</td>\n",
       "      <td>106.579545</td>\n",
       "      <td>110.297097</td>\n",
       "      <td>253.822027</td>\n",
       "      <td>10.627748</td>\n",
       "    </tr>\n",
       "    <tr>\n",
       "      <th>std</th>\n",
       "      <td>4330.271354</td>\n",
       "      <td>1355.897299</td>\n",
       "      <td>3697.546749</td>\n",
       "      <td>2.752375</td>\n",
       "      <td>179.801705</td>\n",
       "      <td>0.369981</td>\n",
       "      <td>74.211915</td>\n",
       "      <td>1861.746315</td>\n",
       "      <td>56.493338</td>\n",
       "      <td>49.676146</td>\n",
       "      <td>94.074989</td>\n",
       "      <td>0.741888</td>\n",
       "    </tr>\n",
       "    <tr>\n",
       "      <th>min</th>\n",
       "      <td>0.000000</td>\n",
       "      <td>3.000000</td>\n",
       "      <td>133.300000</td>\n",
       "      <td>0.300000</td>\n",
       "      <td>120.000000</td>\n",
       "      <td>1.800000</td>\n",
       "      <td>4.000000</td>\n",
       "      <td>16.000000</td>\n",
       "      <td>8.000000</td>\n",
       "      <td>33.000000</td>\n",
       "      <td>0.400000</td>\n",
       "      <td>7.100000</td>\n",
       "    </tr>\n",
       "    <tr>\n",
       "      <th>25%</th>\n",
       "      <td>3749.750000</td>\n",
       "      <td>1092.000000</td>\n",
       "      <td>16374.000000</td>\n",
       "      <td>0.600000</td>\n",
       "      <td>242.000000</td>\n",
       "      <td>3.290000</td>\n",
       "      <td>31.000000</td>\n",
       "      <td>721.000000</td>\n",
       "      <td>71.000000</td>\n",
       "      <td>80.000000</td>\n",
       "      <td>183.000000</td>\n",
       "      <td>10.100000</td>\n",
       "    </tr>\n",
       "    <tr>\n",
       "      <th>50%</th>\n",
       "      <td>7499.500000</td>\n",
       "      <td>1785.000000</td>\n",
       "      <td>19544.000000</td>\n",
       "      <td>0.900000</td>\n",
       "      <td>280.000000</td>\n",
       "      <td>3.580000</td>\n",
       "      <td>52.000000</td>\n",
       "      <td>1072.000000</td>\n",
       "      <td>97.650000</td>\n",
       "      <td>99.000000</td>\n",
       "      <td>251.000000</td>\n",
       "      <td>10.600000</td>\n",
       "    </tr>\n",
       "    <tr>\n",
       "      <th>75%</th>\n",
       "      <td>11249.250000</td>\n",
       "      <td>2635.000000</td>\n",
       "      <td>22369.000000</td>\n",
       "      <td>1.800000</td>\n",
       "      <td>360.000000</td>\n",
       "      <td>3.770000</td>\n",
       "      <td>86.000000</td>\n",
       "      <td>1691.250000</td>\n",
       "      <td>133.300000</td>\n",
       "      <td>133.000000</td>\n",
       "      <td>312.000000</td>\n",
       "      <td>11.000000</td>\n",
       "    </tr>\n",
       "    <tr>\n",
       "      <th>max</th>\n",
       "      <td>14999.000000</td>\n",
       "      <td>40795.000000</td>\n",
       "      <td>35472.000000</td>\n",
       "      <td>28.000000</td>\n",
       "      <td>1790.000000</td>\n",
       "      <td>4.640000</td>\n",
       "      <td>588.000000</td>\n",
       "      <td>19270.000000</td>\n",
       "      <td>2148.000000</td>\n",
       "      <td>598.000000</td>\n",
       "      <td>724.000000</td>\n",
       "      <td>18.000000</td>\n",
       "    </tr>\n",
       "  </tbody>\n",
       "</table>\n",
       "</div>"
      ],
      "text/plain": [
       "                 id        N_Days           Age     Bilirubin  Cholesterol  \\\n",
       "count  15000.000000  15000.000000  15000.000000  15000.000000  6669.000000   \n",
       "mean    7499.500000   1966.998733  19248.502373      1.861462   327.670115   \n",
       "std     4330.271354   1355.897299   3697.546749      2.752375   179.801705   \n",
       "min        0.000000      3.000000    133.300000      0.300000   120.000000   \n",
       "25%     3749.750000   1092.000000  16374.000000      0.600000   242.000000   \n",
       "50%     7499.500000   1785.000000  19544.000000      0.900000   280.000000   \n",
       "75%    11249.250000   2635.000000  22369.000000      1.800000   360.000000   \n",
       "max    14999.000000  40795.000000  35472.000000     28.000000  1790.000000   \n",
       "\n",
       "            Albumin       Copper      Alk_Phos         SGOT  Tryglicerides  \\\n",
       "count  15000.000000  8452.000000   8558.000000  8555.000000    6630.000000   \n",
       "mean       3.525314    74.715689   1667.605282   106.579545     110.297097   \n",
       "std        0.369981    74.211915   1861.746315    56.493338      49.676146   \n",
       "min        1.800000     4.000000     16.000000     8.000000      33.000000   \n",
       "25%        3.290000    31.000000    721.000000    71.000000      80.000000   \n",
       "50%        3.580000    52.000000   1072.000000    97.650000      99.000000   \n",
       "75%        3.770000    86.000000   1691.250000   133.300000     133.000000   \n",
       "max        4.640000   588.000000  19270.000000  2148.000000     598.000000   \n",
       "\n",
       "          Platelets   Prothrombin  \n",
       "count  14414.000000  14974.000000  \n",
       "mean     253.822027     10.627748  \n",
       "std       94.074989      0.741888  \n",
       "min        0.400000      7.100000  \n",
       "25%      183.000000     10.100000  \n",
       "50%      251.000000     10.600000  \n",
       "75%      312.000000     11.000000  \n",
       "max      724.000000     18.000000  "
      ]
     },
     "execution_count": 126,
     "metadata": {},
     "output_type": "execute_result"
    }
   ],
   "source": [
    "train_df.describe()"
   ]
  },
  {
   "cell_type": "markdown",
   "metadata": {},
   "source": [
    "### <span style=\"color:blue\">Valeurs manquantes</span>"
   ]
  },
  {
   "cell_type": "code",
   "execution_count": 127,
   "metadata": {},
   "outputs": [
    {
     "data": {
      "text/plain": [
       "id                0.000000\n",
       "N_Days            0.000000\n",
       "Drug             42.906667\n",
       "Age               0.000000\n",
       "Sex               0.000000\n",
       "Ascites          42.913333\n",
       "Hepatomegaly     42.906667\n",
       "Spiders          42.966667\n",
       "Edema             0.000000\n",
       "Bilirubin         0.000000\n",
       "Cholesterol      55.540000\n",
       "Albumin           0.000000\n",
       "Copper           43.653333\n",
       "Alk_Phos         42.946667\n",
       "SGOT             42.966667\n",
       "Tryglicerides    55.800000\n",
       "Platelets         3.906667\n",
       "Prothrombin       0.173333\n",
       "Stage             0.000000\n",
       "Status            0.000000\n",
       "dtype: float64"
      ]
     },
     "execution_count": 127,
     "metadata": {},
     "output_type": "execute_result"
    }
   ],
   "source": [
    "# Valeur manquante\n",
    "train_df.isna().sum()/len(train_df)*100"
   ]
  },
  {
   "cell_type": "code",
   "execution_count": 128,
   "metadata": {},
   "outputs": [],
   "source": [
    "# On constate que les pourcentages de valeurs manquantes sont assez proches pour certaines variables:\n",
    "# - Ascites, Hepatomegaly, Spiders ont un pourcentage de valeurs manquantes quasiment égal\n",
    "#   De plus, ces trois variables ont la meme structure (yes/no/na)\n",
    "#   -> il est possible que ce soit les mêmes individus pour lesquels on a des NA (personnes qui n'ont juste \n",
    "#   pas repondus ou pas suivi le protocole)\n",
    "# - Cholesterol, Tryglicerides ont des pourcentages de valeurs manquantes plus élevés que les autre variables\n",
    "#   -> il s'agirait des meme individus qui n'ont pas suivi le traitement + des individus qui ne connaitraient\n",
    "#    pas ces taux \n",
    "\n",
    "# => en generale les pourcenatge de valeur manquantes sur des variables qui semblent liées entre elles\n",
    "# => il est possible que ce soit les mêmes individus pour lesquels on a des NA, donc un groupe qui n'aurait \n",
    "# pas suivi le protocole \n",
    "# IL FAUDRA FAIRE UNE ANALYSE PLUS POUSSEE POUR VOIR SI LES NA SONT PReSENTS SUR LES MEMES INDIVIDUS"
   ]
  },
  {
   "cell_type": "markdown",
   "metadata": {},
   "source": [
    "## <span style=\"color:blue\">Analyse détaillée de chaques variables et prétraitement</span>"
   ]
  },
  {
   "cell_type": "markdown",
   "metadata": {},
   "source": [
    "* ID :"
   ]
  },
  {
   "cell_type": "code",
   "execution_count": 129,
   "metadata": {},
   "outputs": [],
   "source": [
    "# supprimer id en temps general ici on la garde pour garder la meme taile dans notre jeu de données train et test"
   ]
  },
  {
   "cell_type": "markdown",
   "metadata": {},
   "source": [
    "* N_Days :"
   ]
  },
  {
   "cell_type": "code",
   "execution_count": 130,
   "metadata": {},
   "outputs": [
    {
     "data": {
      "text/plain": [
       "dtype('int64')"
      ]
     },
     "execution_count": 130,
     "metadata": {},
     "output_type": "execute_result"
    }
   ],
   "source": [
    "# Mettre dans le bon type \n",
    "train_df['N_Days'].dtype"
   ]
  },
  {
   "cell_type": "code",
   "execution_count": 131,
   "metadata": {},
   "outputs": [
    {
     "data": {
      "text/plain": [
       "count    15000.000000\n",
       "mean      1966.998733\n",
       "std       1355.897299\n",
       "min          3.000000\n",
       "25%       1092.000000\n",
       "50%       1785.000000\n",
       "75%       2635.000000\n",
       "max      40795.000000\n",
       "Name: N_Days, dtype: float64"
      ]
     },
     "execution_count": 131,
     "metadata": {},
     "output_type": "execute_result"
    }
   ],
   "source": [
    "train_df['N_Days'].describe()\n",
    "# max abbberant regarder"
   ]
  },
  {
   "cell_type": "code",
   "execution_count": 132,
   "metadata": {},
   "outputs": [
    {
     "name": "stdout",
     "output_type": "stream",
     "text": [
      "111.76712328767124\n",
      "14235\n"
     ]
    }
   ],
   "source": [
    "print(train_df['N_Days'].max()/365)\n",
    "# Correspondant en années à 111 ans envirront\n",
    "# Problèmes sur cette valeur (traitement ne peut durer autant de temps)\n",
    "# De plus, d'apres les recherhes le dataset debute en 1986.\n",
    "# -> impossible d'avoir des N_days supérieur à :\n",
    "print((2025-1986)*365)"
   ]
  },
  {
   "cell_type": "code",
   "execution_count": 133,
   "metadata": {},
   "outputs": [
    {
     "data": {
      "text/plain": [
       "(array([5.461e+03, 6.255e+03, 2.689e+03, 5.680e+02, 0.000e+00, 0.000e+00,\n",
       "        0.000e+00, 0.000e+00, 1.000e+00, 1.000e+00, 2.000e+00, 3.000e+00,\n",
       "        0.000e+00, 3.000e+00, 2.000e+00, 1.000e+00, 8.000e+00, 2.000e+00,\n",
       "        3.000e+00, 0.000e+00, 0.000e+00, 0.000e+00, 0.000e+00, 0.000e+00,\n",
       "        0.000e+00, 0.000e+00, 0.000e+00, 0.000e+00, 0.000e+00, 1.000e+00]),\n",
       " array([3.00000000e+00, 1.36273333e+03, 2.72246667e+03, 4.08220000e+03,\n",
       "        5.44193333e+03, 6.80166667e+03, 8.16140000e+03, 9.52113333e+03,\n",
       "        1.08808667e+04, 1.22406000e+04, 1.36003333e+04, 1.49600667e+04,\n",
       "        1.63198000e+04, 1.76795333e+04, 1.90392667e+04, 2.03990000e+04,\n",
       "        2.17587333e+04, 2.31184667e+04, 2.44782000e+04, 2.58379333e+04,\n",
       "        2.71976667e+04, 2.85574000e+04, 2.99171333e+04, 3.12768667e+04,\n",
       "        3.26366000e+04, 3.39963333e+04, 3.53560667e+04, 3.67158000e+04,\n",
       "        3.80755333e+04, 3.94352667e+04, 4.07950000e+04]),\n",
       " <BarContainer object of 30 artists>)"
      ]
     },
     "execution_count": 133,
     "metadata": {},
     "output_type": "execute_result"
    },
    {
     "data": {
      "image/png": "[encoded data removed]",
      "text/plain": [
       "<Figure size 640x480 with 1 Axes>"
      ]
     },
     "metadata": {},
     "output_type": "display_data"
    }
   ],
   "source": [
    "plt.hist(train_df['N_Days'], bins = 30)"
   ]
  },
  {
   "cell_type": "code",
   "execution_count": 134,
   "metadata": {},
   "outputs": [
    {
     "data": {
      "text/plain": [
       "{'whiskers': [<matplotlib.lines.Line2D at 0x11f847b00>,\n",
       "  <matplotlib.lines.Line2D at 0x11f847e00>],\n",
       " 'caps': [<matplotlib.lines.Line2D at 0x11f847fe0>,\n",
       "  <matplotlib.lines.Line2D at 0x11f8742f0>],\n",
       " 'boxes': [<matplotlib.lines.Line2D at 0x11f8477d0>],\n",
       " 'medians': [<matplotlib.lines.Line2D at 0x11f874620>],\n",
       " 'fliers': [<matplotlib.lines.Line2D at 0x11f874920>],\n",
       " 'means': []}"
      ]
     },
     "execution_count": 134,
     "metadata": {},
     "output_type": "execute_result"
    },
    {
     "data": {
      "image/png": "[encoded data removed]",
      "text/plain": [
       "<Figure size 640x480 with 1 Axes>"
      ]
     },
     "metadata": {},
     "output_type": "display_data"
    }
   ],
   "source": [
    "plt.boxplot(train_df['N_Days'])"
   ]
  },
  {
   "cell_type": "markdown",
   "metadata": {},
   "source": [
    "* Drug : "
   ]
  },
  {
   "cell_type": "code",
   "execution_count": 135,
   "metadata": {},
   "outputs": [
    {
     "data": {
      "text/plain": [
       "count                8564\n",
       "unique                  2\n",
       "top       D-penicillamine\n",
       "freq                 4568\n",
       "Name: Drug, dtype: object"
      ]
     },
     "execution_count": 135,
     "metadata": {},
     "output_type": "execute_result"
    }
   ],
   "source": [
    "train_df['Drug'].describe()"
   ]
  },
  {
   "cell_type": "code",
   "execution_count": 136,
   "metadata": {},
   "outputs": [
    {
     "data": {
      "text/plain": [
       "Drug\n",
       "NaN                0.429067\n",
       "D-penicillamine    0.304533\n",
       "Placebo            0.266400\n",
       "Name: proportion, dtype: float64"
      ]
     },
     "execution_count": 136,
     "metadata": {},
     "output_type": "execute_result"
    }
   ],
   "source": [
    "train_df['Drug'].value_counts(dropna=False, normalize=True)\n",
    "# Autant de placebo que de cachets\n",
    "# Beaucoup de variables manquantes\n",
    "# Faut il :\n",
    "# - considérer les NaN comme des valeurs manquantes"
   ]
  },
  {
   "cell_type": "code",
   "execution_count": 137,
   "metadata": {},
   "outputs": [],
   "source": [
    "# Si on recode les NaN en \"non-suivi\" :\n",
    "# train_df['Drug'] = train_df['Drug'].fillna('non-suivi').astype(str)\n"
   ]
  },
  {
   "cell_type": "code",
   "execution_count": 138,
   "metadata": {},
   "outputs": [
    {
     "data": {
      "text/plain": [
       "Counter({nan: 6436, 'D-penicillamine': 4568, 'Placebo': 3996})"
      ]
     },
     "execution_count": 138,
     "metadata": {},
     "output_type": "execute_result"
    }
   ],
   "source": [
    "from collections import Counter\n",
    "frequencies = Counter(train_df['Drug'])\n",
    "frequencies"
   ]
  },
  {
   "cell_type": "code",
   "execution_count": 139,
   "metadata": {},
   "outputs": [],
   "source": [
    "labels = list(frequencies.keys())\n",
    "values = list(frequencies.values()) "
   ]
  },
  {
   "cell_type": "code",
   "execution_count": 140,
   "metadata": {},
   "outputs": [
    {
     "data": {
      "text/plain": [
       "<BarContainer object of 2 artists>"
      ]
     },
     "execution_count": 140,
     "metadata": {},
     "output_type": "execute_result"
    },
    {
     "data": {
      "image/png": "[encoded data removed]",
      "text/plain": [
       "<Figure size 640x480 with 1 Axes>"
      ]
     },
     "metadata": {},
     "output_type": "display_data"
    }
   ],
   "source": [
    "plt.bar(labels[1:], values[1:], color=['blue', 'orange'])"
   ]
  },
  {
   "cell_type": "markdown",
   "metadata": {},
   "source": [
    "* Age : "
   ]
  },
  {
   "cell_type": "code",
   "execution_count": 141,
   "metadata": {},
   "outputs": [
    {
     "data": {
      "text/plain": [
       "count    15000.000000\n",
       "mean     19248.502373\n",
       "std       3697.546749\n",
       "min        133.300000\n",
       "25%      16374.000000\n",
       "50%      19544.000000\n",
       "75%      22369.000000\n",
       "max      35472.000000\n",
       "Name: Age, dtype: float64"
      ]
     },
     "execution_count": 141,
     "metadata": {},
     "output_type": "execute_result"
    }
   ],
   "source": [
    "train_df['Age'].describe()\n",
    "# valeur minimale extremement petite\n",
    "# on constate que le max de N_days est suppérieur à l'age max ce qui pose problème"
   ]
  },
  {
   "cell_type": "code",
   "execution_count": 142,
   "metadata": {},
   "outputs": [
    {
     "data": {
      "text/html": [
       "<div>\n",
       "<style scoped>\n",
       "    .dataframe tbody tr th:only-of-type {\n",
       "        vertical-align: middle;\n",
       "    }\n",
       "\n",
       "    .dataframe tbody tr th {\n",
       "        vertical-align: top;\n",
       "    }\n",
       "\n",
       "    .dataframe thead th {\n",
       "        text-align: right;\n",
       "    }\n",
       "</style>\n",
       "<table border=\"1\" class=\"dataframe\">\n",
       "  <thead>\n",
       "    <tr style=\"text-align: right;\">\n",
       "      <th></th>\n",
       "      <th>id</th>\n",
       "      <th>N_Days</th>\n",
       "      <th>Drug</th>\n",
       "      <th>Age</th>\n",
       "      <th>Sex</th>\n",
       "      <th>Ascites</th>\n",
       "      <th>Hepatomegaly</th>\n",
       "      <th>Spiders</th>\n",
       "      <th>Edema</th>\n",
       "      <th>Bilirubin</th>\n",
       "      <th>Cholesterol</th>\n",
       "      <th>Albumin</th>\n",
       "      <th>Copper</th>\n",
       "      <th>Alk_Phos</th>\n",
       "      <th>SGOT</th>\n",
       "      <th>Tryglicerides</th>\n",
       "      <th>Platelets</th>\n",
       "      <th>Prothrombin</th>\n",
       "      <th>Stage</th>\n",
       "      <th>Status</th>\n",
       "    </tr>\n",
       "  </thead>\n",
       "  <tbody>\n",
       "    <tr>\n",
       "      <th>1263</th>\n",
       "      <td>1263</td>\n",
       "      <td>2995</td>\n",
       "      <td>Placebo</td>\n",
       "      <td>2990.0</td>\n",
       "      <td>F</td>\n",
       "      <td>N</td>\n",
       "      <td>N</td>\n",
       "      <td>N</td>\n",
       "      <td>N</td>\n",
       "      <td>0.9</td>\n",
       "      <td>314.0</td>\n",
       "      <td>3.48</td>\n",
       "      <td>18.0</td>\n",
       "      <td>1164.0</td>\n",
       "      <td>71.00</td>\n",
       "      <td>260.0</td>\n",
       "      <td>340.0</td>\n",
       "      <td>10.0</td>\n",
       "      <td>2.0</td>\n",
       "      <td>C</td>\n",
       "    </tr>\n",
       "    <tr>\n",
       "      <th>4216</th>\n",
       "      <td>4216</td>\n",
       "      <td>2504</td>\n",
       "      <td>D-penicillamine</td>\n",
       "      <td>133.3</td>\n",
       "      <td>F</td>\n",
       "      <td>N</td>\n",
       "      <td>N</td>\n",
       "      <td>N</td>\n",
       "      <td>N</td>\n",
       "      <td>2.1</td>\n",
       "      <td>NaN</td>\n",
       "      <td>3.00</td>\n",
       "      <td>24.0</td>\n",
       "      <td>1828.0</td>\n",
       "      <td>133.30</td>\n",
       "      <td>NaN</td>\n",
       "      <td>474.0</td>\n",
       "      <td>10.1</td>\n",
       "      <td>3.0</td>\n",
       "      <td>C</td>\n",
       "    </tr>\n",
       "    <tr>\n",
       "      <th>5860</th>\n",
       "      <td>5860</td>\n",
       "      <td>3445</td>\n",
       "      <td>D-penicillamine</td>\n",
       "      <td>133.3</td>\n",
       "      <td>F</td>\n",
       "      <td>N</td>\n",
       "      <td>Y</td>\n",
       "      <td>N</td>\n",
       "      <td>N</td>\n",
       "      <td>2.3</td>\n",
       "      <td>NaN</td>\n",
       "      <td>3.61</td>\n",
       "      <td>39.0</td>\n",
       "      <td>1828.0</td>\n",
       "      <td>133.30</td>\n",
       "      <td>NaN</td>\n",
       "      <td>123.0</td>\n",
       "      <td>10.3</td>\n",
       "      <td>4.0</td>\n",
       "      <td>D</td>\n",
       "    </tr>\n",
       "    <tr>\n",
       "      <th>14686</th>\n",
       "      <td>14686</td>\n",
       "      <td>13728</td>\n",
       "      <td>Placebo</td>\n",
       "      <td>13727.0</td>\n",
       "      <td>F</td>\n",
       "      <td>Y</td>\n",
       "      <td>Y</td>\n",
       "      <td>N</td>\n",
       "      <td>Y</td>\n",
       "      <td>12.2</td>\n",
       "      <td>373.0</td>\n",
       "      <td>2.94</td>\n",
       "      <td>150.0</td>\n",
       "      <td>1029.0</td>\n",
       "      <td>119.35</td>\n",
       "      <td>151.0</td>\n",
       "      <td>399.0</td>\n",
       "      <td>11.6</td>\n",
       "      <td>4.0</td>\n",
       "      <td>D</td>\n",
       "    </tr>\n",
       "    <tr>\n",
       "      <th>14692</th>\n",
       "      <td>14692</td>\n",
       "      <td>40795</td>\n",
       "      <td>D-penicillamine</td>\n",
       "      <td>17874.0</td>\n",
       "      <td>F</td>\n",
       "      <td>N</td>\n",
       "      <td>N</td>\n",
       "      <td>Y</td>\n",
       "      <td>N</td>\n",
       "      <td>1.4</td>\n",
       "      <td>486.0</td>\n",
       "      <td>3.45</td>\n",
       "      <td>32.0</td>\n",
       "      <td>2201.0</td>\n",
       "      <td>117.80</td>\n",
       "      <td>70.0</td>\n",
       "      <td>410.0</td>\n",
       "      <td>11.7</td>\n",
       "      <td>3.0</td>\n",
       "      <td>C</td>\n",
       "    </tr>\n",
       "  </tbody>\n",
       "</table>\n",
       "</div>"
      ],
      "text/plain": [
       "          id  N_Days             Drug      Age Sex Ascites Hepatomegaly  \\\n",
       "1263    1263    2995          Placebo   2990.0   F       N            N   \n",
       "4216    4216    2504  D-penicillamine    133.3   F       N            N   \n",
       "5860    5860    3445  D-penicillamine    133.3   F       N            Y   \n",
       "14686  14686   13728          Placebo  13727.0   F       Y            Y   \n",
       "14692  14692   40795  D-penicillamine  17874.0   F       N            N   \n",
       "\n",
       "      Spiders Edema  Bilirubin  Cholesterol  Albumin  Copper  Alk_Phos  \\\n",
       "1263        N     N        0.9        314.0     3.48    18.0    1164.0   \n",
       "4216        N     N        2.1          NaN     3.00    24.0    1828.0   \n",
       "5860        N     N        2.3          NaN     3.61    39.0    1828.0   \n",
       "14686       N     Y       12.2        373.0     2.94   150.0    1029.0   \n",
       "14692       Y     N        1.4        486.0     3.45    32.0    2201.0   \n",
       "\n",
       "         SGOT  Tryglicerides  Platelets  Prothrombin Stage Status  \n",
       "1263    71.00          260.0      340.0         10.0   2.0      C  \n",
       "4216   133.30            NaN      474.0         10.1   3.0      C  \n",
       "5860   133.30            NaN      123.0         10.3   4.0      D  \n",
       "14686  119.35          151.0      399.0         11.6   4.0      D  \n",
       "14692  117.80           70.0      410.0         11.7   3.0      C  "
      ]
     },
     "execution_count": 142,
     "metadata": {},
     "output_type": "execute_result"
    }
   ],
   "source": [
    "train_df[train_df['Age']<train_df['N_Days']]\n",
    "# problème à ce niveau car il est impossible d'avoir un age inferieur au nombre de jour de traitement\n",
    "# on constate que ce problème est lié aux valeurs(abberantes) minimales"
   ]
  },
  {
   "cell_type": "code",
   "execution_count": 143,
   "metadata": {},
   "outputs": [
    {
     "name": "stderr",
     "output_type": "stream",
     "text": [
      "/var/folders/74/x3782kls1rv6qscx40xcj5rm0000gn/T/ipykernel_15129/3677733665.py:2: FutureWarning: Setting an item of incompatible dtype is deprecated and will raise an error in a future version of pandas. Value '[ 2990.    133.3   133.3 13727.  17874. ]' has dtype incompatible with int64, please explicitly cast to a compatible dtype first.\n",
      "  train_df.loc[train_df['N_Days'] > train_df['Age'], 'N_Days'] = train_df['Age']\n"
     ]
    }
   ],
   "source": [
    "# si N_Days > Age, alors N_Days = Age\n",
    "train_df.loc[train_df['N_Days'] > train_df['Age'], 'N_Days'] = train_df['Age']"
   ]
  },
  {
   "cell_type": "code",
   "execution_count": 144,
   "metadata": {},
   "outputs": [
    {
     "data": {
      "text/html": [
       "<div>\n",
       "<style scoped>\n",
       "    .dataframe tbody tr th:only-of-type {\n",
       "        vertical-align: middle;\n",
       "    }\n",
       "\n",
       "    .dataframe tbody tr th {\n",
       "        vertical-align: top;\n",
       "    }\n",
       "\n",
       "    .dataframe thead th {\n",
       "        text-align: right;\n",
       "    }\n",
       "</style>\n",
       "<table border=\"1\" class=\"dataframe\">\n",
       "  <thead>\n",
       "    <tr style=\"text-align: right;\">\n",
       "      <th></th>\n",
       "      <th>id</th>\n",
       "      <th>N_Days</th>\n",
       "      <th>Drug</th>\n",
       "      <th>Age</th>\n",
       "      <th>Sex</th>\n",
       "      <th>Ascites</th>\n",
       "      <th>Hepatomegaly</th>\n",
       "      <th>Spiders</th>\n",
       "      <th>Edema</th>\n",
       "      <th>Bilirubin</th>\n",
       "      <th>Cholesterol</th>\n",
       "      <th>Albumin</th>\n",
       "      <th>Copper</th>\n",
       "      <th>Alk_Phos</th>\n",
       "      <th>SGOT</th>\n",
       "      <th>Tryglicerides</th>\n",
       "      <th>Platelets</th>\n",
       "      <th>Prothrombin</th>\n",
       "      <th>Stage</th>\n",
       "      <th>Status</th>\n",
       "    </tr>\n",
       "  </thead>\n",
       "  <tbody>\n",
       "  </tbody>\n",
       "</table>\n",
       "</div>"
      ],
      "text/plain": [
       "Empty DataFrame\n",
       "Columns: [id, N_Days, Drug, Age, Sex, Ascites, Hepatomegaly, Spiders, Edema, Bilirubin, Cholesterol, Albumin, Copper, Alk_Phos, SGOT, Tryglicerides, Platelets, Prothrombin, Stage, Status]\n",
       "Index: []"
      ]
     },
     "execution_count": 144,
     "metadata": {},
     "output_type": "execute_result"
    }
   ],
   "source": [
    "train_df[train_df['Age']<train_df['N_Days']]\n"
   ]
  },
  {
   "cell_type": "code",
   "execution_count": 145,
   "metadata": {},
   "outputs": [],
   "source": [
    "# probleme avec age qui est en jour\n",
    "train_df['Age'] = round(train_df['Age'] / 365, 0)"
   ]
  },
  {
   "cell_type": "code",
   "execution_count": 146,
   "metadata": {},
   "outputs": [
    {
     "data": {
      "text/plain": [
       "count    15000.000000\n",
       "mean        52.722133\n",
       "std         10.102666\n",
       "min          0.000000\n",
       "25%         45.000000\n",
       "50%         54.000000\n",
       "75%         61.000000\n",
       "max         97.000000\n",
       "Name: Age, dtype: float64"
      ]
     },
     "execution_count": 146,
     "metadata": {},
     "output_type": "execute_result"
    }
   ],
   "source": [
    "train_df['Age'].describe()"
   ]
  },
  {
   "cell_type": "code",
   "execution_count": 147,
   "metadata": {},
   "outputs": [
    {
     "data": {
      "text/plain": [
       "count    15000.00000\n",
       "mean      1965.09144\n",
       "std       1324.79839\n",
       "min          3.00000\n",
       "25%       1092.00000\n",
       "50%       1785.00000\n",
       "75%       2635.00000\n",
       "max      25202.00000\n",
       "Name: N_Days, dtype: float64"
      ]
     },
     "execution_count": 147,
     "metadata": {},
     "output_type": "execute_result"
    }
   ],
   "source": [
    "train_df['N_Days'].describe()"
   ]
  },
  {
   "cell_type": "code",
   "execution_count": 148,
   "metadata": {},
   "outputs": [],
   "source": [
    "# age mettre en int\n",
    "train_df['Age'] = train_df['Age'].astype('int')"
   ]
  },
  {
   "cell_type": "code",
   "execution_count": 149,
   "metadata": {},
   "outputs": [
    {
     "data": {
      "text/plain": [
       "(array([5.000e+00, 1.000e+00, 4.000e+00, 1.000e+00, 0.000e+00, 0.000e+00,\n",
       "        0.000e+00, 0.000e+00, 4.400e+01, 1.080e+02, 6.800e+02, 6.140e+02,\n",
       "        1.296e+03, 1.086e+03, 1.084e+03, 1.374e+03, 1.764e+03, 2.249e+03,\n",
       "        9.850e+02, 2.124e+03, 8.250e+02, 6.280e+02, 4.700e+01, 7.100e+01,\n",
       "        8.000e+00, 0.000e+00, 0.000e+00, 0.000e+00, 0.000e+00, 2.000e+00]),\n",
       " array([ 0.        ,  3.23333333,  6.46666667,  9.7       , 12.93333333,\n",
       "        16.16666667, 19.4       , 22.63333333, 25.86666667, 29.1       ,\n",
       "        32.33333333, 35.56666667, 38.8       , 42.03333333, 45.26666667,\n",
       "        48.5       , 51.73333333, 54.96666667, 58.2       , 61.43333333,\n",
       "        64.66666667, 67.9       , 71.13333333, 74.36666667, 77.6       ,\n",
       "        80.83333333, 84.06666667, 87.3       , 90.53333333, 93.76666667,\n",
       "        97.        ]),\n",
       " <BarContainer object of 30 artists>)"
      ]
     },
     "execution_count": 149,
     "metadata": {},
     "output_type": "execute_result"
    },
    {
     "data": {
      "image/png": "[encoded data removed]",
      "text/plain": [
       "<Figure size 640x480 with 1 Axes>"
      ]
     },
     "metadata": {},
     "output_type": "display_data"
    }
   ],
   "source": [
    "plt.hist(train_df['Age'], bins=30)"
   ]
  },
  {
   "cell_type": "code",
   "execution_count": 150,
   "metadata": {},
   "outputs": [
    {
     "data": {
      "text/plain": [
       "{'whiskers': [<matplotlib.lines.Line2D at 0x11f9ad220>,\n",
       "  <matplotlib.lines.Line2D at 0x11f9ad550>],\n",
       " 'caps': [<matplotlib.lines.Line2D at 0x11f9ad7f0>,\n",
       "  <matplotlib.lines.Line2D at 0x11f9ada90>],\n",
       " 'boxes': [<matplotlib.lines.Line2D at 0x11f9acf50>],\n",
       " 'medians': [<matplotlib.lines.Line2D at 0x11f9add90>],\n",
       " 'fliers': [<matplotlib.lines.Line2D at 0x11f9ae060>],\n",
       " 'means': []}"
      ]
     },
     "execution_count": 150,
     "metadata": {},
     "output_type": "execute_result"
    },
    {
     "data": {
      "image/png": "[encoded data removed]",
      "text/plain": [
       "<Figure size 640x480 with 1 Axes>"
      ]
     },
     "metadata": {},
     "output_type": "display_data"
    }
   ],
   "source": [
    "plt.boxplot(train_df['Age'])"
   ]
  },
  {
   "cell_type": "code",
   "execution_count": 151,
   "metadata": {},
   "outputs": [],
   "source": [
    "# On remarque toujours la présence de valeurs très petites pour l'âge\n",
    "# possible que l'étude ait été faite sur des enfants mais se renseigner quand meme "
   ]
  },
  {
   "cell_type": "code",
   "execution_count": 152,
   "metadata": {},
   "outputs": [
    {
     "data": {
      "text/plain": [
       "np.int64(0)"
      ]
     },
     "execution_count": 152,
     "metadata": {},
     "output_type": "execute_result"
    }
   ],
   "source": [
    "train_df['Age'].min()\n",
    "# 3 ans est ce un age convenable ou trop jeune ?"
   ]
  },
  {
   "cell_type": "markdown",
   "metadata": {},
   "source": [
    "* Sex :"
   ]
  },
  {
   "cell_type": "code",
   "execution_count": 153,
   "metadata": {},
   "outputs": [
    {
     "data": {
      "text/plain": [
       "count     15000\n",
       "unique        2\n",
       "top           F\n",
       "freq      14403\n",
       "Name: Sex, dtype: object"
      ]
     },
     "execution_count": 153,
     "metadata": {},
     "output_type": "execute_result"
    }
   ],
   "source": [
    "train_df['Sex'].describe()\n"
   ]
  },
  {
   "cell_type": "code",
   "execution_count": 154,
   "metadata": {},
   "outputs": [
    {
     "data": {
      "text/plain": [
       "Sex\n",
       "F    0.9602\n",
       "M    0.0398\n",
       "Name: proportion, dtype: float64"
      ]
     },
     "execution_count": 154,
     "metadata": {},
     "output_type": "execute_result"
    }
   ],
   "source": [
    "train_df['Sex'].value_counts(dropna=False, normalize=True) \n",
    "# Prendre en compte dans l'analyse que 97% des individus sont des femmes "
   ]
  },
  {
   "cell_type": "markdown",
   "metadata": {},
   "source": [
    "* Ascites : Présence d’ascite (accumulation de liquide dans la cavité abdominale). Valeurs possibles : Yes, No, ou NA (inconnue)."
   ]
  },
  {
   "cell_type": "code",
   "execution_count": 155,
   "metadata": {},
   "outputs": [
    {
     "data": {
      "text/plain": [
       "count     8563\n",
       "unique       4\n",
       "top          N\n",
       "freq      8178\n",
       "Name: Ascites, dtype: object"
      ]
     },
     "execution_count": 155,
     "metadata": {},
     "output_type": "execute_result"
    }
   ],
   "source": [
    "train_df['Ascites'].describe()"
   ]
  },
  {
   "cell_type": "code",
   "execution_count": 156,
   "metadata": {},
   "outputs": [
    {
     "data": {
      "text/plain": [
       "Ascites\n",
       "N                  8178\n",
       "Y                   383\n",
       "S                     1\n",
       "D-penicillamine       1\n",
       "Name: count, dtype: int64"
      ]
     },
     "execution_count": 156,
     "metadata": {},
     "output_type": "execute_result"
    }
   ],
   "source": [
    "train_df['Ascites'].value_counts()"
   ]
  },
  {
   "cell_type": "code",
   "execution_count": 157,
   "metadata": {},
   "outputs": [
    {
     "name": "stdout",
     "output_type": "stream",
     "text": [
      "NA :  6437\n",
      "Notnull :  8563\n",
      "vide :  0\n"
     ]
    }
   ],
   "source": [
    "# parfois on a des cases vides, ou des cases avec 'NA', 'None', 'nan' mais Python les détecte \n",
    "# pas toujours de la même façon\n",
    "# je fais la somme des NA et des colonnes non nulles pour m'en assurer\n",
    "def case_vide (var):\n",
    "    print(\"NA : \", train_df[var].isna().sum())\n",
    "    print(\"Notnull : \", train_df[var].notnull().sum())\n",
    "    print(\"vide : \", len (train_df) - (train_df[var].isna().sum() + train_df[var].notnull().sum()))\n",
    "\n",
    "case_vide('Ascites')"
   ]
  },
  {
   "cell_type": "code",
   "execution_count": 158,
   "metadata": {},
   "outputs": [
    {
     "data": {
      "text/html": [
       "<div>\n",
       "<style scoped>\n",
       "    .dataframe tbody tr th:only-of-type {\n",
       "        vertical-align: middle;\n",
       "    }\n",
       "\n",
       "    .dataframe tbody tr th {\n",
       "        vertical-align: top;\n",
       "    }\n",
       "\n",
       "    .dataframe thead th {\n",
       "        text-align: right;\n",
       "    }\n",
       "</style>\n",
       "<table border=\"1\" class=\"dataframe\">\n",
       "  <thead>\n",
       "    <tr style=\"text-align: right;\">\n",
       "      <th></th>\n",
       "      <th>id</th>\n",
       "      <th>N_Days</th>\n",
       "      <th>Drug</th>\n",
       "      <th>Age</th>\n",
       "      <th>Sex</th>\n",
       "      <th>Ascites</th>\n",
       "      <th>Hepatomegaly</th>\n",
       "      <th>Spiders</th>\n",
       "      <th>Edema</th>\n",
       "      <th>Bilirubin</th>\n",
       "      <th>Cholesterol</th>\n",
       "      <th>Albumin</th>\n",
       "      <th>Copper</th>\n",
       "      <th>Alk_Phos</th>\n",
       "      <th>SGOT</th>\n",
       "      <th>Tryglicerides</th>\n",
       "      <th>Platelets</th>\n",
       "      <th>Prothrombin</th>\n",
       "      <th>Stage</th>\n",
       "      <th>Status</th>\n",
       "    </tr>\n",
       "  </thead>\n",
       "  <tbody>\n",
       "    <tr>\n",
       "      <th>6245</th>\n",
       "      <td>6245</td>\n",
       "      <td>552.0</td>\n",
       "      <td>Placebo</td>\n",
       "      <td>61</td>\n",
       "      <td>F</td>\n",
       "      <td>S</td>\n",
       "      <td>Y</td>\n",
       "      <td>Y</td>\n",
       "      <td>S</td>\n",
       "      <td>3.6</td>\n",
       "      <td>375.0</td>\n",
       "      <td>3.35</td>\n",
       "      <td>4.0</td>\n",
       "      <td>1110.0</td>\n",
       "      <td>96.1</td>\n",
       "      <td>432.0</td>\n",
       "      <td>354.0</td>\n",
       "      <td>12.4</td>\n",
       "      <td>2.0</td>\n",
       "      <td>D</td>\n",
       "    </tr>\n",
       "    <tr>\n",
       "      <th>7046</th>\n",
       "      <td>7046</td>\n",
       "      <td>3239.0</td>\n",
       "      <td>D-penicillamine</td>\n",
       "      <td>56</td>\n",
       "      <td>F</td>\n",
       "      <td>D-penicillamine</td>\n",
       "      <td>N</td>\n",
       "      <td>N</td>\n",
       "      <td>N</td>\n",
       "      <td>0.6</td>\n",
       "      <td>271.0</td>\n",
       "      <td>3.80</td>\n",
       "      <td>210.0</td>\n",
       "      <td>6456.2</td>\n",
       "      <td>120.9</td>\n",
       "      <td>55.0</td>\n",
       "      <td>467.0</td>\n",
       "      <td>11.0</td>\n",
       "      <td>3.0</td>\n",
       "      <td>C</td>\n",
       "    </tr>\n",
       "  </tbody>\n",
       "</table>\n",
       "</div>"
      ],
      "text/plain": [
       "        id  N_Days             Drug  Age Sex          Ascites Hepatomegaly  \\\n",
       "6245  6245   552.0          Placebo   61   F                S            Y   \n",
       "7046  7046  3239.0  D-penicillamine   56   F  D-penicillamine            N   \n",
       "\n",
       "     Spiders Edema  Bilirubin  Cholesterol  Albumin  Copper  Alk_Phos   SGOT  \\\n",
       "6245       Y     S        3.6        375.0     3.35     4.0    1110.0   96.1   \n",
       "7046       N     N        0.6        271.0     3.80   210.0    6456.2  120.9   \n",
       "\n",
       "      Tryglicerides  Platelets  Prothrombin Stage Status  \n",
       "6245          432.0      354.0         12.4   2.0      D  \n",
       "7046           55.0      467.0         11.0   3.0      C  "
      ]
     },
     "execution_count": 158,
     "metadata": {},
     "output_type": "execute_result"
    }
   ],
   "source": [
    "# regarder les valeurs où on a la modalité S et D-penicillamine:\n",
    "train_df[(train_df['Ascites'] ==\"S\")|(train_df['Ascites'] ==\"D-penicillamine\")]\n"
   ]
  },
  {
   "cell_type": "code",
   "execution_count": 159,
   "metadata": {},
   "outputs": [],
   "source": [
    "# remplacer les modalités 'S' et 'D-penicillamine' par des NaN\n",
    "train_df['Ascites'] = train_df['Ascites'].replace(['S', 'D-penicillamine'], np.nan)"
   ]
  },
  {
   "cell_type": "code",
   "execution_count": 160,
   "metadata": {},
   "outputs": [
    {
     "data": {
      "text/html": [
       "<div>\n",
       "<style scoped>\n",
       "    .dataframe tbody tr th:only-of-type {\n",
       "        vertical-align: middle;\n",
       "    }\n",
       "\n",
       "    .dataframe tbody tr th {\n",
       "        vertical-align: top;\n",
       "    }\n",
       "\n",
       "    .dataframe thead th {\n",
       "        text-align: right;\n",
       "    }\n",
       "</style>\n",
       "<table border=\"1\" class=\"dataframe\">\n",
       "  <thead>\n",
       "    <tr style=\"text-align: right;\">\n",
       "      <th></th>\n",
       "      <th>id</th>\n",
       "      <th>N_Days</th>\n",
       "      <th>Drug</th>\n",
       "      <th>Age</th>\n",
       "      <th>Sex</th>\n",
       "      <th>Ascites</th>\n",
       "      <th>Hepatomegaly</th>\n",
       "      <th>Spiders</th>\n",
       "      <th>Edema</th>\n",
       "      <th>Bilirubin</th>\n",
       "      <th>Cholesterol</th>\n",
       "      <th>Albumin</th>\n",
       "      <th>Copper</th>\n",
       "      <th>Alk_Phos</th>\n",
       "      <th>SGOT</th>\n",
       "      <th>Tryglicerides</th>\n",
       "      <th>Platelets</th>\n",
       "      <th>Prothrombin</th>\n",
       "      <th>Stage</th>\n",
       "      <th>Status</th>\n",
       "    </tr>\n",
       "  </thead>\n",
       "  <tbody>\n",
       "  </tbody>\n",
       "</table>\n",
       "</div>"
      ],
      "text/plain": [
       "Empty DataFrame\n",
       "Columns: [id, N_Days, Drug, Age, Sex, Ascites, Hepatomegaly, Spiders, Edema, Bilirubin, Cholesterol, Albumin, Copper, Alk_Phos, SGOT, Tryglicerides, Platelets, Prothrombin, Stage, Status]\n",
       "Index: []"
      ]
     },
     "execution_count": 160,
     "metadata": {},
     "output_type": "execute_result"
    }
   ],
   "source": [
    "train_df[(train_df['Ascites'] ==\"S\")|(train_df['Ascites'] ==\"D-penicillamine\")]\n"
   ]
  },
  {
   "cell_type": "code",
   "execution_count": 161,
   "metadata": {},
   "outputs": [
    {
     "data": {
      "image/png": "[encoded data removed]",
      "text/plain": [
       "<Figure size 640x480 with 1 Axes>"
      ]
     },
     "metadata": {},
     "output_type": "display_data"
    }
   ],
   "source": [
    "freq=train_df['Ascites'].value_counts(dropna=False, normalize=True)\n",
    "freq.plot(kind='bar')\n",
    "plt.title('Distribution des catégories de Ascites')\n",
    "plt.show()"
   ]
  },
  {
   "cell_type": "markdown",
   "metadata": {},
   "source": [
    "* Hepatomegaly : présence ou non d'une hépatomégalie, qui est une augmentation anormale de la taille du foie"
   ]
  },
  {
   "cell_type": "code",
   "execution_count": 162,
   "metadata": {},
   "outputs": [
    {
     "data": {
      "text/plain": [
       "Hepatomegaly\n",
       "NaN       0.429067\n",
       "N         0.304267\n",
       "Y         0.266600\n",
       "119.35    0.000067\n",
       "Name: proportion, dtype: float64"
      ]
     },
     "execution_count": 162,
     "metadata": {},
     "output_type": "execute_result"
    }
   ],
   "source": [
    "train_df['Hepatomegaly'].value_counts(normalize=True,dropna=False )"
   ]
  },
  {
   "cell_type": "code",
   "execution_count": 163,
   "metadata": {},
   "outputs": [
    {
     "data": {
      "text/html": [
       "<div>\n",
       "<style scoped>\n",
       "    .dataframe tbody tr th:only-of-type {\n",
       "        vertical-align: middle;\n",
       "    }\n",
       "\n",
       "    .dataframe tbody tr th {\n",
       "        vertical-align: top;\n",
       "    }\n",
       "\n",
       "    .dataframe thead th {\n",
       "        text-align: right;\n",
       "    }\n",
       "</style>\n",
       "<table border=\"1\" class=\"dataframe\">\n",
       "  <thead>\n",
       "    <tr style=\"text-align: right;\">\n",
       "      <th></th>\n",
       "      <th>id</th>\n",
       "      <th>N_Days</th>\n",
       "      <th>Drug</th>\n",
       "      <th>Age</th>\n",
       "      <th>Sex</th>\n",
       "      <th>Ascites</th>\n",
       "      <th>Hepatomegaly</th>\n",
       "      <th>Spiders</th>\n",
       "      <th>Edema</th>\n",
       "      <th>Bilirubin</th>\n",
       "      <th>Cholesterol</th>\n",
       "      <th>Albumin</th>\n",
       "      <th>Copper</th>\n",
       "      <th>Alk_Phos</th>\n",
       "      <th>SGOT</th>\n",
       "      <th>Tryglicerides</th>\n",
       "      <th>Platelets</th>\n",
       "      <th>Prothrombin</th>\n",
       "      <th>Stage</th>\n",
       "      <th>Status</th>\n",
       "    </tr>\n",
       "  </thead>\n",
       "  <tbody>\n",
       "    <tr>\n",
       "      <th>2198</th>\n",
       "      <td>2198</td>\n",
       "      <td>110.0</td>\n",
       "      <td>Placebo</td>\n",
       "      <td>61</td>\n",
       "      <td>F</td>\n",
       "      <td>Y</td>\n",
       "      <td>119.35</td>\n",
       "      <td>Y</td>\n",
       "      <td>Y</td>\n",
       "      <td>17.4</td>\n",
       "      <td>NaN</td>\n",
       "      <td>2.31</td>\n",
       "      <td>182.0</td>\n",
       "      <td>1029.0</td>\n",
       "      <td>119.35</td>\n",
       "      <td>NaN</td>\n",
       "      <td>401.0</td>\n",
       "      <td>12.2</td>\n",
       "      <td>4.0</td>\n",
       "      <td>D</td>\n",
       "    </tr>\n",
       "  </tbody>\n",
       "</table>\n",
       "</div>"
      ],
      "text/plain": [
       "        id  N_Days     Drug  Age Sex Ascites Hepatomegaly Spiders Edema  \\\n",
       "2198  2198   110.0  Placebo   61   F       Y       119.35       Y     Y   \n",
       "\n",
       "      Bilirubin  Cholesterol  Albumin  Copper  Alk_Phos    SGOT  \\\n",
       "2198       17.4          NaN     2.31   182.0    1029.0  119.35   \n",
       "\n",
       "      Tryglicerides  Platelets  Prothrombin Stage Status  \n",
       "2198            NaN      401.0         12.2   4.0      D  "
      ]
     },
     "execution_count": 163,
     "metadata": {},
     "output_type": "execute_result"
    }
   ],
   "source": [
    "train_df[train_df['Hepatomegaly']=='119.35']"
   ]
  },
  {
   "cell_type": "code",
   "execution_count": 164,
   "metadata": {},
   "outputs": [],
   "source": [
    "# remplacer les modalités '119.35' par un NA\n",
    "train_df['Hepatomegaly'] = train_df['Hepatomegaly'].replace('119.35', np.nan)"
   ]
  },
  {
   "cell_type": "code",
   "execution_count": 165,
   "metadata": {},
   "outputs": [],
   "source": [
    "train_df = train_df[~(train_df['Hepatomegaly']=='119.35')]"
   ]
  },
  {
   "cell_type": "code",
   "execution_count": 166,
   "metadata": {},
   "outputs": [
    {
     "data": {
      "image/png": "[encoded data removed]",
      "text/plain": [
       "<Figure size 640x480 with 1 Axes>"
      ]
     },
     "metadata": {},
     "output_type": "display_data"
    }
   ],
   "source": [
    "freq=train_df['Hepatomegaly'].value_counts(dropna=False, normalize=True)\n",
    "freq.plot(kind='bar')\n",
    "plt.title('Distribution des catégories de Hepatomegaly')\n",
    "plt.show()"
   ]
  },
  {
   "cell_type": "markdown",
   "metadata": {},
   "source": [
    "* Spiders : présence de spiders angiomas -> signes cliniques courants dans les maladies du foie, notamment dans la cirrhose ou l'hypertension portale."
   ]
  },
  {
   "cell_type": "code",
   "execution_count": 167,
   "metadata": {},
   "outputs": [
    {
     "data": {
      "text/plain": [
       "Spiders\n",
       "N      0.451533\n",
       "NaN    0.429667\n",
       "Y      0.118800\n",
       "Name: proportion, dtype: float64"
      ]
     },
     "execution_count": 167,
     "metadata": {},
     "output_type": "execute_result"
    }
   ],
   "source": [
    "train_df['Spiders'].value_counts(normalize=True,dropna=False )"
   ]
  },
  {
   "cell_type": "code",
   "execution_count": 168,
   "metadata": {},
   "outputs": [
    {
     "data": {
      "image/png": "[encoded data removed]",
      "text/plain": [
       "<Figure size 640x480 with 1 Axes>"
      ]
     },
     "metadata": {},
     "output_type": "display_data"
    }
   ],
   "source": [
    "freq=train_df['Spiders'].value_counts(dropna=False, normalize=True)\n",
    "freq.plot(kind='bar')\n",
    "plt.title('Distribution des catégories de Spiders')\n",
    "plt.show()"
   ]
  },
  {
   "cell_type": "markdown",
   "metadata": {},
   "source": [
    "* Edema : présence d'œdème, qui est un gonflement causé par l'accumulation de liquide dans les tissus du corps"
   ]
  },
  {
   "cell_type": "code",
   "execution_count": 169,
   "metadata": {},
   "outputs": [
    {
     "data": {
      "text/plain": [
       "Edema\n",
       "N    0.921533\n",
       "S    0.054067\n",
       "Y    0.024400\n",
       "Name: proportion, dtype: float64"
      ]
     },
     "execution_count": 169,
     "metadata": {},
     "output_type": "execute_result"
    }
   ],
   "source": [
    "train_df['Edema'].value_counts(normalize=True,dropna=False )\n"
   ]
  },
  {
   "cell_type": "code",
   "execution_count": 170,
   "metadata": {},
   "outputs": [
    {
     "data": {
      "image/png": "[encoded data removed]",
      "text/plain": [
       "<Figure size 640x480 with 1 Axes>"
      ]
     },
     "metadata": {},
     "output_type": "display_data"
    }
   ],
   "source": [
    "freq=train_df['Edema'].value_counts(dropna=False, normalize=True)\n",
    "freq.plot(kind='bar')\n",
    "plt.title('Distribution des catégories de Spiders')\n",
    "plt.show()"
   ]
  },
  {
   "cell_type": "markdown",
   "metadata": {},
   "source": [
    "* Bilirubin : substance chimique produite lors de la dégradation normale des globules rouges. Elle est un indicateur clé de la fonction hépatique, car le foie joue un rôle essentiel dans la transformation et l'élimination de la bilirubine du corps."
   ]
  },
  {
   "cell_type": "code",
   "execution_count": 171,
   "metadata": {},
   "outputs": [
    {
     "data": {
      "text/plain": [
       "count    15000.000000\n",
       "mean         1.861462\n",
       "std          2.752375\n",
       "min          0.300000\n",
       "25%          0.600000\n",
       "50%          0.900000\n",
       "75%          1.800000\n",
       "max         28.000000\n",
       "Name: Bilirubin, dtype: float64"
      ]
     },
     "execution_count": 171,
     "metadata": {},
     "output_type": "execute_result"
    }
   ],
   "source": [
    "train_df['Bilirubin'].describe()\n",
    "# Présence de valeurs extrêmes : anomalie sérieuse. Cela pourrait être associé à des pathologies graves comme une obstruction des voies biliaires, une hépatite aiguë, ou une hémolyse massive.\n",
    "# Moyenne légèrement uspérieur à la normale (0.3 et 1.2 mg/dL)\n",
    "# Ecart type élevé par rapport à la moyenne : grande variabilité des taux de bilirubine dans cette population\n",
    "# 25% des valeurs sont inférieures à 0.6 mg/dL, ce qui est dans la normale.\n",
    "# La médiane (50%) est 0.9 mg/dL, ce qui est également dans la plage normale.\n",
    "# 75% des valeurs sont inférieures à 1.8 mg/dL, ce qui est proche de la limite supérieure normale."
   ]
  },
  {
   "cell_type": "code",
   "execution_count": 172,
   "metadata": {},
   "outputs": [
    {
     "data": {
      "text/plain": [
       "(array([9.662e+03, 2.339e+03, 9.440e+02, 6.630e+02, 3.180e+02, 1.880e+02,\n",
       "        2.040e+02, 1.420e+02, 8.800e+01, 2.600e+01, 4.000e+00, 2.400e+01,\n",
       "        4.900e+01, 2.900e+01, 8.000e+01, 4.200e+01, 2.000e+00, 5.700e+01,\n",
       "        8.700e+01, 1.800e+01, 0.000e+00, 7.000e+00, 0.000e+00, 6.000e+00,\n",
       "        1.000e+01, 0.000e+00, 6.000e+00, 3.000e+00, 0.000e+00, 2.000e+00]),\n",
       " array([ 0.3       ,  1.22333333,  2.14666667,  3.07      ,  3.99333333,\n",
       "         4.91666667,  5.84      ,  6.76333333,  7.68666667,  8.61      ,\n",
       "         9.53333333, 10.45666667, 11.38      , 12.30333333, 13.22666667,\n",
       "        14.15      , 15.07333333, 15.99666667, 16.92      , 17.84333333,\n",
       "        18.76666667, 19.69      , 20.61333333, 21.53666667, 22.46      ,\n",
       "        23.38333333, 24.30666667, 25.23      , 26.15333333, 27.07666667,\n",
       "        28.        ]),\n",
       " <BarContainer object of 30 artists>)"
      ]
     },
     "execution_count": 172,
     "metadata": {},
     "output_type": "execute_result"
    },
    {
     "data": {
      "image/png": "[encoded data removed]",
      "text/plain": [
       "<Figure size 640x480 with 1 Axes>"
      ]
     },
     "metadata": {},
     "output_type": "display_data"
    }
   ],
   "source": [
    "plt.hist(train_df['Bilirubin'], bins=30)"
   ]
  },
  {
   "cell_type": "markdown",
   "metadata": {},
   "source": [
    "* **Cholesterol** : \n",
    "\n",
    "est une substance grasse (lipide) essentielle au bon fonctionnement de l'organisme. Il est impliqué dans la production des hormones, la fabrication des membranes cellulaires et la synthèse de la vitamine D. On distingue deux types principaux :\n",
    "\n",
    "- Le cholestérol LDL (\"mauvais cholestérol\") : en excès, il peut s'accumuler dans les parois des artères et favoriser les maladies cardiovasculaires.\n",
    "\n",
    "- Le cholestérol HDL (\"bon cholestérol\") : il aide à éliminer l'excès de cholestérol LDL en le transportant vers le foie pour être éliminé.\n",
    "\n",
    "Mesures du cholestérol selon le risque cardiovasculaire :\n",
    "\n",
    "Les seuils de cholestérol recommandés varient en fonction du niveau de risque cardiovasculaire (évalué par des facteurs comme l'âge, le tabagisme, l'hypertension, le diabète, ou des antécédents familiaux). Voici les objectifs selon le risque :\n",
    "\n",
    "- Risque faible ou modéré :\\\n",
    "Cholestérol LDL : < 3 g/L (ou 1,15 mmol/L). \\\n",
    "HDL : > 0,4 g/L (ou 1 mmol/L). \\\n",
    "Cholestérol total : < 5 g/L (ou 1,93 mmol/L).\n",
    "\n",
    "- Risque élevé (par exemple, si diabète ou maladie cardiovasculaire légère) :\\\n",
    "LDL : < 2,6 g/L (ou 1 mmol/L).\n",
    "\n",
    "- Risque très élevé (antécédents de maladie cardiovasculaire grave ou facteurs multiples) :\\\n",
    "LDL : < 1,8 g/L (ou 0,7 mmol/L).\n",
    "\n",
    "Prévention et traitement :\n",
    "- Mode de vie : alimentation équilibrée (pauvre en graisses saturées, riche en fibres), activité physique régulière, arrêt du tabac.\n",
    "- Traitements médicaux : si nécessaire, les statines ou autres médicaments hypolipémiants peuvent être prescrits pour atteindre les objectifs.\n",
    "Une consultation médicale régulière est essentielle pour évaluer le risque et ajuster le suivi."
   ]
  },
  {
   "cell_type": "code",
   "execution_count": 173,
   "metadata": {},
   "outputs": [
    {
     "data": {
      "text/plain": [
       "count    6669.000000\n",
       "mean      327.670115\n",
       "std       179.801705\n",
       "min       120.000000\n",
       "25%       242.000000\n",
       "50%       280.000000\n",
       "75%       360.000000\n",
       "max      1790.000000\n",
       "Name: Cholesterol, dtype: float64"
      ]
     },
     "execution_count": 173,
     "metadata": {},
     "output_type": "execute_result"
    }
   ],
   "source": [
    "# Calcul des statistiques basiques. On se rend compte que c'est en dg/dl. \n",
    "train_df['Cholesterol'].describe()"
   ]
  },
  {
   "cell_type": "code",
   "execution_count": 174,
   "metadata": {},
   "outputs": [],
   "source": [
    "# Passage de dg/dL --> g/L\n",
    "train_df['Cholesterol'] = train_df['Cholesterol']/100"
   ]
  },
  {
   "cell_type": "code",
   "execution_count": 175,
   "metadata": {},
   "outputs": [
    {
     "data": {
      "text/plain": [
       "count    6669.000000\n",
       "mean        3.276701\n",
       "std         1.798017\n",
       "min         1.200000\n",
       "25%         2.420000\n",
       "50%         2.800000\n",
       "75%         3.600000\n",
       "max        17.900000\n",
       "Name: Cholesterol, dtype: float64"
      ]
     },
     "execution_count": 175,
     "metadata": {},
     "output_type": "execute_result"
    }
   ],
   "source": [
    "train_df['Cholesterol'].describe()\n",
    "# moyenne relativement basse : bonne santé ou un groupe avec un contrôle strict de leur cholestérol (par exemple, régime ou médicaments).\n",
    "# l'écart-type : variabilité importante dans les taux de cholestérol\n",
    "# valeur extrême : extrêmement élevé et dépasse largement les seuils normaux -> cas graves d'hypercholestérolémie "
   ]
  },
  {
   "cell_type": "code",
   "execution_count": 176,
   "metadata": {},
   "outputs": [
    {
     "data": {
      "text/plain": [
       "15000"
      ]
     },
     "execution_count": 176,
     "metadata": {},
     "output_type": "execute_result"
    }
   ],
   "source": [
    "# Présence importante de valeurs manquantes (55% cf. Statistiques descriptives générales).\n",
    "int(train_df['Cholesterol'].isna().count())"
   ]
  },
  {
   "cell_type": "code",
   "execution_count": 177,
   "metadata": {},
   "outputs": [
    {
     "data": {
      "text/plain": [
       "(array([ 173., 1016., 2350., 1238.,  694.,  466.,  264.,   82.,  135.,\n",
       "          91.,    0.,    0.,   13.,    0.,   36.,   17.,    5.,    7.,\n",
       "          11.,    0.,   14.,    7.,    0.,    0.,   10.,    0.,    5.,\n",
       "           0.,   15.,   20.]),\n",
       " array([ 1.2       ,  1.75666667,  2.31333333,  2.87      ,  3.42666667,\n",
       "         3.98333333,  4.54      ,  5.09666667,  5.65333333,  6.21      ,\n",
       "         6.76666667,  7.32333333,  7.88      ,  8.43666667,  8.99333333,\n",
       "         9.55      , 10.10666667, 10.66333333, 11.22      , 11.77666667,\n",
       "        12.33333333, 12.89      , 13.44666667, 14.00333333, 14.56      ,\n",
       "        15.11666667, 15.67333333, 16.23      , 16.78666667, 17.34333333,\n",
       "        17.9       ]),\n",
       " <BarContainer object of 30 artists>)"
      ]
     },
     "execution_count": 177,
     "metadata": {},
     "output_type": "execute_result"
    },
    {
     "data": {
      "image/png": "[encoded data removed]",
      "text/plain": [
       "<Figure size 640x480 with 1 Axes>"
      ]
     },
     "metadata": {},
     "output_type": "display_data"
    }
   ],
   "source": [
    "plt.hist(train_df['Cholesterol'], bins=30)"
   ]
  },
  {
   "cell_type": "code",
   "execution_count": 178,
   "metadata": {},
   "outputs": [
    {
     "data": {
      "text/plain": [
       "{'whiskers': [<matplotlib.lines.Line2D at 0x11fc1ab10>,\n",
       "  <matplotlib.lines.Line2D at 0x11fc1ae40>],\n",
       " 'caps': [<matplotlib.lines.Line2D at 0x11fc1b140>,\n",
       "  <matplotlib.lines.Line2D at 0x11fc1b470>],\n",
       " 'boxes': [<matplotlib.lines.Line2D at 0x11fbad190>],\n",
       " 'medians': [<matplotlib.lines.Line2D at 0x11fc1b6e0>],\n",
       " 'fliers': [<matplotlib.lines.Line2D at 0x11fc1b980>],\n",
       " 'means': []}"
      ]
     },
     "execution_count": 178,
     "metadata": {},
     "output_type": "execute_result"
    },
    {
     "data": {
      "image/png": "[encoded data removed]",
      "text/plain": [
       "<Figure size 640x480 with 1 Axes>"
      ]
     },
     "metadata": {},
     "output_type": "display_data"
    }
   ],
   "source": [
    "plt.boxplot(train_df['Cholesterol'].dropna())"
   ]
  },
  {
   "cell_type": "code",
   "execution_count": 179,
   "metadata": {},
   "outputs": [],
   "source": [
    "# Relation de Cholesterol avec les autres variables\n",
    "cholesterol_zeros = train_df[train_df['Cholesterol'].isnull()]"
   ]
  },
  {
   "cell_type": "code",
   "execution_count": 180,
   "metadata": {},
   "outputs": [
    {
     "data": {
      "text/plain": [
       "id               8331\n",
       "N_Days           8331\n",
       "Drug             1896\n",
       "Age              8331\n",
       "Sex              8331\n",
       "Ascites          1895\n",
       "Hepatomegaly     1895\n",
       "Spiders          1887\n",
       "Edema            8331\n",
       "Bilirubin        8331\n",
       "Cholesterol         0\n",
       "Albumin          8331\n",
       "Copper           1841\n",
       "Alk_Phos         1890\n",
       "SGOT             1887\n",
       "Tryglicerides       6\n",
       "Platelets        7974\n",
       "Prothrombin      8305\n",
       "Stage            8331\n",
       "Status           8331\n",
       "dtype: int64"
      ]
     },
     "execution_count": 180,
     "metadata": {},
     "output_type": "execute_result"
    }
   ],
   "source": [
    "cholesterol_zeros.count()"
   ]
  },
  {
   "cell_type": "markdown",
   "metadata": {},
   "source": [
    "* **Albumin** :\n",
    "\n",
    "est une protéine produite principalement par le foie. Elle joue un rôle crucial dans le maintien de la pression osmotique (qui empêche les fluides de s'échapper des vaisseaux sanguins), le transport de nombreuses substances (hormones, médicaments, acides gras, etc.) et le bon fonctionnement général du métabolisme.\n",
    "\n",
    "\n",
    "Mesures de l'albumine selon le risque :\n",
    "\n",
    "Le taux d'albumine est évalué par des analyses de sang ou d'urine. Les valeurs normales varient légèrement selon les laboratoires, mais les moyennes sont :\n",
    "\n",
    "Albumine sérique (dans le sang) : \\\n",
    "- Normale : 35 à 50 g/L (3,5 à 5 g/dL). \\\n",
    "- Faible albumine (hypoalbuminémie) : < 35 g/L. Cela peut indiquer des maladies du foie, des reins, une malnutrition ou des inflammations chroniques. \\\n",
    "- Albumine élevée (hyperalbuminémie) : Rare et souvent liée à une déshydratation.\n",
    "\n",
    "Albuminurie (albumine dans les urines) :\\\n",
    "- Normale : < 30 mg/24h.\\\n",
    "- Microalbuminurie (léger excès, signe de risque rénal) : 30-300 mg/24h.\\\n",
    "- Macroalbuminurie (excès important, souvent associé à une maladie rénale avancée) : > 300 mg/24h.\n",
    "\n",
    "Risques associés aux variations de l'albumine :\n",
    "\n",
    "Hypoalbuminémie : Peut indiquer des problèmes tels que : \\\n",
    "- Insuffisance hépatique (cirrhose, hépatite).\\\n",
    "- Maladies rénales (syndrome néphrotique).\\\n",
    "- Malnutrition ou carences sévères.\\\n",
    "- Inflammations chroniques ou cancers.\n",
    "\n",
    "Microalbuminurie : Fréquemment un marqueur précoce de maladies rénales ou d’un risque accru de maladies cardiovasculaires, notamment chez les diabétiques ou hypertendus."
   ]
  },
  {
   "cell_type": "code",
   "execution_count": 181,
   "metadata": {},
   "outputs": [
    {
     "data": {
      "text/plain": [
       "count    15000.000000\n",
       "mean         3.525314\n",
       "std          0.369981\n",
       "min          1.800000\n",
       "25%          3.290000\n",
       "50%          3.580000\n",
       "75%          3.770000\n",
       "max          4.640000\n",
       "Name: Albumin, dtype: float64"
      ]
     },
     "execution_count": 181,
     "metadata": {},
     "output_type": "execute_result"
    }
   ],
   "source": [
    "# Mesure en g/L\n",
    "train_df['Albumin'].describe()\n",
    "# valeur extreme minimale : cas de malnutrition, d'insuffisance hépatique, de syndrome néphrotique ou d'inflammation chronique\n",
    "# le reste semble normal"
   ]
  },
  {
   "cell_type": "code",
   "execution_count": 182,
   "metadata": {},
   "outputs": [
    {
     "data": {
      "text/plain": [
       "(array([1.000e+00, 2.000e+00, 1.000e+00, 9.000e+00, 2.100e+01, 4.000e+01,\n",
       "        4.300e+01, 8.700e+01, 6.200e+01, 6.100e+01, 1.640e+02, 1.840e+02,\n",
       "        9.410e+02, 5.970e+02, 9.370e+02, 8.540e+02, 1.640e+03, 1.243e+03,\n",
       "        7.620e+02, 2.295e+03, 1.457e+03, 1.312e+03, 9.220e+02, 5.210e+02,\n",
       "        4.090e+02, 1.510e+02, 5.300e+01, 1.200e+02, 4.400e+01, 6.700e+01]),\n",
       " array([1.8       , 1.89466667, 1.98933333, 2.084     , 2.17866667,\n",
       "        2.27333333, 2.368     , 2.46266667, 2.55733333, 2.652     ,\n",
       "        2.74666667, 2.84133333, 2.936     , 3.03066667, 3.12533333,\n",
       "        3.22      , 3.31466667, 3.40933333, 3.504     , 3.59866667,\n",
       "        3.69333333, 3.788     , 3.88266667, 3.97733333, 4.072     ,\n",
       "        4.16666667, 4.26133333, 4.356     , 4.45066667, 4.54533333,\n",
       "        4.64      ]),\n",
       " <BarContainer object of 30 artists>)"
      ]
     },
     "execution_count": 182,
     "metadata": {},
     "output_type": "execute_result"
    },
    {
     "data": {
      "image/png": "[encoded data removed]",
      "text/plain": [
       "<Figure size 640x480 with 1 Axes>"
      ]
     },
     "metadata": {},
     "output_type": "display_data"
    }
   ],
   "source": [
    "plt.hist(train_df['Albumin'], bins=30)"
   ]
  },
  {
   "cell_type": "code",
   "execution_count": 183,
   "metadata": {},
   "outputs": [
    {
     "data": {
      "text/plain": [
       "{'whiskers': [<matplotlib.lines.Line2D at 0x11fd219d0>,\n",
       "  <matplotlib.lines.Line2D at 0x11fd21cd0>],\n",
       " 'caps': [<matplotlib.lines.Line2D at 0x11fd21f70>,\n",
       "  <matplotlib.lines.Line2D at 0x11fd221e0>],\n",
       " 'boxes': [<matplotlib.lines.Line2D at 0x11fced190>],\n",
       " 'medians': [<matplotlib.lines.Line2D at 0x11fc4e450>],\n",
       " 'fliers': [<matplotlib.lines.Line2D at 0x11fd226c0>],\n",
       " 'means': []}"
      ]
     },
     "execution_count": 183,
     "metadata": {},
     "output_type": "execute_result"
    },
    {
     "data": {
      "image/png": "[encoded data removed]",
      "text/plain": [
       "<Figure size 640x480 with 1 Axes>"
      ]
     },
     "metadata": {},
     "output_type": "display_data"
    }
   ],
   "source": [
    "plt.boxplot(train_df['Albumin'])"
   ]
  },
  {
   "cell_type": "markdown",
   "metadata": {},
   "source": [
    "* **Copper** :\n",
    "est un oligo-élément essentiel présent en petite quantité dans l'organisme. Il joue un rôle clé dans de nombreux processus biologiques, tels que :\n",
    "\n",
    "- La production d'énergie (fonctionnement des enzymes).\n",
    "- La formation des globules rouges et la régulation du système immunitaire.\n",
    "- La synthèse du collagène et l'entretien des os, des nerfs et des tissus conjonctifs.\n",
    "- Le cuivre est principalement absorbé par l'alimentation et stocké dans le foie.\n",
    "\n",
    "Mesures du cuivre selon le risque :\n",
    "\n",
    "Le taux de cuivre est mesuré dans le sang (cuivre sérique) ou dans l'urine (cuivre urinaire). Les valeurs normales dépendent des laboratoires, mais les moyennes sont :\n",
    "\n",
    "Cuivre sérique (sanguin) :\\\n",
    "- Normale : 70 à 140 µg/dL (11 à 22 µmol/L).\\\n",
    "- Cuivre élevé : Peut indiquer des maladies comme la maladie de Wilson, des intoxications ou des désordres métaboliques.\\\n",
    "- Cuivre bas : Peut être lié à des carences nutritionnelles, des maladies intestinales (malabsorption) ou des troubles génétiques.\\\n",
    "\n",
    "Cuivre urinaire :\\\n",
    "- Utilisé pour détecter des excès ou surveiller la maladie de Wilson.\\\n",
    "- Normale : < 40 µg/24 heures.\\\n",
    "- Élevé : > 100 µg/24 heures, souvent associé à une surcharge de cuivre.\n",
    "\n",
    "Risques liés aux variations de cuivre : \n",
    "\n",
    "Excès de cuivre (hypercuprémie) :\n",
    "\n",
    "- Causes : intoxication au cuivre, maladie de Wilson (trouble génétique causant une accumulation toxique de cuivre dans le foie, le cerveau et les organes).\n",
    "- Symptômes : fatigue, douleurs abdominales, jaunisse, troubles neurologiques.\n",
    "\n",
    "Carence en cuivre (hypocuprémie) :\n",
    "\n",
    "- Causes : malnutrition, malabsorption (ex. : maladie cœliaque, chirurgie intestinale), ou troubles génétiques.\n",
    "- Symptômes : anémie, faiblesse, troubles neurologiques, fragilité osseuse."
   ]
  },
  {
   "cell_type": "code",
   "execution_count": 184,
   "metadata": {},
   "outputs": [
    {
     "data": {
      "text/plain": [
       "count    8452.000000\n",
       "mean       74.715689\n",
       "std        74.211915\n",
       "min         4.000000\n",
       "25%        31.000000\n",
       "50%        52.000000\n",
       "75%        86.000000\n",
       "max       588.000000\n",
       "Name: Copper, dtype: float64"
      ]
     },
     "execution_count": 184,
     "metadata": {},
     "output_type": "execute_result"
    }
   ],
   "source": [
    "# Les mesures semblent être en µg/dL.\n",
    "train_df['Copper'].describe()\n",
    "# Écart-type énorme par rapport à la moyenne : très grande variabilité dans les taux de cuivre. Cela est inhabituel et suggère que certains individus ont des taux de cuivre extrêmement élevés ou extrêmement bas.\n",
    "# 25% des individus ont des taux inférieurs à 31 µg/dL :  très bas et en dehors de la plage normale (déficience probable).\n",
    "# La médiane (50%) est de 52 µg/dL: sous la limite normale pour les adultes (70 µg/dL). Cela suggère que la majorité des individus de cet échantillon ont des niveaux de cuivre insuffisants.\n",
    "# 75% des individus ont des taux inférieurs à 86 µg/dL, ce qui est légèrement dans la norme, mais globalement encore bas.\n",
    "# valeurs extremes maximale :  cas de toxicité au cuivre, ce qui peut survenir dans des situations comme :Maladie de Wilson (accumulation excessive de cuivre), Consommation excessive de cuivre (eau contaminée, compléments alimentaires), Troubles métaboliques rares.\n",
    "# valeurs extremes minimale : peut être associé à des déficiences sévères en cuivre."
   ]
  },
  {
   "cell_type": "code",
   "execution_count": 185,
   "metadata": {},
   "outputs": [
    {
     "data": {
      "text/plain": [
       "6548"
      ]
     },
     "execution_count": 185,
     "metadata": {},
     "output_type": "execute_result"
    }
   ],
   "source": [
    "# Présence importante des NA. \n",
    "int(train_df['Copper'].isna().sum())"
   ]
  },
  {
   "cell_type": "code",
   "execution_count": 186,
   "metadata": {},
   "outputs": [
    {
     "data": {
      "text/plain": [
       "(array([1.317e+03, 2.168e+03, 1.495e+03, 1.258e+03, 4.790e+02, 2.980e+02,\n",
       "        3.090e+02, 2.540e+02, 2.180e+02, 8.500e+01, 1.470e+02, 1.860e+02,\n",
       "        2.700e+01, 4.700e+01, 3.700e+01, 5.000e+00, 1.000e+00, 0.000e+00,\n",
       "        1.100e+01, 1.100e+01, 7.000e+00, 1.000e+00, 1.600e+01, 3.700e+01,\n",
       "        0.000e+00, 0.000e+00, 0.000e+00, 0.000e+00, 1.000e+01, 2.800e+01]),\n",
       " array([  4.        ,  23.46666667,  42.93333333,  62.4       ,\n",
       "         81.86666667, 101.33333333, 120.8       , 140.26666667,\n",
       "        159.73333333, 179.2       , 198.66666667, 218.13333333,\n",
       "        237.6       , 257.06666667, 276.53333333, 296.        ,\n",
       "        315.46666667, 334.93333333, 354.4       , 373.86666667,\n",
       "        393.33333333, 412.8       , 432.26666667, 451.73333333,\n",
       "        471.2       , 490.66666667, 510.13333333, 529.6       ,\n",
       "        549.06666667, 568.53333333, 588.        ]),\n",
       " <BarContainer object of 30 artists>)"
      ]
     },
     "execution_count": 186,
     "metadata": {},
     "output_type": "execute_result"
    },
    {
     "data": {
      "image/png": "[encoded data removed]",
      "text/plain": [
       "<Figure size 640x480 with 1 Axes>"
      ]
     },
     "metadata": {},
     "output_type": "display_data"
    }
   ],
   "source": [
    "plt.hist(train_df['Copper'], bins=30)"
   ]
  },
  {
   "cell_type": "code",
   "execution_count": 187,
   "metadata": {},
   "outputs": [
    {
     "data": {
      "text/plain": [
       "{'whiskers': [<matplotlib.lines.Line2D at 0x11fe07890>,\n",
       "  <matplotlib.lines.Line2D at 0x11fe07b60>],\n",
       " 'caps': [<matplotlib.lines.Line2D at 0x11fe07e30>,\n",
       "  <matplotlib.lines.Line2D at 0x11fe380e0>],\n",
       " 'boxes': [<matplotlib.lines.Line2D at 0x11fe04200>],\n",
       " 'medians': [<matplotlib.lines.Line2D at 0x11fd02d50>],\n",
       " 'fliers': [<matplotlib.lines.Line2D at 0x11fe385c0>],\n",
       " 'means': []}"
      ]
     },
     "execution_count": 187,
     "metadata": {},
     "output_type": "execute_result"
    },
    {
     "data": {
      "image/png": "[encoded data removed]",
      "text/plain": [
       "<Figure size 640x480 with 1 Axes>"
      ]
     },
     "metadata": {},
     "output_type": "display_data"
    }
   ],
   "source": [
    "plt.boxplot(train_df['Copper'].dropna())"
   ]
  },
  {
   "cell_type": "markdown",
   "metadata": {},
   "source": [
    "* **Alk_phos** : \n",
    "\n",
    "sont des enzymes présentes dans plusieurs tissus de l’organisme, principalement dans le foie, les os, les reins et la bile. Elles jouent un rôle essentiel dans le métabolisme, en aidant à décomposer les protéines. Le dosage de l’ALP dans le sang est utilisé pour évaluer la santé du foie et des os.\n",
    "\n",
    "Mesures des phosphatases alcalines selon le risque : \n",
    "\n",
    "Les valeurs normales peuvent varier selon les laboratoires, mais les moyennes sont :\n",
    "\n",
    "Normale : 30 à 120 U/L (unités par litre).\n",
    "\n",
    "ALP élevée (hyperphosphatasémie) :\n",
    "\n",
    "Des niveaux élevés peuvent indiquer :\n",
    "\n",
    "Affections hépatiques :\n",
    "- Cholestase (obstruction des voies biliaires).\n",
    "- Hépatite ou cirrhose.\n",
    "\n",
    "Maladies osseuses :\n",
    "- Maladie de Paget.\n",
    "- Fractures en guérison.\n",
    "- Métastases osseuses.\n",
    "\n",
    "Autres causes : grossesse, maladies inflammatoires ou certains cancers.\n",
    "\n",
    "ALP basse (hypophosphatasémie) :\n",
    "\n",
    "Des niveaux faibles peuvent indiquer :\n",
    "\n",
    "- Déficit nutritionnel : carence en zinc ou en magnésium.\\\n",
    "- Hypophosphatasie : une maladie génétique rare affectant le métabolisme osseux.\\\n",
    "- Troubles endocriniens : hypothyroïdie.\n"
   ]
  },
  {
   "cell_type": "code",
   "execution_count": 188,
   "metadata": {},
   "outputs": [
    {
     "data": {
      "text/plain": [
       "count     8558.000000\n",
       "mean      1667.605282\n",
       "std       1861.746315\n",
       "min         16.000000\n",
       "25%        721.000000\n",
       "50%       1072.000000\n",
       "75%       1691.250000\n",
       "max      19270.000000\n",
       "Name: Alk_Phos, dtype: float64"
      ]
     },
     "execution_count": 188,
     "metadata": {},
     "output_type": "execute_result"
    }
   ],
   "source": [
    "train_df['Alk_Phos'].describe()\n",
    "# moyenne élevée :  population avec des anomalies importantes, telles que des maladies hépatiques, osseuses ou d'autres conditions spécifiques.\n",
    "# écart-type élevé : variabilité importante dans les taux d'alkaline phosphatase.\n",
    "# 25% des valeurs sont inférieures à 70 U/L, ce qui est dans la plage normale.\n",
    "# La médiane (50%) est de 85 U/L, ce qui est également dans la plage normale.\n",
    "# 75% des valeurs sont inférieures à 120 U/L, ce qui est proche de la limite supérieure normale.\n",
    "# valeurs extremes maximale : cas graves de maladies hépatiques, osseuses ou d'autres conditions spécifiques.\n",
    "# valeurs extremes minimale : cas graves de maladies hépatiques, osseuses ou d'autres conditions spécifiques."
   ]
  },
  {
   "cell_type": "code",
   "execution_count": 189,
   "metadata": {},
   "outputs": [
    {
     "data": {
      "text/plain": [
       "6442"
      ]
     },
     "execution_count": 189,
     "metadata": {},
     "output_type": "execute_result"
    }
   ],
   "source": [
    "int(train_df['Alk_Phos'].isna().sum())"
   ]
  },
  {
   "cell_type": "code",
   "execution_count": 190,
   "metadata": {},
   "outputs": [
    {
     "data": {
      "text/plain": [
       "{'whiskers': [<matplotlib.lines.Line2D at 0x11fe6e600>,\n",
       "  <matplotlib.lines.Line2D at 0x11fe6e900>],\n",
       " 'caps': [<matplotlib.lines.Line2D at 0x11fe6ebd0>,\n",
       "  <matplotlib.lines.Line2D at 0x11fe6ee70>],\n",
       " 'boxes': [<matplotlib.lines.Line2D at 0x11fe6e360>],\n",
       " 'medians': [<matplotlib.lines.Line2D at 0x11fe6eff0>],\n",
       " 'fliers': [<matplotlib.lines.Line2D at 0x11fe6f290>],\n",
       " 'means': []}"
      ]
     },
     "execution_count": 190,
     "metadata": {},
     "output_type": "execute_result"
    },
    {
     "data": {
      "image/png": "[encoded data removed]",
      "text/plain": [
       "<Figure size 640x480 with 1 Axes>"
      ]
     },
     "metadata": {},
     "output_type": "display_data"
    }
   ],
   "source": [
    "plt.boxplot(train_df['Alk_Phos'].dropna())"
   ]
  },
  {
   "cell_type": "code",
   "execution_count": 191,
   "metadata": {},
   "outputs": [
    {
     "data": {
      "text/plain": [
       "(array([1.105e+03, 4.468e+03, 1.488e+03, 6.090e+02, 7.500e+01, 1.180e+02,\n",
       "        3.300e+01, 2.200e+01, 1.290e+02, 4.900e+01, 1.430e+02, 9.600e+01,\n",
       "        0.000e+00, 5.400e+01, 8.000e+01, 2.200e+01, 8.000e+00, 4.300e+01,\n",
       "        0.000e+00, 1.000e+01, 0.000e+00, 5.000e+00, 0.000e+00, 0.000e+00,\n",
       "        0.000e+00, 0.000e+00, 0.000e+00, 0.000e+00, 0.000e+00, 1.000e+00]),\n",
       " array([1.60000e+01, 6.57800e+02, 1.29960e+03, 1.94140e+03, 2.58320e+03,\n",
       "        3.22500e+03, 3.86680e+03, 4.50860e+03, 5.15040e+03, 5.79220e+03,\n",
       "        6.43400e+03, 7.07580e+03, 7.71760e+03, 8.35940e+03, 9.00120e+03,\n",
       "        9.64300e+03, 1.02848e+04, 1.09266e+04, 1.15684e+04, 1.22102e+04,\n",
       "        1.28520e+04, 1.34938e+04, 1.41356e+04, 1.47774e+04, 1.54192e+04,\n",
       "        1.60610e+04, 1.67028e+04, 1.73446e+04, 1.79864e+04, 1.86282e+04,\n",
       "        1.92700e+04]),\n",
       " <BarContainer object of 30 artists>)"
      ]
     },
     "execution_count": 191,
     "metadata": {},
     "output_type": "execute_result"
    },
    {
     "data": {
      "image/png": "[encoded data removed]",
      "text/plain": [
       "<Figure size 640x480 with 1 Axes>"
      ]
     },
     "metadata": {},
     "output_type": "display_data"
    }
   ],
   "source": [
    "plt.hist(train_df['Alk_Phos'], bins=30)"
   ]
  },
  {
   "cell_type": "markdown",
   "metadata": {},
   "source": [
    "* **SGOT** : \n",
    "\n",
    "est une enzyme présente principalement dans le foie, les muscles, le cœur et les reins. Elle intervient dans le métabolisme des acides aminés. Son dosage dans le sang est utilisé pour évaluer la santé du foie et détecter d’éventuels dommages aux tissus musculaires ou cardiaques.\n",
    "\n",
    "Mesures du SGOT selon le risque :\n",
    "\n",
    "Les valeurs normales varient selon les laboratoires, mais généralement :\n",
    "\n",
    "Normale : 5 à 40 U/L (unités par litre).\n",
    "\n",
    "SGOT élevé (augmentation de l'AST) :\n",
    "\n",
    "Des niveaux élevés peuvent indiquer :\n",
    "\n",
    "Affections hépatiques :\n",
    "\n",
    "- Hépatite aiguë ou chronique.\n",
    "- Cirrhose ou stéatose hépatique (foie gras).\n",
    "- Dommages liés à l'alcool ou aux médicaments.\n",
    "\n",
    "Problèmes cardiaques :\n",
    "\n",
    "Infarctus du myocarde (crise cardiaque).\n",
    "\n",
    "Dommages musculaires :\n",
    "\n",
    "- Myopathies ou blessures musculaires.\n",
    "\n",
    "Autres causes : maladies métaboliques, pancréatite, hémolyse.\n",
    "\n",
    "SGOT bas :\n",
    "\n",
    "Un SGOT faible est rarement préoccupant mais peut être observé en cas de carence en vitamine B6."
   ]
  },
  {
   "cell_type": "code",
   "execution_count": 192,
   "metadata": {},
   "outputs": [
    {
     "data": {
      "text/plain": [
       "count    8555.000000\n",
       "mean      106.579545\n",
       "std        56.493338\n",
       "min         8.000000\n",
       "25%        71.000000\n",
       "50%        97.650000\n",
       "75%       133.300000\n",
       "max      2148.000000\n",
       "Name: SGOT, dtype: float64"
      ]
     },
     "execution_count": 192,
     "metadata": {},
     "output_type": "execute_result"
    }
   ],
   "source": [
    "# (AST - Aspartate Aminotransferase), un marqueur enzymatique lié à la santé du foie et des muscles. Mesuré en U/L.\n",
    "train_df['SGOT'].describe()\n",
    "# moyenne élevée : souvent associées à des dommages tissulaires, en particulier au foie ou aux muscles.\n",
    "# écart-type est de 56.51 U/L : variabilité significative des taux \n",
    "# valeur extreme maximale : peut indiquer des lésions graves\n",
    "# valeur extreme minimale : indique qu'il y a aussi des individus en bonne santé"
   ]
  },
  {
   "cell_type": "code",
   "execution_count": 193,
   "metadata": {},
   "outputs": [
    {
     "data": {
      "text/plain": [
       "(array([3.260e+03, 3.971e+03, 1.143e+03, 9.200e+01, 6.600e+01, 0.000e+00,\n",
       "        1.700e+01, 0.000e+00, 4.000e+00, 0.000e+00, 0.000e+00, 0.000e+00,\n",
       "        0.000e+00, 0.000e+00, 0.000e+00, 0.000e+00, 1.000e+00, 0.000e+00,\n",
       "        0.000e+00, 0.000e+00, 0.000e+00, 0.000e+00, 0.000e+00, 0.000e+00,\n",
       "        0.000e+00, 0.000e+00, 0.000e+00, 0.000e+00, 0.000e+00, 1.000e+00]),\n",
       " array([   8.        ,   79.33333333,  150.66666667,  222.        ,\n",
       "         293.33333333,  364.66666667,  436.        ,  507.33333333,\n",
       "         578.66666667,  650.        ,  721.33333333,  792.66666667,\n",
       "         864.        ,  935.33333333, 1006.66666667, 1078.        ,\n",
       "        1149.33333333, 1220.66666667, 1292.        , 1363.33333333,\n",
       "        1434.66666667, 1506.        , 1577.33333333, 1648.66666667,\n",
       "        1720.        , 1791.33333333, 1862.66666667, 1934.        ,\n",
       "        2005.33333333, 2076.66666667, 2148.        ]),\n",
       " <BarContainer object of 30 artists>)"
      ]
     },
     "execution_count": 193,
     "metadata": {},
     "output_type": "execute_result"
    },
    {
     "data": {
      "image/png": "[encoded data removed]",
      "text/plain": [
       "<Figure size 640x480 with 1 Axes>"
      ]
     },
     "metadata": {},
     "output_type": "display_data"
    }
   ],
   "source": [
    "plt.hist(train_df['SGOT'], bins=30)"
   ]
  },
  {
   "cell_type": "code",
   "execution_count": 194,
   "metadata": {},
   "outputs": [
    {
     "data": {
      "text/plain": [
       "{'whiskers': [<matplotlib.lines.Line2D at 0x11f9ac470>,\n",
       "  <matplotlib.lines.Line2D at 0x11f9ae690>],\n",
       " 'caps': [<matplotlib.lines.Line2D at 0x11f830170>,\n",
       "  <matplotlib.lines.Line2D at 0x11f8336e0>],\n",
       " 'boxes': [<matplotlib.lines.Line2D at 0x11f9aec30>],\n",
       " 'medians': [<matplotlib.lines.Line2D at 0x11f832a20>],\n",
       " 'fliers': [<matplotlib.lines.Line2D at 0x11f846960>],\n",
       " 'means': []}"
      ]
     },
     "execution_count": 194,
     "metadata": {},
     "output_type": "execute_result"
    },
    {
     "data": {
      "image/png": "[encoded data removed]",
      "text/plain": [
       "<Figure size 640x480 with 1 Axes>"
      ]
     },
     "metadata": {},
     "output_type": "display_data"
    }
   ],
   "source": [
    "plt.boxplot(train_df['SGOT'].dropna())"
   ]
  },
  {
   "cell_type": "markdown",
   "metadata": {},
   "source": [
    "* **Tryglicerides**\n"
   ]
  },
  {
   "cell_type": "code",
   "execution_count": 195,
   "metadata": {},
   "outputs": [
    {
     "data": {
      "text/plain": [
       "count    6630.000000\n",
       "mean      110.297097\n",
       "std        49.676146\n",
       "min        33.000000\n",
       "25%        80.000000\n",
       "50%        99.000000\n",
       "75%       133.000000\n",
       "max       598.000000\n",
       "Name: Tryglicerides, dtype: float64"
      ]
     },
     "execution_count": 195,
     "metadata": {},
     "output_type": "execute_result"
    }
   ],
   "source": [
    "# évaluer les risques cardiovasculaires et métaboliques (lié au cholestérole . Mesure en mg/dL\n",
    "train_df['Tryglicerides'].describe()\n",
    "# moyenne normale\n",
    "# écart type normal\n",
    "# 25% des individus ont des triglycérides inférieurs à 80 mg/dL, ce qui est excellent et bien en dessous des limites normales.\n",
    "# médiane (50%) est de 99 mg/dL, indiquant que la moitié des individus ont des triglycérides dans une plage normale et saine.\n",
    "# 75% des individus ont des triglycérides inférieurs à 133 mg/dL, ce qui est également en dessous du seuil de 150 mg/dL pour des niveaux normaux.\n",
    "# valeur extreme maximale : extrêmement élevé. Cela peut être dû à : Hypertriglycéridémie primaire (trouble génétique), Diabète mal contrôlé, Consommation excessive d'alcool, Syndrome métabolique ou obésité.\n",
    "# valeur extreme minimale : très bas mais peut être normal chez certaines personnes ."
   ]
  },
  {
   "cell_type": "code",
   "execution_count": 196,
   "metadata": {},
   "outputs": [
    {
     "data": {
      "text/plain": [
       "(array([  95., 1162., 1279., 1585.,  694.,  532.,  494.,  268.,  182.,\n",
       "         122.,   95.,   16.,   45.,    7.,    7.,   25.,    0.,    0.,\n",
       "           3.,    0.,    0.,   14.,    0.,    0.,    0.,    0.,    0.,\n",
       "           0.,    0.,    5.]),\n",
       " array([ 33.        ,  51.83333333,  70.66666667,  89.5       ,\n",
       "        108.33333333, 127.16666667, 146.        , 164.83333333,\n",
       "        183.66666667, 202.5       , 221.33333333, 240.16666667,\n",
       "        259.        , 277.83333333, 296.66666667, 315.5       ,\n",
       "        334.33333333, 353.16666667, 372.        , 390.83333333,\n",
       "        409.66666667, 428.5       , 447.33333333, 466.16666667,\n",
       "        485.        , 503.83333333, 522.66666667, 541.5       ,\n",
       "        560.33333333, 579.16666667, 598.        ]),\n",
       " <BarContainer object of 30 artists>)"
      ]
     },
     "execution_count": 196,
     "metadata": {},
     "output_type": "execute_result"
    },
    {
     "data": {
      "image/png": "[encoded data removed]",
      "text/plain": [
       "<Figure size 640x480 with 1 Axes>"
      ]
     },
     "metadata": {},
     "output_type": "display_data"
    }
   ],
   "source": [
    "plt.hist(train_df['Tryglicerides'], bins=30)"
   ]
  },
  {
   "cell_type": "code",
   "execution_count": 197,
   "metadata": {},
   "outputs": [
    {
     "data": {
      "text/plain": [
       "{'whiskers': [<matplotlib.lines.Line2D at 0x11ecf6540>,\n",
       "  <matplotlib.lines.Line2D at 0x11ecf7bc0>],\n",
       " 'caps': [<matplotlib.lines.Line2D at 0x11ecf5be0>,\n",
       "  <matplotlib.lines.Line2D at 0x11ecf4470>],\n",
       " 'boxes': [<matplotlib.lines.Line2D at 0x11ed1b770>],\n",
       " 'medians': [<matplotlib.lines.Line2D at 0x11ecad430>],\n",
       " 'fliers': [<matplotlib.lines.Line2D at 0x11ecac230>],\n",
       " 'means': []}"
      ]
     },
     "execution_count": 197,
     "metadata": {},
     "output_type": "execute_result"
    },
    {
     "data": {
      "image/png": "[encoded data removed]",
      "text/plain": [
       "<Figure size 640x480 with 1 Axes>"
      ]
     },
     "metadata": {},
     "output_type": "display_data"
    }
   ],
   "source": [
    "plt.boxplot(train_df['Tryglicerides'].dropna())"
   ]
  },
  {
   "cell_type": "markdown",
   "metadata": {},
   "source": [
    "* **Platelets**"
   ]
  },
  {
   "cell_type": "code",
   "execution_count": 198,
   "metadata": {},
   "outputs": [
    {
     "data": {
      "text/plain": [
       "count    14414.000000\n",
       "mean       253.822027\n",
       "std         94.074989\n",
       "min          0.400000\n",
       "25%        183.000000\n",
       "50%        251.000000\n",
       "75%        312.000000\n",
       "max        724.000000\n",
       "Name: Platelets, dtype: float64"
      ]
     },
     "execution_count": 198,
     "metadata": {},
     "output_type": "execute_result"
    }
   ],
   "source": [
    "# Analyse des valeurs de plaquettes. Mesure : × 10³/µL\n",
    "train_df['Platelets'].describe()\n",
    "# moyenne normale\n",
    "# écart type normal\n",
    "# valeurs extremes maximale : considérablement élevé et peut être classé comme thrombocytose.\n",
    "# valeurs extremes minimale : basse et représente une thrombopénie sévère"
   ]
  },
  {
   "cell_type": "code",
   "execution_count": 199,
   "metadata": {},
   "outputs": [
    {
     "data": {
      "text/plain": [
       "(array([   3.,    3.,   41.,  301.,  644., 1037., 1119.,  931.,  992.,\n",
       "        1603., 1574., 1520., 1190., 1055.,  743.,  299.,  272.,  589.,\n",
       "         197.,  128.,   27.,   46.,   46.,   39.,    0.,    0.,    0.,\n",
       "           0.,    0.,   15.]),\n",
       " array([4.0000e-01, 2.4520e+01, 4.8640e+01, 7.2760e+01, 9.6880e+01,\n",
       "        1.2100e+02, 1.4512e+02, 1.6924e+02, 1.9336e+02, 2.1748e+02,\n",
       "        2.4160e+02, 2.6572e+02, 2.8984e+02, 3.1396e+02, 3.3808e+02,\n",
       "        3.6220e+02, 3.8632e+02, 4.1044e+02, 4.3456e+02, 4.5868e+02,\n",
       "        4.8280e+02, 5.0692e+02, 5.3104e+02, 5.5516e+02, 5.7928e+02,\n",
       "        6.0340e+02, 6.2752e+02, 6.5164e+02, 6.7576e+02, 6.9988e+02,\n",
       "        7.2400e+02]),\n",
       " <BarContainer object of 30 artists>)"
      ]
     },
     "execution_count": 199,
     "metadata": {},
     "output_type": "execute_result"
    },
    {
     "data": {
      "image/png": "[encoded data removed]",
      "text/plain": [
       "<Figure size 640x480 with 1 Axes>"
      ]
     },
     "metadata": {},
     "output_type": "display_data"
    }
   ],
   "source": [
    "plt.hist(train_df['Platelets'], bins=30)"
   ]
  },
  {
   "cell_type": "code",
   "execution_count": 200,
   "metadata": {},
   "outputs": [
    {
     "data": {
      "text/plain": [
       "{'whiskers': [<matplotlib.lines.Line2D at 0x13887b500>,\n",
       "  <matplotlib.lines.Line2D at 0x13887b7a0>],\n",
       " 'caps': [<matplotlib.lines.Line2D at 0x13887b950>,\n",
       "  <matplotlib.lines.Line2D at 0x13887bbc0>],\n",
       " 'boxes': [<matplotlib.lines.Line2D at 0x11fba32c0>],\n",
       " 'medians': [<matplotlib.lines.Line2D at 0x13887be90>],\n",
       " 'fliers': [<matplotlib.lines.Line2D at 0x1388ac170>],\n",
       " 'means': []}"
      ]
     },
     "execution_count": 200,
     "metadata": {},
     "output_type": "execute_result"
    },
    {
     "data": {
      "image/png": "[encoded data removed]",
      "text/plain": [
       "<Figure size 640x480 with 1 Axes>"
      ]
     },
     "metadata": {},
     "output_type": "display_data"
    }
   ],
   "source": [
    "plt.boxplot(train_df['Platelets'].dropna())"
   ]
  },
  {
   "cell_type": "markdown",
   "metadata": {},
   "source": [
    "* **Prothrombin**"
   ]
  },
  {
   "cell_type": "code",
   "execution_count": 201,
   "metadata": {},
   "outputs": [
    {
     "data": {
      "text/plain": [
       "count    14974.000000\n",
       "mean        10.627748\n",
       "std          0.741888\n",
       "min          7.100000\n",
       "25%         10.100000\n",
       "50%         10.600000\n",
       "75%         11.000000\n",
       "max         18.000000\n",
       "Name: Prothrombin, dtype: float64"
      ]
     },
     "execution_count": 201,
     "metadata": {},
     "output_type": "execute_result"
    }
   ],
   "source": [
    "# Indicateur de la coagulation sanguine et de la fonction hépatique. Mesure en secondes\n",
    "train_df['Prothrombin'].describe()\n",
    "# moyenne normale\n",
    "# écart type normal\n",
    "# valeurs extremes maximale : considérablement élevé et peut être un signe d'anomalies importantes.\n",
    "# valeurs extremes minimale : "
   ]
  },
  {
   "cell_type": "markdown",
   "metadata": {},
   "source": [
    "* **Stage**"
   ]
  },
  {
   "cell_type": "code",
   "execution_count": 202,
   "metadata": {},
   "outputs": [
    {
     "data": {
      "text/plain": [
       "Stage\n",
       "3.0    0.376267\n",
       "4.0    0.349267\n",
       "2.0    0.225333\n",
       "1.0    0.049133\n",
       "Name: proportion, dtype: float64"
      ]
     },
     "execution_count": 202,
     "metadata": {},
     "output_type": "execute_result"
    }
   ],
   "source": [
    "# Pas de valeurs manquantes pour cette variable\n",
    "train_df['Stage'].value_counts(normalize=True, dropna=False)"
   ]
  },
  {
   "cell_type": "code",
   "execution_count": 203,
   "metadata": {},
   "outputs": [
    {
     "data": {
      "image/png": "[encoded data removed]",
      "text/plain": [
       "<Figure size 640x480 with 1 Axes>"
      ]
     },
     "metadata": {},
     "output_type": "display_data"
    }
   ],
   "source": [
    "freq=train_df['Stage'].value_counts(dropna=False, normalize=True)\n",
    "freq.plot(kind='bar')\n",
    "plt.title('Distribution des catégories de Stage')\n",
    "plt.show()"
   ]
  },
  {
   "cell_type": "markdown",
   "metadata": {},
   "source": [
    "* **Status**"
   ]
  },
  {
   "cell_type": "code",
   "execution_count": 204,
   "metadata": {},
   "outputs": [
    {
     "data": {
      "text/plain": [
       "Status\n",
       "C     10049\n",
       "D      4560\n",
       "CL      391\n",
       "Name: count, dtype: int64"
      ]
     },
     "execution_count": 204,
     "metadata": {},
     "output_type": "execute_result"
    }
   ],
   "source": [
    "# visualisation de la variable cible :\n",
    "train_df['Status'].value_counts()\n",
    "# les classes sont déséquilibrées (en tenir compte lors de la modélisation)\n",
    "# pas de valeurs manquantes"
   ]
  },
  {
   "cell_type": "code",
   "execution_count": 205,
   "metadata": {},
   "outputs": [
    {
     "data": {
      "image/png": "[encoded data removed]",
      "text/plain": [
       "<Figure size 640x480 with 1 Axes>"
      ]
     },
     "metadata": {},
     "output_type": "display_data"
    }
   ],
   "source": [
    "freq=train_df['Status'].value_counts(dropna=False, normalize=True)\n",
    "freq.plot(kind='bar')\n",
    "plt.title('Distribution des catégories de Status')\n",
    "plt.show()"
   ]
  },
  {
   "cell_type": "code",
   "execution_count": 206,
   "metadata": {},
   "outputs": [
    {
     "data": {
      "text/plain": [
       "(15000, 20)"
      ]
     },
     "execution_count": 206,
     "metadata": {},
     "output_type": "execute_result"
    }
   ],
   "source": [
    "train_df.shape"
   ]
  },
  {
   "cell_type": "code",
   "execution_count": null,
   "metadata": {},
   "outputs": [],
   "source": []
  }
 ],
 "metadata": {
  "kernelspec": {
   "display_name": ".venv",
   "language": "python",
   "name": "python3"
  },
  "language_info": {
   "codemirror_mode": {
    "name": "ipython",
    "version": 3
   },
   "file_extension": ".py",
   "mimetype": "text/x-python",
   "name": "python",
   "nbconvert_exporter": "python",
   "pygments_lexer": "ipython3",
   "version": "3.12.8"
  }
 },
 "nbformat": 4,
 "nbformat_minor": 2
}

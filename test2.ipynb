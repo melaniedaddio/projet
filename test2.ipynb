{
 "cells": [
  {
   "cell_type": "code",
   "execution_count": 63,
   "metadata": {},
   "outputs": [
    {
     "name": "stdout",
     "output_type": "stream",
     "text": [
      "/Users/tavsiev/Desktop/projet_kaggle/projet/classification-multi-classes/test.csv\n",
      "/Users/tavsiev/Desktop/projet_kaggle/projet/classification-multi-classes/train_df_clean.csv\n",
      "/Users/tavsiev/Desktop/projet_kaggle/projet/classification-multi-classes/test_df_clean.csv\n",
      "/Users/tavsiev/Desktop/projet_kaggle/projet/classification-multi-classes/train.csv\n",
      "/Users/tavsiev/Desktop/projet_kaggle/projet/classification-multi-classes/sample_submission.csv\n"
     ]
    }
   ],
   "source": [
    "import pandas as pd  \n",
    "import numpy as np  \n",
    "import statsmodels.api as sm\n",
    "from numpy import median\n",
    "from numpy import mean\n",
    "\n",
    "import os\n",
    "for dirname, _, filenames in os.walk('/Users/tavsiev/Desktop/projet_kaggle/projet/classification-multi-classes'):\n",
    "    for filename in filenames:\n",
    "        print(os.path.join(dirname, filename))\n",
    "\n",
    "from sklearn.model_selection import train_test_split \n",
    "from sklearn.metrics import accuracy_score\n",
    "from sklearn.linear_model import LogisticRegression \n",
    "#from xgboost import XGBClassifier\n",
    "from sklearn.metrics import log_loss, classification_report \n",
    "from sklearn.feature_selection import SelectKBest, f_regression\n",
    "from sklearn.preprocessing import LabelEncoder\n",
    "from sklearn.impute import SimpleImputer\n",
    "from sklearn.preprocessing import PowerTransformer\n",
    "from sklearn.preprocessing import StandardScaler\n",
    "from sklearn.impute import KNNImputer\n",
    "from sklearn.model_selection import StratifiedKFold, cross_val_score\n",
    "from sklearn.utils.class_weight import compute_class_weight\n",
    "from sklearn.linear_model import LogisticRegression\n",
    "from sklearn.metrics import log_loss, classification_report\n",
    "from sklearn.tree import DecisionTreeClassifier\n",
    "from sklearn.ensemble import RandomForestClassifier\n",
    "\n",
    "import matplotlib.pyplot as plt\n",
    "import seaborn as sns\n",
    "\n",
    "# https://www.kaggle.com/code/abhirupghosh184098/cirrhosis-predictor-eda-ensemble-nn\n",
    "# https://www.kaggle.com/code/ashishkumarak/ps3e26-liver-cirrhosis-eda-model"
   ]
  },
  {
   "cell_type": "code",
   "execution_count": 2,
   "metadata": {},
   "outputs": [
    {
     "data": {
      "text/plain": [
       "((15000, 20), (10000, 19))"
      ]
     },
     "execution_count": 2,
     "metadata": {},
     "output_type": "execute_result"
    }
   ],
   "source": [
    "train = pd.read_csv(\"/Users/tavsiev/Desktop/projet_kaggle/projet/classification-multi-classes/train_df_clean.csv\", \n",
    "                      delimiter = \",\",\n",
    "                      header = 0)\n",
    "\n",
    "test = pd.read_csv(\"/Users/tavsiev/Desktop/projet_kaggle/projet/classification-multi-classes/test_df_clean.csv\", \n",
    "                      delimiter = \",\",\n",
    "                      header = 0)\n",
    "\n",
    "train.shape, test.shape # manque la colonne Status"
   ]
  },
  {
   "cell_type": "markdown",
   "metadata": {},
   "source": [
    "## Partie Train"
   ]
  },
  {
   "cell_type": "code",
   "execution_count": 3,
   "metadata": {},
   "outputs": [
    {
     "data": {
      "text/html": [
       "<div>\n",
       "<style scoped>\n",
       "    .dataframe tbody tr th:only-of-type {\n",
       "        vertical-align: middle;\n",
       "    }\n",
       "\n",
       "    .dataframe tbody tr th {\n",
       "        vertical-align: top;\n",
       "    }\n",
       "\n",
       "    .dataframe thead th {\n",
       "        text-align: right;\n",
       "    }\n",
       "</style>\n",
       "<table border=\"1\" class=\"dataframe\">\n",
       "  <thead>\n",
       "    <tr style=\"text-align: right;\">\n",
       "      <th></th>\n",
       "      <th>id</th>\n",
       "      <th>N_Days</th>\n",
       "      <th>Drug</th>\n",
       "      <th>Age</th>\n",
       "      <th>Sex</th>\n",
       "      <th>Ascites</th>\n",
       "      <th>Hepatomegaly</th>\n",
       "      <th>Spiders</th>\n",
       "      <th>Edema</th>\n",
       "      <th>Bilirubin</th>\n",
       "      <th>Cholesterol</th>\n",
       "      <th>Albumin</th>\n",
       "      <th>Copper</th>\n",
       "      <th>Alk_Phos</th>\n",
       "      <th>SGOT</th>\n",
       "      <th>Tryglicerides</th>\n",
       "      <th>Platelets</th>\n",
       "      <th>Prothrombin</th>\n",
       "      <th>Stage</th>\n",
       "      <th>Status</th>\n",
       "    </tr>\n",
       "  </thead>\n",
       "  <tbody>\n",
       "    <tr>\n",
       "      <th>0</th>\n",
       "      <td>0</td>\n",
       "      <td>1055.0</td>\n",
       "      <td>NaN</td>\n",
       "      <td>54</td>\n",
       "      <td>F</td>\n",
       "      <td>NaN</td>\n",
       "      <td>NaN</td>\n",
       "      <td>NaN</td>\n",
       "      <td>N</td>\n",
       "      <td>1.3</td>\n",
       "      <td>NaN</td>\n",
       "      <td>3.64</td>\n",
       "      <td>NaN</td>\n",
       "      <td>NaN</td>\n",
       "      <td>NaN</td>\n",
       "      <td>NaN</td>\n",
       "      <td>209.0</td>\n",
       "      <td>10.5</td>\n",
       "      <td>3.0</td>\n",
       "      <td>C</td>\n",
       "    </tr>\n",
       "    <tr>\n",
       "      <th>1</th>\n",
       "      <td>1</td>\n",
       "      <td>3282.0</td>\n",
       "      <td>Placebo</td>\n",
       "      <td>49</td>\n",
       "      <td>F</td>\n",
       "      <td>N</td>\n",
       "      <td>Y</td>\n",
       "      <td>Y</td>\n",
       "      <td>N</td>\n",
       "      <td>0.7</td>\n",
       "      <td>3.09</td>\n",
       "      <td>3.60</td>\n",
       "      <td>96.0</td>\n",
       "      <td>1142.0</td>\n",
       "      <td>71.3</td>\n",
       "      <td>106.0</td>\n",
       "      <td>240.0</td>\n",
       "      <td>12.4</td>\n",
       "      <td>4.0</td>\n",
       "      <td>C</td>\n",
       "    </tr>\n",
       "    <tr>\n",
       "      <th>2</th>\n",
       "      <td>2</td>\n",
       "      <td>1653.0</td>\n",
       "      <td>NaN</td>\n",
       "      <td>56</td>\n",
       "      <td>F</td>\n",
       "      <td>NaN</td>\n",
       "      <td>NaN</td>\n",
       "      <td>NaN</td>\n",
       "      <td>N</td>\n",
       "      <td>2.2</td>\n",
       "      <td>NaN</td>\n",
       "      <td>3.64</td>\n",
       "      <td>NaN</td>\n",
       "      <td>NaN</td>\n",
       "      <td>NaN</td>\n",
       "      <td>NaN</td>\n",
       "      <td>139.0</td>\n",
       "      <td>9.5</td>\n",
       "      <td>2.0</td>\n",
       "      <td>C</td>\n",
       "    </tr>\n",
       "    <tr>\n",
       "      <th>3</th>\n",
       "      <td>3</td>\n",
       "      <td>999.0</td>\n",
       "      <td>D-penicillamine</td>\n",
       "      <td>62</td>\n",
       "      <td>F</td>\n",
       "      <td>N</td>\n",
       "      <td>Y</td>\n",
       "      <td>N</td>\n",
       "      <td>N</td>\n",
       "      <td>1.0</td>\n",
       "      <td>4.98</td>\n",
       "      <td>3.35</td>\n",
       "      <td>89.0</td>\n",
       "      <td>1601.0</td>\n",
       "      <td>164.3</td>\n",
       "      <td>85.0</td>\n",
       "      <td>394.0</td>\n",
       "      <td>9.7</td>\n",
       "      <td>3.0</td>\n",
       "      <td>C</td>\n",
       "    </tr>\n",
       "    <tr>\n",
       "      <th>4</th>\n",
       "      <td>4</td>\n",
       "      <td>2202.0</td>\n",
       "      <td>NaN</td>\n",
       "      <td>49</td>\n",
       "      <td>F</td>\n",
       "      <td>NaN</td>\n",
       "      <td>NaN</td>\n",
       "      <td>NaN</td>\n",
       "      <td>N</td>\n",
       "      <td>17.2</td>\n",
       "      <td>NaN</td>\n",
       "      <td>3.15</td>\n",
       "      <td>NaN</td>\n",
       "      <td>NaN</td>\n",
       "      <td>NaN</td>\n",
       "      <td>NaN</td>\n",
       "      <td>432.0</td>\n",
       "      <td>11.2</td>\n",
       "      <td>3.0</td>\n",
       "      <td>C</td>\n",
       "    </tr>\n",
       "  </tbody>\n",
       "</table>\n",
       "</div>"
      ],
      "text/plain": [
       "   id  N_Days             Drug  Age Sex Ascites Hepatomegaly Spiders Edema  \\\n",
       "0   0  1055.0              NaN   54   F     NaN          NaN     NaN     N   \n",
       "1   1  3282.0          Placebo   49   F       N            Y       Y     N   \n",
       "2   2  1653.0              NaN   56   F     NaN          NaN     NaN     N   \n",
       "3   3   999.0  D-penicillamine   62   F       N            Y       N     N   \n",
       "4   4  2202.0              NaN   49   F     NaN          NaN     NaN     N   \n",
       "\n",
       "   Bilirubin  Cholesterol  Albumin  Copper  Alk_Phos   SGOT  Tryglicerides  \\\n",
       "0        1.3          NaN     3.64     NaN       NaN    NaN            NaN   \n",
       "1        0.7         3.09     3.60    96.0    1142.0   71.3          106.0   \n",
       "2        2.2          NaN     3.64     NaN       NaN    NaN            NaN   \n",
       "3        1.0         4.98     3.35    89.0    1601.0  164.3           85.0   \n",
       "4       17.2          NaN     3.15     NaN       NaN    NaN            NaN   \n",
       "\n",
       "   Platelets  Prothrombin  Stage Status  \n",
       "0      209.0         10.5    3.0      C  \n",
       "1      240.0         12.4    4.0      C  \n",
       "2      139.0          9.5    2.0      C  \n",
       "3      394.0          9.7    3.0      C  \n",
       "4      432.0         11.2    3.0      C  "
      ]
     },
     "execution_count": 3,
     "metadata": {},
     "output_type": "execute_result"
    }
   ],
   "source": [
    "train1 = train.copy()\n",
    "train1.head()"
   ]
  },
  {
   "cell_type": "code",
   "execution_count": 4,
   "metadata": {},
   "outputs": [
    {
     "name": "stdout",
     "output_type": "stream",
     "text": [
      "<class 'pandas.core.frame.DataFrame'>\n",
      "RangeIndex: 15000 entries, 0 to 14999\n",
      "Data columns (total 20 columns):\n",
      " #   Column         Non-Null Count  Dtype  \n",
      "---  ------         --------------  -----  \n",
      " 0   id             15000 non-null  int64  \n",
      " 1   N_Days         15000 non-null  float64\n",
      " 2   Drug           8564 non-null   object \n",
      " 3   Age            15000 non-null  int64  \n",
      " 4   Sex            15000 non-null  object \n",
      " 5   Ascites        8561 non-null   object \n",
      " 6   Hepatomegaly   8563 non-null   object \n",
      " 7   Spiders        8555 non-null   object \n",
      " 8   Edema          15000 non-null  object \n",
      " 9   Bilirubin      15000 non-null  float64\n",
      " 10  Cholesterol    6669 non-null   float64\n",
      " 11  Albumin        15000 non-null  float64\n",
      " 12  Copper         8452 non-null   float64\n",
      " 13  Alk_Phos       8558 non-null   float64\n",
      " 14  SGOT           8555 non-null   float64\n",
      " 15  Tryglicerides  6630 non-null   float64\n",
      " 16  Platelets      14414 non-null  float64\n",
      " 17  Prothrombin    14974 non-null  float64\n",
      " 18  Stage          15000 non-null  float64\n",
      " 19  Status         15000 non-null  object \n",
      "dtypes: float64(11), int64(2), object(7)\n",
      "memory usage: 2.3+ MB\n"
     ]
    }
   ],
   "source": [
    "train1.info()"
   ]
  },
  {
   "cell_type": "code",
   "execution_count": 5,
   "metadata": {},
   "outputs": [
    {
     "name": "stdout",
     "output_type": "stream",
     "text": [
      "Colonne 'Drug': nan, Placebo, D-penicillamine\n",
      "Colonne 'Sex': F, M\n",
      "Colonne 'Ascites': nan, N, Y\n",
      "Colonne 'Hepatomegaly': nan, Y, N\n",
      "Colonne 'Spiders': nan, Y, N\n",
      "Colonne 'Edema': N, Y, S\n",
      "Colonne 'Status': C, D, CL\n"
     ]
    }
   ],
   "source": [
    "for col in train1.select_dtypes(include=['object']).columns:\n",
    "    unique_values = ', '.join(map(str, train1[col].unique()))\n",
    "    print(f\"Colonne '{col}': {unique_values}\")"
   ]
  },
  {
   "cell_type": "code",
   "execution_count": 6,
   "metadata": {},
   "outputs": [
    {
     "data": {
      "text/plain": [
       "id                0.00\n",
       "N_Days            0.00\n",
       "Drug             42.91\n",
       "Age               0.00\n",
       "Sex               0.00\n",
       "Ascites          42.93\n",
       "Hepatomegaly     42.91\n",
       "Spiders          42.97\n",
       "Edema             0.00\n",
       "Bilirubin         0.00\n",
       "Cholesterol      55.54\n",
       "Albumin           0.00\n",
       "Copper           43.65\n",
       "Alk_Phos         42.95\n",
       "SGOT             42.97\n",
       "Tryglicerides    55.80\n",
       "Platelets         3.91\n",
       "Prothrombin       0.17\n",
       "Stage             0.00\n",
       "Status            0.00\n",
       "dtype: float64"
      ]
     },
     "execution_count": 6,
     "metadata": {},
     "output_type": "execute_result"
    }
   ],
   "source": [
    "(train1.isnull().sum() / len(train1) * 100).round(2)\n",
    "#(train.isna().sum() / len(train) * 100).round(2)"
   ]
  },
  {
   "cell_type": "markdown",
   "metadata": {},
   "source": [
    "### Colonnes Object (Mode)"
   ]
  },
  {
   "cell_type": "code",
   "execution_count": 7,
   "metadata": {},
   "outputs": [],
   "source": [
    "# mode pour les Hommes et Femmes selon la cible Status pour différentes colonnes (ancienne méthode)\n",
    "# par la suite, Status remplacé par Stage\n",
    "\n",
    "# DRUG:\n",
    "# mode pour les Hommes selon la cible Status:\n",
    "#train[train['Sex'] == 'M'].groupby('Status')['Drug'].agg(lambda x: x.mode().iloc[0])\n",
    "# mode pour les Femmees selon la cible Status:\n",
    "#train[train['Sex'] == 'F'].groupby('Status')['Drug'].agg(lambda x: x.mode().iloc[0])\n",
    "\n",
    "# ASCITES:\n",
    "# mode pour les Hommes selon la cible Status:\n",
    "#train[train['Sex'] == 'M'].groupby('Status')['Ascites'].agg(lambda x: x.mode().iloc[0])\n",
    "# mode pour les Femmes selon la cible Status:\n",
    "#train[train['Sex'] == 'F'].groupby('Status')['Ascites'].agg(lambda x: x.mode().iloc[0])\n",
    "\n",
    "# HEPATOMEGALY:\n",
    "# mode pour les Hommes selon la cible Status:\n",
    "#train[train['Sex'] == 'M'].groupby('Status')['Hepatomegaly'].agg(lambda x: x.mode().iloc[0])\n",
    "# mode pour les Femmes selon la cible Status:\n",
    "#train[train['Sex'] == 'F'].groupby('Status')['Hepatomegaly'].agg(lambda x: x.mode().iloc[0])\n",
    "\n",
    "# SPIDERS:\n",
    "# mode pour les Hommes selon la cible Status:\n",
    "#train[train['Sex'] == 'M'].groupby('Status')['Spiders'].agg(lambda x: x.mode().iloc[0])\n",
    "# mode pour les Femmes selon la cible Status:\n",
    "#train[train['Sex'] == 'F'].groupby('Status')['Spiders'].agg(lambda x: x.mode().iloc[0])"
   ]
  },
  {
   "cell_type": "markdown",
   "metadata": {},
   "source": [
    "#### Drug"
   ]
  },
  {
   "cell_type": "code",
   "execution_count": 8,
   "metadata": {},
   "outputs": [
    {
     "data": {
      "text/plain": [
       "Stage\n",
       "1.0            Placebo\n",
       "2.0    D-penicillamine\n",
       "3.0    D-penicillamine\n",
       "4.0    D-penicillamine\n",
       "Name: Drug, dtype: object"
      ]
     },
     "execution_count": 8,
     "metadata": {},
     "output_type": "execute_result"
    }
   ],
   "source": [
    "# mode pour les Hommes selon la cible Stage:\n",
    "train1[train1['Sex'] == 'M'].groupby('Stage')['Drug'].agg(lambda x: x.mode().iloc[0])"
   ]
  },
  {
   "cell_type": "code",
   "execution_count": 9,
   "metadata": {},
   "outputs": [
    {
     "data": {
      "text/plain": [
       "Stage\n",
       "1.0    D-penicillamine\n",
       "2.0    D-penicillamine\n",
       "3.0    D-penicillamine\n",
       "4.0            Placebo\n",
       "Name: Drug, dtype: object"
      ]
     },
     "execution_count": 9,
     "metadata": {},
     "output_type": "execute_result"
    }
   ],
   "source": [
    "# mode pour les Femmees selon la cible Stage:\n",
    "train1[train1['Sex'] == 'F'].groupby('Stage')['Drug'].agg(lambda x: x.mode().iloc[0])"
   ]
  },
  {
   "cell_type": "markdown",
   "metadata": {},
   "source": [
    "#### Ascites"
   ]
  },
  {
   "cell_type": "code",
   "execution_count": 10,
   "metadata": {},
   "outputs": [
    {
     "data": {
      "text/plain": [
       "Stage\n",
       "1.0    N\n",
       "2.0    N\n",
       "3.0    N\n",
       "4.0    N\n",
       "Name: Ascites, dtype: object"
      ]
     },
     "execution_count": 10,
     "metadata": {},
     "output_type": "execute_result"
    }
   ],
   "source": [
    "# mode pour les Hommes selon la cible Stage:\n",
    "train1[train1['Sex'] == 'M'].groupby('Stage')['Ascites'].agg(lambda x: x.mode().iloc[0])"
   ]
  },
  {
   "cell_type": "code",
   "execution_count": 11,
   "metadata": {},
   "outputs": [
    {
     "data": {
      "text/plain": [
       "Stage\n",
       "1.0    N\n",
       "2.0    N\n",
       "3.0    N\n",
       "4.0    N\n",
       "Name: Ascites, dtype: object"
      ]
     },
     "execution_count": 11,
     "metadata": {},
     "output_type": "execute_result"
    }
   ],
   "source": [
    "# mode pour les Femmes selon la cible Stage:\n",
    "train1[train1['Sex'] == 'F'].groupby('Stage')['Ascites'].agg(lambda x: x.mode().iloc[0])\n"
   ]
  },
  {
   "cell_type": "markdown",
   "metadata": {},
   "source": [
    "#### Hepatomegaly"
   ]
  },
  {
   "cell_type": "code",
   "execution_count": 12,
   "metadata": {},
   "outputs": [
    {
     "data": {
      "text/plain": [
       "Stage\n",
       "1.0    N\n",
       "2.0    N\n",
       "3.0    N\n",
       "4.0    Y\n",
       "Name: Hepatomegaly, dtype: object"
      ]
     },
     "execution_count": 12,
     "metadata": {},
     "output_type": "execute_result"
    }
   ],
   "source": [
    "# mode pour les Hommes selon la cible Stage:\n",
    "train1[train1['Sex'] == 'M'].groupby('Stage')['Hepatomegaly'].agg(lambda x: x.mode().iloc[0])"
   ]
  },
  {
   "cell_type": "code",
   "execution_count": 13,
   "metadata": {},
   "outputs": [
    {
     "data": {
      "text/plain": [
       "Stage\n",
       "1.0    N\n",
       "2.0    N\n",
       "3.0    N\n",
       "4.0    Y\n",
       "Name: Hepatomegaly, dtype: object"
      ]
     },
     "execution_count": 13,
     "metadata": {},
     "output_type": "execute_result"
    }
   ],
   "source": [
    "# mode pour les Femmes selon la cible Stage:\n",
    "train1[train1['Sex'] == 'F'].groupby('Stage')['Hepatomegaly'].agg(lambda x: x.mode().iloc[0])"
   ]
  },
  {
   "cell_type": "markdown",
   "metadata": {},
   "source": [
    "#### Spiders"
   ]
  },
  {
   "cell_type": "code",
   "execution_count": 14,
   "metadata": {},
   "outputs": [
    {
     "data": {
      "text/plain": [
       "Stage\n",
       "1.0    N\n",
       "2.0    N\n",
       "3.0    N\n",
       "4.0    N\n",
       "Name: Spiders, dtype: object"
      ]
     },
     "execution_count": 14,
     "metadata": {},
     "output_type": "execute_result"
    }
   ],
   "source": [
    "# mode pour les Hommes selon la cible Stage:\n",
    "train1[train1['Sex'] == 'M'].groupby('Stage')['Spiders'].agg(lambda x: x.mode().iloc[0])"
   ]
  },
  {
   "cell_type": "code",
   "execution_count": 15,
   "metadata": {},
   "outputs": [
    {
     "data": {
      "text/plain": [
       "Stage\n",
       "1.0    N\n",
       "2.0    N\n",
       "3.0    N\n",
       "4.0    N\n",
       "Name: Spiders, dtype: object"
      ]
     },
     "execution_count": 15,
     "metadata": {},
     "output_type": "execute_result"
    }
   ],
   "source": [
    "# mode pour les Femmes selon la cible Stage:\n",
    "train1[train1['Sex'] == 'F'].groupby('Stage')['Spiders'].agg(lambda x: x.mode().iloc[0])"
   ]
  },
  {
   "cell_type": "code",
   "execution_count": 16,
   "metadata": {},
   "outputs": [],
   "source": [
    "# modes_drug = {\n",
    "#     ('M', 'C'): 'Placebo',\n",
    "#     ('M', 'CL'): 'D-penicillamine',\n",
    "#     ('M', 'D'): 'D-penicillamine',\n",
    "#     ('F', 'C'): 'D-penicillamine',\n",
    "#     ('F', 'CL'): 'D-penicillamine',\n",
    "#     ('F', 'D'): 'D-penicillamine'\n",
    "# }\n",
    "\n",
    "# modes_ascites = {\n",
    "#     ('M', 'C'): 'N',\n",
    "#     ('M', 'CL'): 'N',\n",
    "#     ('M', 'D'): 'N',\n",
    "#     ('F', 'C'): 'N',\n",
    "#     ('F', 'CL'): 'N',\n",
    "#     ('F', 'D'): 'N'\n",
    "# }\n",
    "\n",
    "# modes_hepatomegaly = {\n",
    "#     ('M', 'C'): 'N',\n",
    "#     ('M', 'CL'): 'Y',\n",
    "#     ('M', 'D'): 'Y',\n",
    "#     ('F', 'C'): 'N',\n",
    "#     ('F', 'CL'): 'Y',\n",
    "#     ('F', 'D'): 'Y'\n",
    "# }\n",
    "\n",
    "# modes_spiders = {\n",
    "#     ('M', 'C'): 'N',\n",
    "#     ('M', 'CL'): 'N',\n",
    "#     ('M', 'D'): 'N',\n",
    "#     ('F', 'C'): 'N',\n",
    "#     ('F', 'CL'): 'N',\n",
    "#     ('F', 'D'): 'N'\n",
    "# }\n",
    "\n",
    "# def na_par_mode(row):\n",
    "#     key = (row['Sex'], row['Status'])\n",
    "#     if pd.isna(row['Drug']):\n",
    "#         row['Drug'] = modes_drug[key]\n",
    "#     if pd.isna(row['Ascites']):\n",
    "#         row['Ascites'] = modes_ascites[key]\n",
    "#     if pd.isna(row['Hepatomegaly']):   "
   ]
  },
  {
   "cell_type": "code",
   "execution_count": 17,
   "metadata": {},
   "outputs": [],
   "source": [
    "# modes pour chaque colonne selon la modalité 'Stage'\n",
    "modes_drug = {\n",
    "    ('M', 1.0): 'Placebo',\n",
    "    ('M', 2.0): 'Placebo',\n",
    "    ('M', 3.0): 'Placebo',\n",
    "    ('M', 4.0): 'D-penicillamine',\n",
    "    ('F', 1.0): 'D-penicillamine',\n",
    "    ('F', 2.0): 'D-penicillamine',\n",
    "    ('F', 3.0): 'D-penicillamine',\n",
    "    ('F', 4.0): 'D-penicillamine'\n",
    "}\n",
    "\n",
    "modes_ascites = {\n",
    "    ('M', 1.0): 'N',\n",
    "    ('M', 2.0): 'N',\n",
    "    ('M', 3.0): 'N',\n",
    "    ('M', 4.0): 'N',\n",
    "    ('F', 1.0): 'N',\n",
    "    ('F', 2.0): 'N',\n",
    "    ('F', 3.0): 'N',\n",
    "    ('F', 4.0): 'N'\n",
    "}\n",
    "\n",
    "modes_hepatomegaly = {\n",
    "    ('M', 1.0): 'N',\n",
    "    ('M', 2.0): 'N',\n",
    "    ('M', 3.0): 'N',\n",
    "    ('M', 4.0): 'Y',\n",
    "    ('F', 1.0): 'N',\n",
    "    ('F', 2.0): 'N',\n",
    "    ('F', 3.0): 'N',\n",
    "    ('F', 4.0): 'Y'\n",
    "}\n",
    "\n",
    "modes_spiders = {\n",
    "    ('M', 1.0): 'N',\n",
    "    ('M', 2.0): 'N',\n",
    "    ('M', 3.0): 'N',\n",
    "    ('M', 4.0): 'N',\n",
    "    ('F', 1.0): 'N',\n",
    "    ('F', 2.0): 'N',\n",
    "    ('F', 3.0): 'N',\n",
    "    ('F', 4.0): 'N'\n",
    "}\n",
    "\n",
    "def na_par_mode(row):\n",
    "    key = (row['Sex'], row['Stage'])\n",
    "    if pd.isna(row['Drug']):\n",
    "        row['Drug'] = modes_drug[key]\n",
    "    if pd.isna(row['Ascites']):\n",
    "        row['Ascites'] = modes_ascites[key]\n",
    "    if pd.isna(row['Hepatomegaly']):\n",
    "        row['Hepatomegaly'] = modes_hepatomegaly[key]\n",
    "    if pd.isna(row['Spiders']):\n",
    "        row['Spiders'] = modes_spiders[key]\n",
    "    return row\n",
    "\n",
    "train1 = train1.apply(na_par_mode, axis=1)"
   ]
  },
  {
   "cell_type": "markdown",
   "metadata": {},
   "source": [
    "### Colonnes Numériques (Médiane)"
   ]
  },
  {
   "cell_type": "code",
   "execution_count": 18,
   "metadata": {},
   "outputs": [
    {
     "data": {
      "text/html": [
       "<div>\n",
       "<style scoped>\n",
       "    .dataframe tbody tr th:only-of-type {\n",
       "        vertical-align: middle;\n",
       "    }\n",
       "\n",
       "    .dataframe tbody tr th {\n",
       "        vertical-align: top;\n",
       "    }\n",
       "\n",
       "    .dataframe thead th {\n",
       "        text-align: right;\n",
       "    }\n",
       "</style>\n",
       "<table border=\"1\" class=\"dataframe\">\n",
       "  <thead>\n",
       "    <tr style=\"text-align: right;\">\n",
       "      <th></th>\n",
       "      <th></th>\n",
       "      <th>Cholesterol</th>\n",
       "      <th>Copper</th>\n",
       "      <th>Alk_Phos</th>\n",
       "      <th>SGOT</th>\n",
       "      <th>Tryglicerides</th>\n",
       "      <th>Platelets</th>\n",
       "      <th>Prothrombin</th>\n",
       "    </tr>\n",
       "    <tr>\n",
       "      <th>Sex</th>\n",
       "      <th>Stage</th>\n",
       "      <th></th>\n",
       "      <th></th>\n",
       "      <th></th>\n",
       "      <th></th>\n",
       "      <th></th>\n",
       "      <th></th>\n",
       "      <th></th>\n",
       "    </tr>\n",
       "  </thead>\n",
       "  <tbody>\n",
       "    <tr>\n",
       "      <th rowspan=\"4\" valign=\"top\">F</th>\n",
       "      <th>1.0</th>\n",
       "      <td>2.730</td>\n",
       "      <td>39.0</td>\n",
       "      <td>911.0</td>\n",
       "      <td>83.700</td>\n",
       "      <td>96.0</td>\n",
       "      <td>269.0</td>\n",
       "      <td>10.40</td>\n",
       "    </tr>\n",
       "    <tr>\n",
       "      <th>2.0</th>\n",
       "      <td>2.810</td>\n",
       "      <td>41.0</td>\n",
       "      <td>1024.0</td>\n",
       "      <td>91.000</td>\n",
       "      <td>94.0</td>\n",
       "      <td>265.0</td>\n",
       "      <td>10.40</td>\n",
       "    </tr>\n",
       "    <tr>\n",
       "      <th>3.0</th>\n",
       "      <td>2.795</td>\n",
       "      <td>42.0</td>\n",
       "      <td>1029.0</td>\n",
       "      <td>89.450</td>\n",
       "      <td>98.0</td>\n",
       "      <td>265.0</td>\n",
       "      <td>10.40</td>\n",
       "    </tr>\n",
       "    <tr>\n",
       "      <th>4.0</th>\n",
       "      <td>2.740</td>\n",
       "      <td>73.0</td>\n",
       "      <td>1138.0</td>\n",
       "      <td>117.800</td>\n",
       "      <td>100.0</td>\n",
       "      <td>210.0</td>\n",
       "      <td>11.00</td>\n",
       "    </tr>\n",
       "    <tr>\n",
       "      <th rowspan=\"4\" valign=\"top\">M</th>\n",
       "      <th>1.0</th>\n",
       "      <td>3.250</td>\n",
       "      <td>74.5</td>\n",
       "      <td>2145.0</td>\n",
       "      <td>86.800</td>\n",
       "      <td>91.0</td>\n",
       "      <td>244.0</td>\n",
       "      <td>10.85</td>\n",
       "    </tr>\n",
       "    <tr>\n",
       "      <th>2.0</th>\n",
       "      <td>3.250</td>\n",
       "      <td>91.5</td>\n",
       "      <td>1083.0</td>\n",
       "      <td>116.250</td>\n",
       "      <td>118.0</td>\n",
       "      <td>269.0</td>\n",
       "      <td>10.60</td>\n",
       "    </tr>\n",
       "    <tr>\n",
       "      <th>3.0</th>\n",
       "      <td>3.240</td>\n",
       "      <td>91.0</td>\n",
       "      <td>1362.0</td>\n",
       "      <td>113.335</td>\n",
       "      <td>113.0</td>\n",
       "      <td>252.0</td>\n",
       "      <td>10.60</td>\n",
       "    </tr>\n",
       "    <tr>\n",
       "      <th>4.0</th>\n",
       "      <td>3.220</td>\n",
       "      <td>111.0</td>\n",
       "      <td>1440.0</td>\n",
       "      <td>121.080</td>\n",
       "      <td>99.5</td>\n",
       "      <td>211.0</td>\n",
       "      <td>11.00</td>\n",
       "    </tr>\n",
       "  </tbody>\n",
       "</table>\n",
       "</div>"
      ],
      "text/plain": [
       "           Cholesterol  Copper  Alk_Phos     SGOT  Tryglicerides  Platelets  \\\n",
       "Sex Stage                                                                     \n",
       "F   1.0          2.730    39.0     911.0   83.700           96.0      269.0   \n",
       "    2.0          2.810    41.0    1024.0   91.000           94.0      265.0   \n",
       "    3.0          2.795    42.0    1029.0   89.450           98.0      265.0   \n",
       "    4.0          2.740    73.0    1138.0  117.800          100.0      210.0   \n",
       "M   1.0          3.250    74.5    2145.0   86.800           91.0      244.0   \n",
       "    2.0          3.250    91.5    1083.0  116.250          118.0      269.0   \n",
       "    3.0          3.240    91.0    1362.0  113.335          113.0      252.0   \n",
       "    4.0          3.220   111.0    1440.0  121.080           99.5      211.0   \n",
       "\n",
       "           Prothrombin  \n",
       "Sex Stage               \n",
       "F   1.0          10.40  \n",
       "    2.0          10.40  \n",
       "    3.0          10.40  \n",
       "    4.0          11.00  \n",
       "M   1.0          10.85  \n",
       "    2.0          10.60  \n",
       "    3.0          10.60  \n",
       "    4.0          11.00  "
      ]
     },
     "execution_count": 18,
     "metadata": {},
     "output_type": "execute_result"
    }
   ],
   "source": [
    "# la médiane pour chaque colonne numérique, par sexe et par modalité de Stage\n",
    "medianes = train1.groupby(['Sex', 'Stage'])[['Cholesterol', 'Copper', 'Alk_Phos', \n",
    "                                             'SGOT', 'Tryglicerides', 'Platelets', \n",
    "                                             'Prothrombin']].median()\n",
    "\n",
    "medianes"
   ]
  },
  {
   "cell_type": "code",
   "execution_count": 19,
   "metadata": {},
   "outputs": [
    {
     "data": {
      "text/html": [
       "<div>\n",
       "<style scoped>\n",
       "    .dataframe tbody tr th:only-of-type {\n",
       "        vertical-align: middle;\n",
       "    }\n",
       "\n",
       "    .dataframe tbody tr th {\n",
       "        vertical-align: top;\n",
       "    }\n",
       "\n",
       "    .dataframe thead th {\n",
       "        text-align: right;\n",
       "    }\n",
       "</style>\n",
       "<table border=\"1\" class=\"dataframe\">\n",
       "  <thead>\n",
       "    <tr style=\"text-align: right;\">\n",
       "      <th></th>\n",
       "      <th></th>\n",
       "      <th>Cholesterol</th>\n",
       "      <th>Copper</th>\n",
       "      <th>Alk_Phos</th>\n",
       "      <th>SGOT</th>\n",
       "      <th>Tryglicerides</th>\n",
       "      <th>Platelets</th>\n",
       "      <th>Prothrombin</th>\n",
       "    </tr>\n",
       "    <tr>\n",
       "      <th>Sex</th>\n",
       "      <th>Stage</th>\n",
       "      <th></th>\n",
       "      <th></th>\n",
       "      <th></th>\n",
       "      <th></th>\n",
       "      <th></th>\n",
       "      <th></th>\n",
       "      <th></th>\n",
       "    </tr>\n",
       "  </thead>\n",
       "  <tbody>\n",
       "    <tr>\n",
       "      <th rowspan=\"4\" valign=\"top\">F</th>\n",
       "      <th>1.0</th>\n",
       "      <td>2.99</td>\n",
       "      <td>46.67</td>\n",
       "      <td>1322.79</td>\n",
       "      <td>91.97</td>\n",
       "      <td>102.66</td>\n",
       "      <td>270.71</td>\n",
       "      <td>10.37</td>\n",
       "    </tr>\n",
       "    <tr>\n",
       "      <th>2.0</th>\n",
       "      <td>3.20</td>\n",
       "      <td>59.19</td>\n",
       "      <td>1569.92</td>\n",
       "      <td>99.92</td>\n",
       "      <td>107.15</td>\n",
       "      <td>270.07</td>\n",
       "      <td>10.44</td>\n",
       "    </tr>\n",
       "    <tr>\n",
       "      <th>3.0</th>\n",
       "      <td>3.17</td>\n",
       "      <td>58.43</td>\n",
       "      <td>1532.20</td>\n",
       "      <td>99.12</td>\n",
       "      <td>108.40</td>\n",
       "      <td>272.38</td>\n",
       "      <td>10.41</td>\n",
       "    </tr>\n",
       "    <tr>\n",
       "      <th>4.0</th>\n",
       "      <td>3.44</td>\n",
       "      <td>100.78</td>\n",
       "      <td>1853.90</td>\n",
       "      <td>119.74</td>\n",
       "      <td>114.57</td>\n",
       "      <td>222.18</td>\n",
       "      <td>11.00</td>\n",
       "    </tr>\n",
       "    <tr>\n",
       "      <th rowspan=\"4\" valign=\"top\">M</th>\n",
       "      <th>1.0</th>\n",
       "      <td>3.30</td>\n",
       "      <td>79.00</td>\n",
       "      <td>2660.78</td>\n",
       "      <td>108.16</td>\n",
       "      <td>91.56</td>\n",
       "      <td>242.59</td>\n",
       "      <td>10.91</td>\n",
       "    </tr>\n",
       "    <tr>\n",
       "      <th>2.0</th>\n",
       "      <td>3.53</td>\n",
       "      <td>109.38</td>\n",
       "      <td>2115.54</td>\n",
       "      <td>112.75</td>\n",
       "      <td>120.84</td>\n",
       "      <td>267.40</td>\n",
       "      <td>10.65</td>\n",
       "    </tr>\n",
       "    <tr>\n",
       "      <th>3.0</th>\n",
       "      <td>3.72</td>\n",
       "      <td>110.89</td>\n",
       "      <td>2235.34</td>\n",
       "      <td>122.68</td>\n",
       "      <td>120.54</td>\n",
       "      <td>256.13</td>\n",
       "      <td>10.66</td>\n",
       "    </tr>\n",
       "    <tr>\n",
       "      <th>4.0</th>\n",
       "      <td>3.78</td>\n",
       "      <td>146.28</td>\n",
       "      <td>2338.36</td>\n",
       "      <td>122.12</td>\n",
       "      <td>119.84</td>\n",
       "      <td>213.88</td>\n",
       "      <td>11.12</td>\n",
       "    </tr>\n",
       "  </tbody>\n",
       "</table>\n",
       "</div>"
      ],
      "text/plain": [
       "           Cholesterol  Copper  Alk_Phos    SGOT  Tryglicerides  Platelets  \\\n",
       "Sex Stage                                                                    \n",
       "F   1.0           2.99   46.67   1322.79   91.97         102.66     270.71   \n",
       "    2.0           3.20   59.19   1569.92   99.92         107.15     270.07   \n",
       "    3.0           3.17   58.43   1532.20   99.12         108.40     272.38   \n",
       "    4.0           3.44  100.78   1853.90  119.74         114.57     222.18   \n",
       "M   1.0           3.30   79.00   2660.78  108.16          91.56     242.59   \n",
       "    2.0           3.53  109.38   2115.54  112.75         120.84     267.40   \n",
       "    3.0           3.72  110.89   2235.34  122.68         120.54     256.13   \n",
       "    4.0           3.78  146.28   2338.36  122.12         119.84     213.88   \n",
       "\n",
       "           Prothrombin  \n",
       "Sex Stage               \n",
       "F   1.0          10.37  \n",
       "    2.0          10.44  \n",
       "    3.0          10.41  \n",
       "    4.0          11.00  \n",
       "M   1.0          10.91  \n",
       "    2.0          10.65  \n",
       "    3.0          10.66  \n",
       "    4.0          11.12  "
      ]
     },
     "execution_count": 19,
     "metadata": {},
     "output_type": "execute_result"
    }
   ],
   "source": [
    "moyennes = train1.groupby(['Sex', 'Stage'])[['Cholesterol', 'Copper', 'Alk_Phos', \n",
    "                                             'SGOT', 'Tryglicerides', 'Platelets', \n",
    "                                             'Prothrombin']].mean().round(2)\n",
    "moyennes"
   ]
  },
  {
   "cell_type": "code",
   "execution_count": 20,
   "metadata": {},
   "outputs": [],
   "source": [
    "colonnes_a_traiter = ['Cholesterol', 'Copper', 'Alk_Phos', \n",
    "                       'SGOT', 'Tryglicerides', 'Platelets', \n",
    "                       'Prothrombin']\n",
    "\n",
    "def na_par_mediane(row):\n",
    "    for col in colonnes_a_traiter:\n",
    "        if pd.isna(row[col]):\n",
    "            row[col] = medianes.loc[(row['Sex'], row['Stage']), col]\n",
    "    return row\n",
    "\n",
    "train1 = train1.apply(na_par_mediane, axis=1)"
   ]
  },
  {
   "cell_type": "code",
   "execution_count": 21,
   "metadata": {},
   "outputs": [
    {
     "name": "stdout",
     "output_type": "stream",
     "text": [
      "<class 'pandas.core.frame.DataFrame'>\n",
      "RangeIndex: 15000 entries, 0 to 14999\n",
      "Data columns (total 20 columns):\n",
      " #   Column         Non-Null Count  Dtype  \n",
      "---  ------         --------------  -----  \n",
      " 0   id             15000 non-null  int64  \n",
      " 1   N_Days         15000 non-null  float64\n",
      " 2   Drug           15000 non-null  object \n",
      " 3   Age            15000 non-null  int64  \n",
      " 4   Sex            15000 non-null  object \n",
      " 5   Ascites        15000 non-null  object \n",
      " 6   Hepatomegaly   15000 non-null  object \n",
      " 7   Spiders        15000 non-null  object \n",
      " 8   Edema          15000 non-null  object \n",
      " 9   Bilirubin      15000 non-null  float64\n",
      " 10  Cholesterol    15000 non-null  float64\n",
      " 11  Albumin        15000 non-null  float64\n",
      " 12  Copper         15000 non-null  float64\n",
      " 13  Alk_Phos       15000 non-null  float64\n",
      " 14  SGOT           15000 non-null  float64\n",
      " 15  Tryglicerides  15000 non-null  float64\n",
      " 16  Platelets      15000 non-null  float64\n",
      " 17  Prothrombin    15000 non-null  float64\n",
      " 18  Stage          15000 non-null  float64\n",
      " 19  Status         15000 non-null  object \n",
      "dtypes: float64(11), int64(2), object(7)\n",
      "memory usage: 2.3+ MB\n"
     ]
    }
   ],
   "source": [
    "train1.info()"
   ]
  },
  {
   "cell_type": "markdown",
   "metadata": {},
   "source": [
    "#### Normalisation avec PowerTransformer: pour rendre les données plus gaussiennes"
   ]
  },
  {
   "cell_type": "code",
   "execution_count": 22,
   "metadata": {},
   "outputs": [],
   "source": [
    "train2 = train1.copy()\n",
    "# Normalisation avec PowerTransformer: pour rendre les données plus gaussienne\n",
    "colonnes_to_normalize = ['Bilirubin', 'Cholesterol', 'Albumin', 'Copper', 'Alk_Phos', \n",
    "                        'SGOT', 'Tryglicerides', 'Platelets', 'Prothrombin']\n",
    "\n",
    "transformer = PowerTransformer(method = 'yeo-johnson')\n",
    "train2[colonnes_to_normalize] = transformer.fit_transform(train2[colonnes_to_normalize])"
   ]
  },
  {
   "cell_type": "markdown",
   "metadata": {},
   "source": [
    "#### Encoding"
   ]
  },
  {
   "cell_type": "code",
   "execution_count": 23,
   "metadata": {},
   "outputs": [
    {
     "name": "stdout",
     "output_type": "stream",
     "text": [
      "Colonne 'Drug': D-penicillamine, Placebo\n",
      "Colonne 'Sex': F, M\n",
      "Colonne 'Ascites': N, Y\n",
      "Colonne 'Hepatomegaly': N, Y\n",
      "Colonne 'Spiders': N, Y\n",
      "Colonne 'Edema': N, Y, S\n",
      "Colonne 'Status': C, D, CL\n"
     ]
    }
   ],
   "source": [
    "for col in train2.select_dtypes(include=['object']).columns:\n",
    "    unique_values = ', '.join(map(str, train2[col].unique()))\n",
    "    print(f\"Colonne '{col}': {unique_values}\")"
   ]
  },
  {
   "cell_type": "code",
   "execution_count": 24,
   "metadata": {},
   "outputs": [
    {
     "data": {
      "text/plain": [
       "0    3.0\n",
       "1    4.0\n",
       "2    2.0\n",
       "Name: Stage, dtype: float64"
      ]
     },
     "execution_count": 24,
     "metadata": {},
     "output_type": "execute_result"
    }
   ],
   "source": [
    "train2['Stage'][:3]"
   ]
  },
  {
   "cell_type": "code",
   "execution_count": 25,
   "metadata": {},
   "outputs": [
    {
     "name": "stdout",
     "output_type": "stream",
     "text": [
      "[3. 4. 2. 1.]\n",
      "[2 3 1 0]\n"
     ]
    }
   ],
   "source": [
    "# Custom Mapping pour Stage car l'ordre a l'air d'avoir son importance \n",
    "# This encoding is particularly useful for ordinal variable where the order of categories is important\n",
    "# To make sure that the learning algorithm interprets the ordinal variables correctly, \n",
    "# we can map the categorical values to integer values manually. \n",
    "print(train2['Stage'].unique())  \n",
    "train2['Stage'] = train2['Stage'].map({1.0: 0, 2.0: 1, 3.0: 2, 4.0: 3})\n",
    "print(train2['Stage'].unique())"
   ]
  },
  {
   "cell_type": "code",
   "execution_count": 26,
   "metadata": {},
   "outputs": [
    {
     "data": {
      "text/html": [
       "<div>\n",
       "<style scoped>\n",
       "    .dataframe tbody tr th:only-of-type {\n",
       "        vertical-align: middle;\n",
       "    }\n",
       "\n",
       "    .dataframe tbody tr th {\n",
       "        vertical-align: top;\n",
       "    }\n",
       "\n",
       "    .dataframe thead th {\n",
       "        text-align: right;\n",
       "    }\n",
       "</style>\n",
       "<table border=\"1\" class=\"dataframe\">\n",
       "  <thead>\n",
       "    <tr style=\"text-align: right;\">\n",
       "      <th></th>\n",
       "      <th>id</th>\n",
       "      <th>N_Days</th>\n",
       "      <th>Age</th>\n",
       "      <th>Bilirubin</th>\n",
       "      <th>Cholesterol</th>\n",
       "      <th>Albumin</th>\n",
       "      <th>Copper</th>\n",
       "      <th>Alk_Phos</th>\n",
       "      <th>SGOT</th>\n",
       "      <th>Tryglicerides</th>\n",
       "      <th>...</th>\n",
       "      <th>Sex_M</th>\n",
       "      <th>Ascites_N</th>\n",
       "      <th>Ascites_Y</th>\n",
       "      <th>Hepatomegaly_N</th>\n",
       "      <th>Hepatomegaly_Y</th>\n",
       "      <th>Spiders_N</th>\n",
       "      <th>Spiders_Y</th>\n",
       "      <th>Edema_N</th>\n",
       "      <th>Edema_S</th>\n",
       "      <th>Edema_Y</th>\n",
       "    </tr>\n",
       "  </thead>\n",
       "  <tbody>\n",
       "    <tr>\n",
       "      <th>0</th>\n",
       "      <td>0</td>\n",
       "      <td>1055.0</td>\n",
       "      <td>54</td>\n",
       "      <td>0.394125</td>\n",
       "      <td>-0.029251</td>\n",
       "      <td>0.276397</td>\n",
       "      <td>-0.331315</td>\n",
       "      <td>-0.127848</td>\n",
       "      <td>-0.243023</td>\n",
       "      <td>-0.005883</td>\n",
       "      <td>...</td>\n",
       "      <td>False</td>\n",
       "      <td>True</td>\n",
       "      <td>False</td>\n",
       "      <td>True</td>\n",
       "      <td>False</td>\n",
       "      <td>True</td>\n",
       "      <td>False</td>\n",
       "      <td>True</td>\n",
       "      <td>False</td>\n",
       "      <td>False</td>\n",
       "    </tr>\n",
       "    <tr>\n",
       "      <th>1</th>\n",
       "      <td>1</td>\n",
       "      <td>3282.0</td>\n",
       "      <td>49</td>\n",
       "      <td>-0.705394</td>\n",
       "      <td>0.452011</td>\n",
       "      <td>0.165050</td>\n",
       "      <td>0.956386</td>\n",
       "      <td>0.103139</td>\n",
       "      <td>-0.916440</td>\n",
       "      <td>0.298979</td>\n",
       "      <td>...</td>\n",
       "      <td>False</td>\n",
       "      <td>True</td>\n",
       "      <td>False</td>\n",
       "      <td>False</td>\n",
       "      <td>True</td>\n",
       "      <td>False</td>\n",
       "      <td>True</td>\n",
       "      <td>True</td>\n",
       "      <td>False</td>\n",
       "      <td>False</td>\n",
       "    </tr>\n",
       "    <tr>\n",
       "      <th>2</th>\n",
       "      <td>2</td>\n",
       "      <td>1653.0</td>\n",
       "      <td>56</td>\n",
       "      <td>1.095203</td>\n",
       "      <td>-0.002295</td>\n",
       "      <td>0.276397</td>\n",
       "      <td>-0.370399</td>\n",
       "      <td>-0.138923</td>\n",
       "      <td>-0.192454</td>\n",
       "      <td>-0.172167</td>\n",
       "      <td>...</td>\n",
       "      <td>False</td>\n",
       "      <td>True</td>\n",
       "      <td>False</td>\n",
       "      <td>True</td>\n",
       "      <td>False</td>\n",
       "      <td>True</td>\n",
       "      <td>False</td>\n",
       "      <td>True</td>\n",
       "      <td>False</td>\n",
       "      <td>False</td>\n",
       "    </tr>\n",
       "    <tr>\n",
       "      <th>3</th>\n",
       "      <td>3</td>\n",
       "      <td>999.0</td>\n",
       "      <td>62</td>\n",
       "      <td>-0.044473</td>\n",
       "      <td>2.124549</td>\n",
       "      <td>-0.509516</td>\n",
       "      <td>0.842839</td>\n",
       "      <td>0.779310</td>\n",
       "      <td>1.507787</td>\n",
       "      <td>-0.586686</td>\n",
       "      <td>...</td>\n",
       "      <td>False</td>\n",
       "      <td>True</td>\n",
       "      <td>False</td>\n",
       "      <td>False</td>\n",
       "      <td>True</td>\n",
       "      <td>True</td>\n",
       "      <td>False</td>\n",
       "      <td>True</td>\n",
       "      <td>False</td>\n",
       "      <td>False</td>\n",
       "    </tr>\n",
       "    <tr>\n",
       "      <th>4</th>\n",
       "      <td>4</td>\n",
       "      <td>2202.0</td>\n",
       "      <td>49</td>\n",
       "      <td>1.972027</td>\n",
       "      <td>-0.029251</td>\n",
       "      <td>-1.022634</td>\n",
       "      <td>-0.331315</td>\n",
       "      <td>-0.127848</td>\n",
       "      <td>-0.243023</td>\n",
       "      <td>-0.005883</td>\n",
       "      <td>...</td>\n",
       "      <td>False</td>\n",
       "      <td>True</td>\n",
       "      <td>False</td>\n",
       "      <td>True</td>\n",
       "      <td>False</td>\n",
       "      <td>True</td>\n",
       "      <td>False</td>\n",
       "      <td>True</td>\n",
       "      <td>False</td>\n",
       "      <td>False</td>\n",
       "    </tr>\n",
       "  </tbody>\n",
       "</table>\n",
       "<p>5 rows × 27 columns</p>\n",
       "</div>"
      ],
      "text/plain": [
       "   id  N_Days  Age  Bilirubin  Cholesterol   Albumin    Copper  Alk_Phos  \\\n",
       "0   0  1055.0   54   0.394125    -0.029251  0.276397 -0.331315 -0.127848   \n",
       "1   1  3282.0   49  -0.705394     0.452011  0.165050  0.956386  0.103139   \n",
       "2   2  1653.0   56   1.095203    -0.002295  0.276397 -0.370399 -0.138923   \n",
       "3   3   999.0   62  -0.044473     2.124549 -0.509516  0.842839  0.779310   \n",
       "4   4  2202.0   49   1.972027    -0.029251 -1.022634 -0.331315 -0.127848   \n",
       "\n",
       "       SGOT  Tryglicerides  ...  Sex_M  Ascites_N  Ascites_Y Hepatomegaly_N  \\\n",
       "0 -0.243023      -0.005883  ...  False       True      False           True   \n",
       "1 -0.916440       0.298979  ...  False       True      False          False   \n",
       "2 -0.192454      -0.172167  ...  False       True      False           True   \n",
       "3  1.507787      -0.586686  ...  False       True      False          False   \n",
       "4 -0.243023      -0.005883  ...  False       True      False           True   \n",
       "\n",
       "   Hepatomegaly_Y  Spiders_N  Spiders_Y  Edema_N  Edema_S  Edema_Y  \n",
       "0           False       True      False     True    False    False  \n",
       "1            True      False       True     True    False    False  \n",
       "2           False       True      False     True    False    False  \n",
       "3            True       True      False     True    False    False  \n",
       "4           False       True      False     True    False    False  \n",
       "\n",
       "[5 rows x 27 columns]"
      ]
     },
     "execution_count": 26,
     "metadata": {},
     "output_type": "execute_result"
    }
   ],
   "source": [
    "# OneHot encoding pour les autres\n",
    "# Liste des colonnes catégoriques\n",
    "colonnes_cat = ['Drug', 'Sex', 'Ascites', 'Hepatomegaly', 'Spiders', 'Edema']\n",
    "\n",
    "train_encoded = pd.get_dummies(train2, columns=colonnes_cat, drop_first=False)\n",
    "train_encoded.head()"
   ]
  },
  {
   "cell_type": "code",
   "execution_count": 27,
   "metadata": {},
   "outputs": [
    {
     "data": {
      "text/plain": [
       "Index(['id', 'N_Days', 'Age', 'Bilirubin', 'Cholesterol', 'Albumin', 'Copper',\n",
       "       'Alk_Phos', 'SGOT', 'Tryglicerides', 'Platelets', 'Prothrombin',\n",
       "       'Stage', 'Status', 'Drug_D-penicillamine', 'Drug_Placebo', 'Sex_F',\n",
       "       'Sex_M', 'Ascites_N', 'Ascites_Y', 'Hepatomegaly_N', 'Hepatomegaly_Y',\n",
       "       'Spiders_N', 'Spiders_Y', 'Edema_N', 'Edema_S', 'Edema_Y'],\n",
       "      dtype='object')"
      ]
     },
     "execution_count": 27,
     "metadata": {},
     "output_type": "execute_result"
    }
   ],
   "source": [
    "train_encoded.columns"
   ]
  },
  {
   "cell_type": "code",
   "execution_count": 28,
   "metadata": {},
   "outputs": [
    {
     "data": {
      "text/plain": [
       "Status_encoded\n",
       "0    10049\n",
       "2     4560\n",
       "1      391\n",
       "Name: count, dtype: int64"
      ]
     },
     "execution_count": 28,
     "metadata": {},
     "output_type": "execute_result"
    }
   ],
   "source": [
    "# la colonne cible avec Label Encoding\n",
    "label_encoder = LabelEncoder()\n",
    "train_encoded['Status_encoded'] = label_encoder.fit_transform(train_encoded['Status']) \n",
    "train_encoded.drop('Status', axis=1, inplace=True)\n",
    "train_encoded['Status_encoded'].value_counts()"
   ]
  },
  {
   "cell_type": "code",
   "execution_count": 29,
   "metadata": {},
   "outputs": [
    {
     "name": "stderr",
     "output_type": "stream",
     "text": [
      "/Users/tavsiev/Desktop/projet_kaggle/.venv/lib/python3.11/site-packages/sklearn/linear_model/_logistic.py:1247: FutureWarning: 'multi_class' was deprecated in version 1.5 and will be removed in 1.7. From then on, it will always use 'multinomial'. Leave it to its default value to avoid this warning.\n",
      "  warnings.warn(\n"
     ]
    },
    {
     "name": "stdout",
     "output_type": "stream",
     "text": [
      "Log Loss: 0.4373056808432266\n",
      "              precision    recall  f1-score   support\n",
      "\n",
      "           C       0.85      0.92      0.88      2006\n",
      "          CL       0.00      0.00      0.00        74\n",
      "           D       0.78      0.69      0.73       920\n",
      "\n",
      "    accuracy                           0.83      3000\n",
      "   macro avg       0.54      0.54      0.54      3000\n",
      "weighted avg       0.81      0.83      0.81      3000\n",
      "\n"
     ]
    },
    {
     "name": "stderr",
     "output_type": "stream",
     "text": [
      "/Users/tavsiev/Desktop/projet_kaggle/.venv/lib/python3.11/site-packages/sklearn/linear_model/_logistic.py:465: ConvergenceWarning: lbfgs failed to converge (status=1):\n",
      "STOP: TOTAL NO. OF ITERATIONS REACHED LIMIT.\n",
      "\n",
      "Increase the number of iterations (max_iter) or scale the data as shown in:\n",
      "    https://scikit-learn.org/stable/modules/preprocessing.html\n",
      "Please also refer to the documentation for alternative solver options:\n",
      "    https://scikit-learn.org/stable/modules/linear_model.html#logistic-regression\n",
      "  n_iter_i = _check_optimize_result(\n"
     ]
    }
   ],
   "source": [
    "# le modèle \n",
    "X = train_encoded.drop(['id', 'Status_encoded'], axis=1) \n",
    "y = train_encoded['Status_encoded']  \n",
    "\n",
    "X_train, X_test, y_train, y_test = train_test_split(X, y, test_size=0.2, random_state=42)\n",
    "\n",
    "model = LogisticRegression(multi_class='multinomial', solver='lbfgs', max_iter=10000)\n",
    "# solver='lbfgs' par défaut\n",
    "\n",
    "model.fit(X_train, y_train)\n",
    "\n",
    "y_pred_proba = model.predict_proba(X_test)\n",
    "\n",
    "logloss = log_loss(y_test, y_pred_proba)\n",
    "print(f\"Log Loss: {logloss}\")\n",
    "\n",
    "y_pred = model.predict(X_test)\n",
    "print(classification_report(y_test, y_pred, target_names=['C', 'CL', 'D']))"
   ]
  },
  {
   "cell_type": "markdown",
   "metadata": {},
   "source": [
    "### Autre méthode"
   ]
  }
 ],
 "metadata": {
  "kernelspec": {
   "display_name": ".venv",
   "language": "python",
   "name": "python3"
  },
  "language_info": {
   "codemirror_mode": {
    "name": "ipython",
    "version": 3
   },
   "file_extension": ".py",
   "mimetype": "text/x-python",
   "name": "python",
   "nbconvert_exporter": "python",
   "pygments_lexer": "ipython3",
   "version": "3.11.4"
  }
 },
 "nbformat": 4,
 "nbformat_minor": 2
}

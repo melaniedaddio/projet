{
 "cells": [
  {
   "cell_type": "code",
   "execution_count": 1,
   "metadata": {
    "_cell_guid": "b1076dfc-b9ad-4769-8c92-a6c4dae69d19",
    "_uuid": "8f2839f25d086af736a60e9eeb907d3b93b6e0e5",
    "execution": {
     "iopub.execute_input": "2024-12-18T13:53:43.269382Z",
     "iopub.status.busy": "2024-12-18T13:53:43.268941Z",
     "iopub.status.idle": "2024-12-18T13:53:44.488490Z",
     "shell.execute_reply": "2024-12-18T13:53:44.487224Z",
     "shell.execute_reply.started": "2024-12-18T13:53:43.269345Z"
    },
    "trusted": true
   },
   "outputs": [
    {
     "name": "stdout",
     "output_type": "stream",
     "text": [
      "/kaggle/input/classification-multi-classes/sample_submission.csv\n",
      "/kaggle/input/classification-multi-classes/train.csv\n",
      "/kaggle/input/classification-multi-classes/test.csv\n"
     ]
    }
   ],
   "source": [
    "# This Python 3 environment comes with many helpful analytics libraries installed\n",
    "# It is defined by the kaggle/python Docker image: https://github.com/kaggle/docker-python\n",
    "# For example, here's several helpful packages to load\n",
    "\n",
    "import numpy as np # linear algebra\n",
    "import pandas as pd # data processing, CSV file I/O (e.g. pd.read_csv)\n",
    "\n",
    "# Input data files are available in the read-only \"../input/\" directory\n",
    "# For example, running this (by clicking run or pressing Shift+Enter) will list all files under the input directory\n",
    "\n",
    "import os\n",
    "for dirname, _, filenames in os.walk('/kaggle/input/classification-multi-classes'):\n",
    "    for filename in filenames:\n",
    "        print(os.path.join(dirname, filename))\n",
    "\n",
    "# You can write up to 20GB to the current directory (/kaggle/working/) that gets preserved as output when you create a version using \"Save & Run All\" \n",
    "# You can also write temporary files to /kaggle/temp/, but they won't be saved outside of the current session"
   ]
  },
  {
   "cell_type": "code",
   "execution_count": 2,
   "metadata": {},
   "outputs": [],
   "source": [
    "import pandas as pd"
   ]
  },
  {
   "cell_type": "code",
   "execution_count": 12,
   "metadata": {
    "execution": {
     "iopub.execute_input": "2024-12-18T14:35:21.172429Z",
     "iopub.status.busy": "2024-12-18T14:35:21.172024Z",
     "iopub.status.idle": "2024-12-18T14:35:21.233812Z",
     "shell.execute_reply": "2024-12-18T14:35:21.232808Z",
     "shell.execute_reply.started": "2024-12-18T14:35:21.172392Z"
    },
    "trusted": true
   },
   "outputs": [
    {
     "data": {
      "text/html": [
       "<div>\n",
       "<style scoped>\n",
       "    .dataframe tbody tr th:only-of-type {\n",
       "        vertical-align: middle;\n",
       "    }\n",
       "\n",
       "    .dataframe tbody tr th {\n",
       "        vertical-align: top;\n",
       "    }\n",
       "\n",
       "    .dataframe thead th {\n",
       "        text-align: right;\n",
       "    }\n",
       "</style>\n",
       "<table border=\"1\" class=\"dataframe\">\n",
       "  <thead>\n",
       "    <tr style=\"text-align: right;\">\n",
       "      <th></th>\n",
       "      <th>id</th>\n",
       "      <th>N_Days</th>\n",
       "      <th>Drug</th>\n",
       "      <th>Age</th>\n",
       "      <th>Sex</th>\n",
       "      <th>Ascites</th>\n",
       "      <th>Hepatomegaly</th>\n",
       "      <th>Spiders</th>\n",
       "      <th>Edema</th>\n",
       "      <th>Bilirubin</th>\n",
       "      <th>Cholesterol</th>\n",
       "      <th>Albumin</th>\n",
       "      <th>Copper</th>\n",
       "      <th>Alk_Phos</th>\n",
       "      <th>SGOT</th>\n",
       "      <th>Tryglicerides</th>\n",
       "      <th>Platelets</th>\n",
       "      <th>Prothrombin</th>\n",
       "      <th>Stage</th>\n",
       "      <th>Status</th>\n",
       "    </tr>\n",
       "  </thead>\n",
       "  <tbody>\n",
       "    <tr>\n",
       "      <th>0</th>\n",
       "      <td>0</td>\n",
       "      <td>1055.0</td>\n",
       "      <td>NaN</td>\n",
       "      <td>19724.0</td>\n",
       "      <td>F</td>\n",
       "      <td>NaN</td>\n",
       "      <td>NaN</td>\n",
       "      <td>NaN</td>\n",
       "      <td>N</td>\n",
       "      <td>1.3</td>\n",
       "      <td>NaN</td>\n",
       "      <td>3.64</td>\n",
       "      <td>NaN</td>\n",
       "      <td>NaN</td>\n",
       "      <td>NaN</td>\n",
       "      <td>NaN</td>\n",
       "      <td>209.0</td>\n",
       "      <td>10.5</td>\n",
       "      <td>3.0</td>\n",
       "      <td>C</td>\n",
       "    </tr>\n",
       "    <tr>\n",
       "      <th>1</th>\n",
       "      <td>1</td>\n",
       "      <td>3282.0</td>\n",
       "      <td>Placebo</td>\n",
       "      <td>17884.0</td>\n",
       "      <td>F</td>\n",
       "      <td>N</td>\n",
       "      <td>Y</td>\n",
       "      <td>Y</td>\n",
       "      <td>N</td>\n",
       "      <td>0.7</td>\n",
       "      <td>309.0</td>\n",
       "      <td>3.60</td>\n",
       "      <td>96.0</td>\n",
       "      <td>1142.0</td>\n",
       "      <td>71.3</td>\n",
       "      <td>106.0</td>\n",
       "      <td>240.0</td>\n",
       "      <td>12.4</td>\n",
       "      <td>4.0</td>\n",
       "      <td>C</td>\n",
       "    </tr>\n",
       "    <tr>\n",
       "      <th>2</th>\n",
       "      <td>2</td>\n",
       "      <td>1653.0</td>\n",
       "      <td>NaN</td>\n",
       "      <td>20600.0</td>\n",
       "      <td>F</td>\n",
       "      <td>NaN</td>\n",
       "      <td>NaN</td>\n",
       "      <td>NaN</td>\n",
       "      <td>N</td>\n",
       "      <td>2.2</td>\n",
       "      <td>NaN</td>\n",
       "      <td>3.64</td>\n",
       "      <td>NaN</td>\n",
       "      <td>NaN</td>\n",
       "      <td>NaN</td>\n",
       "      <td>NaN</td>\n",
       "      <td>139.0</td>\n",
       "      <td>9.5</td>\n",
       "      <td>2.0</td>\n",
       "      <td>C</td>\n",
       "    </tr>\n",
       "    <tr>\n",
       "      <th>3</th>\n",
       "      <td>3</td>\n",
       "      <td>999.0</td>\n",
       "      <td>D-penicillamine</td>\n",
       "      <td>22514.0</td>\n",
       "      <td>F</td>\n",
       "      <td>N</td>\n",
       "      <td>Y</td>\n",
       "      <td>N</td>\n",
       "      <td>N</td>\n",
       "      <td>1.0</td>\n",
       "      <td>498.0</td>\n",
       "      <td>3.35</td>\n",
       "      <td>89.0</td>\n",
       "      <td>1601.0</td>\n",
       "      <td>164.3</td>\n",
       "      <td>85.0</td>\n",
       "      <td>394.0</td>\n",
       "      <td>9.7</td>\n",
       "      <td>3.0</td>\n",
       "      <td>C</td>\n",
       "    </tr>\n",
       "    <tr>\n",
       "      <th>4</th>\n",
       "      <td>4</td>\n",
       "      <td>2202.0</td>\n",
       "      <td>NaN</td>\n",
       "      <td>17897.0</td>\n",
       "      <td>F</td>\n",
       "      <td>NaN</td>\n",
       "      <td>NaN</td>\n",
       "      <td>NaN</td>\n",
       "      <td>N</td>\n",
       "      <td>17.2</td>\n",
       "      <td>NaN</td>\n",
       "      <td>3.15</td>\n",
       "      <td>NaN</td>\n",
       "      <td>NaN</td>\n",
       "      <td>NaN</td>\n",
       "      <td>NaN</td>\n",
       "      <td>432.0</td>\n",
       "      <td>11.2</td>\n",
       "      <td>3.0</td>\n",
       "      <td>C</td>\n",
       "    </tr>\n",
       "  </tbody>\n",
       "</table>\n",
       "</div>"
      ],
      "text/plain": [
       "   id  N_Days             Drug      Age Sex Ascites Hepatomegaly Spiders  \\\n",
       "0   0  1055.0              NaN  19724.0   F     NaN          NaN     NaN   \n",
       "1   1  3282.0          Placebo  17884.0   F       N            Y       Y   \n",
       "2   2  1653.0              NaN  20600.0   F     NaN          NaN     NaN   \n",
       "3   3   999.0  D-penicillamine  22514.0   F       N            Y       N   \n",
       "4   4  2202.0              NaN  17897.0   F     NaN          NaN     NaN   \n",
       "\n",
       "  Edema  Bilirubin  Cholesterol  Albumin  Copper  Alk_Phos   SGOT  \\\n",
       "0     N        1.3          NaN     3.64     NaN       NaN    NaN   \n",
       "1     N        0.7        309.0     3.60    96.0    1142.0   71.3   \n",
       "2     N        2.2          NaN     3.64     NaN       NaN    NaN   \n",
       "3     N        1.0        498.0     3.35    89.0    1601.0  164.3   \n",
       "4     N       17.2          NaN     3.15     NaN       NaN    NaN   \n",
       "\n",
       "   Tryglicerides  Platelets  Prothrombin  Stage Status  \n",
       "0            NaN      209.0         10.5    3.0      C  \n",
       "1          106.0      240.0         12.4    4.0      C  \n",
       "2            NaN      139.0          9.5    2.0      C  \n",
       "3           85.0      394.0          9.7    3.0      C  \n",
       "4            NaN      432.0         11.2    3.0      C  "
      ]
     },
     "execution_count": 12,
     "metadata": {},
     "output_type": "execute_result"
    }
   ],
   "source": [
    "train_df = pd.read_csv(\"C:/Users/daddi/OneDrive/Bureau/projet_m2/eco_non_lineaire/classification-multi-classes/train.csv\", \n",
    "                      delimiter = \",\",\n",
    "                      header = 0)\n",
    "\n",
    "train_df.head()"
   ]
  },
  {
   "cell_type": "code",
   "execution_count": 13,
   "metadata": {
    "execution": {
     "iopub.execute_input": "2024-12-18T14:35:21.347774Z",
     "iopub.status.busy": "2024-12-18T14:35:21.347403Z",
     "iopub.status.idle": "2024-12-18T14:35:21.355112Z",
     "shell.execute_reply": "2024-12-18T14:35:21.353843Z",
     "shell.execute_reply.started": "2024-12-18T14:35:21.347740Z"
    },
    "trusted": true
   },
   "outputs": [
    {
     "data": {
      "text/plain": [
       "(15000, 20)"
      ]
     },
     "execution_count": 13,
     "metadata": {},
     "output_type": "execute_result"
    }
   ],
   "source": [
    "train_df.shape"
   ]
  },
  {
   "cell_type": "code",
   "execution_count": 14,
   "metadata": {
    "execution": {
     "iopub.execute_input": "2024-12-18T14:43:57.141181Z",
     "iopub.status.busy": "2024-12-18T14:43:57.140749Z",
     "iopub.status.idle": "2024-12-18T14:43:57.160118Z",
     "shell.execute_reply": "2024-12-18T14:43:57.159116Z",
     "shell.execute_reply.started": "2024-12-18T14:43:57.141142Z"
    },
    "trusted": true
   },
   "outputs": [
    {
     "name": "stdout",
     "output_type": "stream",
     "text": [
      "<class 'pandas.core.frame.DataFrame'>\n",
      "RangeIndex: 15000 entries, 0 to 14999\n",
      "Data columns (total 20 columns):\n",
      " #   Column         Non-Null Count  Dtype  \n",
      "---  ------         --------------  -----  \n",
      " 0   id             15000 non-null  int64  \n",
      " 1   N_Days         15000 non-null  float64\n",
      " 2   Drug           8564 non-null   object \n",
      " 3   Age            15000 non-null  float64\n",
      " 4   Sex            15000 non-null  object \n",
      " 5   Ascites        8563 non-null   object \n",
      " 6   Hepatomegaly   8564 non-null   object \n",
      " 7   Spiders        8555 non-null   object \n",
      " 8   Edema          15000 non-null  object \n",
      " 9   Bilirubin      15000 non-null  float64\n",
      " 10  Cholesterol    6669 non-null   float64\n",
      " 11  Albumin        15000 non-null  float64\n",
      " 12  Copper         8452 non-null   float64\n",
      " 13  Alk_Phos       8558 non-null   float64\n",
      " 14  SGOT           8555 non-null   float64\n",
      " 15  Tryglicerides  6630 non-null   float64\n",
      " 16  Platelets      14414 non-null  float64\n",
      " 17  Prothrombin    14974 non-null  float64\n",
      " 18  Stage          15000 non-null  float64\n",
      " 19  Status         15000 non-null  object \n",
      "dtypes: float64(12), int64(1), object(7)\n",
      "memory usage: 2.3+ MB\n"
     ]
    }
   ],
   "source": [
    "train_df.info()"
   ]
  },
  {
   "cell_type": "markdown",
   "metadata": {},
   "source": [
    "- id : Identifiant unique de chaque patient ou enregistrement. \n",
    "- N_Days : Nombre de jours écoulés depuis un événement de référence (par exemple, diagnostic, début du suivi, ou début du traitement).\n",
    "- Drug : Nom ou catégorie du médicament administré au patient.\n",
    "- Age : Âge du patient (probablement en années).\n",
    "- Sex : Sexe du patient (Male ou Female).\n",
    "- Ascites : Présence d’ascite (accumulation de liquide dans la cavité abdominale). Valeurs possibles : Yes, No, ou NA (inconnue).\n",
    "- Hepatomegaly : Présence d’hépatomégalie (augmentation du volume du foie). Valeurs possibles : Yes, No, ou NA.\n",
    "- Spiders : Présence de telangiectasies en araignée (lésions vasculaires cutanées). Valeurs possibles : Yes, No, ou NA.\n",
    "- Edema : Présence d’œdème. Peut inclure des catégories comme None, Slight, ou Marked.\n",
    "- Bilirubin : Niveau de bilirubine dans le sang (en mg/dL), un marqueur de la fonction hépatique.\n",
    "- Cholesterol : Niveau de cholestérol dans le sang (en mg/dL), souvent indicatif d’une santé globale ou de troubles métaboliques.\n",
    "- Albumin : Niveau d’albumine dans le sang (en g/dL), un marqueur nutritionnel et de la fonction hépatique.\n",
    "- Copper : Concentration de cuivre dans le sang ou l’urine (en µg/dL), indicateur d’une éventuelle maladie de Wilson ou autre désordre métabolique.\n",
    "- Alk_Phos : Niveau de phosphatases alcalines (en UI/L), un indicateur de fonction hépatique ou osseuse.\n",
    "- SGOT : Niveau d'enzymes transaminases (SGOT ou AST) (en UI/L), indicateur de dommages au foie ou à d’autres organes.\n",
    "- Tryglicerides : Niveau de triglycérides dans le sang (en mg/dL), un marqueur lipidique et métabolique.\n",
    "- Platelets : Nombre de plaquettes dans le sang (en milliers/μL), un indicateur de la coagulation.\n",
    "- Prothrombin : Temps de prothrombine (en secondes ou % d’activité), un test de coagulation pour évaluer la fonction hépatique.\n",
    "- Stage : Stade de la maladie, basé sur un système de classification (souvent de 1 à 4, où 4 est le plus sévère).\n",
    "- Status : État ou issue du patient. Par exemple : Alive, Deceased, ou autres catégories."
   ]
  },
  {
   "cell_type": "code",
   "execution_count": 15,
   "metadata": {
    "execution": {
     "iopub.execute_input": "2024-12-18T14:35:23.363011Z",
     "iopub.status.busy": "2024-12-18T14:35:23.362612Z",
     "iopub.status.idle": "2024-12-18T14:35:23.416397Z",
     "shell.execute_reply": "2024-12-18T14:35:23.415271Z",
     "shell.execute_reply.started": "2024-12-18T14:35:23.362974Z"
    },
    "trusted": true
   },
   "outputs": [
    {
     "data": {
      "text/html": [
       "<div>\n",
       "<style scoped>\n",
       "    .dataframe tbody tr th:only-of-type {\n",
       "        vertical-align: middle;\n",
       "    }\n",
       "\n",
       "    .dataframe tbody tr th {\n",
       "        vertical-align: top;\n",
       "    }\n",
       "\n",
       "    .dataframe thead th {\n",
       "        text-align: right;\n",
       "    }\n",
       "</style>\n",
       "<table border=\"1\" class=\"dataframe\">\n",
       "  <thead>\n",
       "    <tr style=\"text-align: right;\">\n",
       "      <th></th>\n",
       "      <th>id</th>\n",
       "      <th>N_Days</th>\n",
       "      <th>Age</th>\n",
       "      <th>Bilirubin</th>\n",
       "      <th>Cholesterol</th>\n",
       "      <th>Albumin</th>\n",
       "      <th>Copper</th>\n",
       "      <th>Alk_Phos</th>\n",
       "      <th>SGOT</th>\n",
       "      <th>Tryglicerides</th>\n",
       "      <th>Platelets</th>\n",
       "      <th>Prothrombin</th>\n",
       "      <th>Stage</th>\n",
       "    </tr>\n",
       "  </thead>\n",
       "  <tbody>\n",
       "    <tr>\n",
       "      <th>count</th>\n",
       "      <td>15000.000000</td>\n",
       "      <td>15000.000000</td>\n",
       "      <td>15000.000000</td>\n",
       "      <td>15000.000000</td>\n",
       "      <td>6669.000000</td>\n",
       "      <td>15000.000000</td>\n",
       "      <td>8452.000000</td>\n",
       "      <td>8558.000000</td>\n",
       "      <td>8555.000000</td>\n",
       "      <td>6630.000000</td>\n",
       "      <td>14414.000000</td>\n",
       "      <td>14974.000000</td>\n",
       "      <td>15000.000000</td>\n",
       "    </tr>\n",
       "    <tr>\n",
       "      <th>mean</th>\n",
       "      <td>7499.500000</td>\n",
       "      <td>1966.998733</td>\n",
       "      <td>19248.502373</td>\n",
       "      <td>1.861462</td>\n",
       "      <td>327.670115</td>\n",
       "      <td>3.525314</td>\n",
       "      <td>74.715689</td>\n",
       "      <td>1667.605282</td>\n",
       "      <td>106.579545</td>\n",
       "      <td>110.297097</td>\n",
       "      <td>253.822027</td>\n",
       "      <td>10.627748</td>\n",
       "      <td>3.025667</td>\n",
       "    </tr>\n",
       "    <tr>\n",
       "      <th>std</th>\n",
       "      <td>4330.271354</td>\n",
       "      <td>1355.897299</td>\n",
       "      <td>3697.546749</td>\n",
       "      <td>2.752375</td>\n",
       "      <td>179.801705</td>\n",
       "      <td>0.369981</td>\n",
       "      <td>74.211915</td>\n",
       "      <td>1861.746315</td>\n",
       "      <td>56.493338</td>\n",
       "      <td>49.676146</td>\n",
       "      <td>94.074989</td>\n",
       "      <td>0.741888</td>\n",
       "      <td>0.877796</td>\n",
       "    </tr>\n",
       "    <tr>\n",
       "      <th>min</th>\n",
       "      <td>0.000000</td>\n",
       "      <td>3.000000</td>\n",
       "      <td>133.300000</td>\n",
       "      <td>0.300000</td>\n",
       "      <td>120.000000</td>\n",
       "      <td>1.800000</td>\n",
       "      <td>4.000000</td>\n",
       "      <td>16.000000</td>\n",
       "      <td>8.000000</td>\n",
       "      <td>33.000000</td>\n",
       "      <td>0.400000</td>\n",
       "      <td>7.100000</td>\n",
       "      <td>1.000000</td>\n",
       "    </tr>\n",
       "    <tr>\n",
       "      <th>25%</th>\n",
       "      <td>3749.750000</td>\n",
       "      <td>1092.000000</td>\n",
       "      <td>16374.000000</td>\n",
       "      <td>0.600000</td>\n",
       "      <td>242.000000</td>\n",
       "      <td>3.290000</td>\n",
       "      <td>31.000000</td>\n",
       "      <td>721.000000</td>\n",
       "      <td>71.000000</td>\n",
       "      <td>80.000000</td>\n",
       "      <td>183.000000</td>\n",
       "      <td>10.100000</td>\n",
       "      <td>2.000000</td>\n",
       "    </tr>\n",
       "    <tr>\n",
       "      <th>50%</th>\n",
       "      <td>7499.500000</td>\n",
       "      <td>1785.000000</td>\n",
       "      <td>19544.000000</td>\n",
       "      <td>0.900000</td>\n",
       "      <td>280.000000</td>\n",
       "      <td>3.580000</td>\n",
       "      <td>52.000000</td>\n",
       "      <td>1072.000000</td>\n",
       "      <td>97.650000</td>\n",
       "      <td>99.000000</td>\n",
       "      <td>251.000000</td>\n",
       "      <td>10.600000</td>\n",
       "      <td>3.000000</td>\n",
       "    </tr>\n",
       "    <tr>\n",
       "      <th>75%</th>\n",
       "      <td>11249.250000</td>\n",
       "      <td>2635.000000</td>\n",
       "      <td>22369.000000</td>\n",
       "      <td>1.800000</td>\n",
       "      <td>360.000000</td>\n",
       "      <td>3.770000</td>\n",
       "      <td>86.000000</td>\n",
       "      <td>1691.250000</td>\n",
       "      <td>133.300000</td>\n",
       "      <td>133.000000</td>\n",
       "      <td>312.000000</td>\n",
       "      <td>11.000000</td>\n",
       "      <td>4.000000</td>\n",
       "    </tr>\n",
       "    <tr>\n",
       "      <th>max</th>\n",
       "      <td>14999.000000</td>\n",
       "      <td>40795.000000</td>\n",
       "      <td>35472.000000</td>\n",
       "      <td>28.000000</td>\n",
       "      <td>1790.000000</td>\n",
       "      <td>4.640000</td>\n",
       "      <td>588.000000</td>\n",
       "      <td>19270.000000</td>\n",
       "      <td>2148.000000</td>\n",
       "      <td>598.000000</td>\n",
       "      <td>724.000000</td>\n",
       "      <td>18.000000</td>\n",
       "      <td>4.000000</td>\n",
       "    </tr>\n",
       "  </tbody>\n",
       "</table>\n",
       "</div>"
      ],
      "text/plain": [
       "                 id        N_Days           Age     Bilirubin  Cholesterol  \\\n",
       "count  15000.000000  15000.000000  15000.000000  15000.000000  6669.000000   \n",
       "mean    7499.500000   1966.998733  19248.502373      1.861462   327.670115   \n",
       "std     4330.271354   1355.897299   3697.546749      2.752375   179.801705   \n",
       "min        0.000000      3.000000    133.300000      0.300000   120.000000   \n",
       "25%     3749.750000   1092.000000  16374.000000      0.600000   242.000000   \n",
       "50%     7499.500000   1785.000000  19544.000000      0.900000   280.000000   \n",
       "75%    11249.250000   2635.000000  22369.000000      1.800000   360.000000   \n",
       "max    14999.000000  40795.000000  35472.000000     28.000000  1790.000000   \n",
       "\n",
       "            Albumin       Copper      Alk_Phos         SGOT  Tryglicerides  \\\n",
       "count  15000.000000  8452.000000   8558.000000  8555.000000    6630.000000   \n",
       "mean       3.525314    74.715689   1667.605282   106.579545     110.297097   \n",
       "std        0.369981    74.211915   1861.746315    56.493338      49.676146   \n",
       "min        1.800000     4.000000     16.000000     8.000000      33.000000   \n",
       "25%        3.290000    31.000000    721.000000    71.000000      80.000000   \n",
       "50%        3.580000    52.000000   1072.000000    97.650000      99.000000   \n",
       "75%        3.770000    86.000000   1691.250000   133.300000     133.000000   \n",
       "max        4.640000   588.000000  19270.000000  2148.000000     598.000000   \n",
       "\n",
       "          Platelets   Prothrombin         Stage  \n",
       "count  14414.000000  14974.000000  15000.000000  \n",
       "mean     253.822027     10.627748      3.025667  \n",
       "std       94.074989      0.741888      0.877796  \n",
       "min        0.400000      7.100000      1.000000  \n",
       "25%      183.000000     10.100000      2.000000  \n",
       "50%      251.000000     10.600000      3.000000  \n",
       "75%      312.000000     11.000000      4.000000  \n",
       "max      724.000000     18.000000      4.000000  "
      ]
     },
     "execution_count": 15,
     "metadata": {},
     "output_type": "execute_result"
    }
   ],
   "source": [
    "train_df.describe()"
   ]
  },
  {
   "cell_type": "code",
   "execution_count": 16,
   "metadata": {
    "execution": {
     "iopub.execute_input": "2024-12-18T14:35:24.127379Z",
     "iopub.status.busy": "2024-12-18T14:35:24.126975Z",
     "iopub.status.idle": "2024-12-18T14:35:24.134024Z",
     "shell.execute_reply": "2024-12-18T14:35:24.132951Z",
     "shell.execute_reply.started": "2024-12-18T14:35:24.127345Z"
    },
    "trusted": true
   },
   "outputs": [],
   "source": [
    "# supprimer id\n",
    "train_df.drop(columns='id',inplace = True)"
   ]
  },
  {
   "cell_type": "code",
   "execution_count": 17,
   "metadata": {
    "execution": {
     "iopub.execute_input": "2024-12-18T14:36:16.607345Z",
     "iopub.status.busy": "2024-12-18T14:36:16.606925Z",
     "iopub.status.idle": "2024-12-18T14:36:16.613814Z",
     "shell.execute_reply": "2024-12-18T14:36:16.612636Z",
     "shell.execute_reply.started": "2024-12-18T14:36:16.607305Z"
    },
    "trusted": true
   },
   "outputs": [],
   "source": [
    "# stage mettre en int\n",
    "train_df['Stage'] = train_df['Stage'].astype('int')"
   ]
  },
  {
   "cell_type": "code",
   "execution_count": 18,
   "metadata": {
    "execution": {
     "iopub.execute_input": "2024-12-18T14:36:32.877200Z",
     "iopub.status.busy": "2024-12-18T14:36:32.876798Z",
     "iopub.status.idle": "2024-12-18T14:36:32.901518Z",
     "shell.execute_reply": "2024-12-18T14:36:32.900416Z",
     "shell.execute_reply.started": "2024-12-18T14:36:32.877162Z"
    },
    "trusted": true
   },
   "outputs": [
    {
     "data": {
      "text/html": [
       "<div>\n",
       "<style scoped>\n",
       "    .dataframe tbody tr th:only-of-type {\n",
       "        vertical-align: middle;\n",
       "    }\n",
       "\n",
       "    .dataframe tbody tr th {\n",
       "        vertical-align: top;\n",
       "    }\n",
       "\n",
       "    .dataframe thead th {\n",
       "        text-align: right;\n",
       "    }\n",
       "</style>\n",
       "<table border=\"1\" class=\"dataframe\">\n",
       "  <thead>\n",
       "    <tr style=\"text-align: right;\">\n",
       "      <th></th>\n",
       "      <th>N_Days</th>\n",
       "      <th>Drug</th>\n",
       "      <th>Age</th>\n",
       "      <th>Sex</th>\n",
       "      <th>Ascites</th>\n",
       "      <th>Hepatomegaly</th>\n",
       "      <th>Spiders</th>\n",
       "      <th>Edema</th>\n",
       "      <th>Bilirubin</th>\n",
       "      <th>Cholesterol</th>\n",
       "      <th>Albumin</th>\n",
       "      <th>Copper</th>\n",
       "      <th>Alk_Phos</th>\n",
       "      <th>SGOT</th>\n",
       "      <th>Tryglicerides</th>\n",
       "      <th>Platelets</th>\n",
       "      <th>Prothrombin</th>\n",
       "      <th>Stage</th>\n",
       "      <th>Status</th>\n",
       "    </tr>\n",
       "  </thead>\n",
       "  <tbody>\n",
       "    <tr>\n",
       "      <th>1263</th>\n",
       "      <td>2995.0</td>\n",
       "      <td>Placebo</td>\n",
       "      <td>2990.0</td>\n",
       "      <td>F</td>\n",
       "      <td>N</td>\n",
       "      <td>N</td>\n",
       "      <td>N</td>\n",
       "      <td>N</td>\n",
       "      <td>0.9</td>\n",
       "      <td>314.0</td>\n",
       "      <td>3.48</td>\n",
       "      <td>18.0</td>\n",
       "      <td>1164.0</td>\n",
       "      <td>71.00</td>\n",
       "      <td>260.0</td>\n",
       "      <td>340.0</td>\n",
       "      <td>10.0</td>\n",
       "      <td>2</td>\n",
       "      <td>C</td>\n",
       "    </tr>\n",
       "    <tr>\n",
       "      <th>4216</th>\n",
       "      <td>2504.0</td>\n",
       "      <td>D-penicillamine</td>\n",
       "      <td>133.3</td>\n",
       "      <td>F</td>\n",
       "      <td>N</td>\n",
       "      <td>N</td>\n",
       "      <td>N</td>\n",
       "      <td>N</td>\n",
       "      <td>2.1</td>\n",
       "      <td>NaN</td>\n",
       "      <td>3.00</td>\n",
       "      <td>24.0</td>\n",
       "      <td>1828.0</td>\n",
       "      <td>133.30</td>\n",
       "      <td>NaN</td>\n",
       "      <td>474.0</td>\n",
       "      <td>10.1</td>\n",
       "      <td>3</td>\n",
       "      <td>C</td>\n",
       "    </tr>\n",
       "    <tr>\n",
       "      <th>5860</th>\n",
       "      <td>3445.0</td>\n",
       "      <td>D-penicillamine</td>\n",
       "      <td>133.3</td>\n",
       "      <td>F</td>\n",
       "      <td>N</td>\n",
       "      <td>Y</td>\n",
       "      <td>N</td>\n",
       "      <td>N</td>\n",
       "      <td>2.3</td>\n",
       "      <td>NaN</td>\n",
       "      <td>3.61</td>\n",
       "      <td>39.0</td>\n",
       "      <td>1828.0</td>\n",
       "      <td>133.30</td>\n",
       "      <td>NaN</td>\n",
       "      <td>123.0</td>\n",
       "      <td>10.3</td>\n",
       "      <td>4</td>\n",
       "      <td>D</td>\n",
       "    </tr>\n",
       "    <tr>\n",
       "      <th>14686</th>\n",
       "      <td>13728.0</td>\n",
       "      <td>Placebo</td>\n",
       "      <td>13727.0</td>\n",
       "      <td>F</td>\n",
       "      <td>Y</td>\n",
       "      <td>Y</td>\n",
       "      <td>N</td>\n",
       "      <td>Y</td>\n",
       "      <td>12.2</td>\n",
       "      <td>373.0</td>\n",
       "      <td>2.94</td>\n",
       "      <td>150.0</td>\n",
       "      <td>1029.0</td>\n",
       "      <td>119.35</td>\n",
       "      <td>151.0</td>\n",
       "      <td>399.0</td>\n",
       "      <td>11.6</td>\n",
       "      <td>4</td>\n",
       "      <td>D</td>\n",
       "    </tr>\n",
       "    <tr>\n",
       "      <th>14692</th>\n",
       "      <td>40795.0</td>\n",
       "      <td>D-penicillamine</td>\n",
       "      <td>17874.0</td>\n",
       "      <td>F</td>\n",
       "      <td>N</td>\n",
       "      <td>N</td>\n",
       "      <td>Y</td>\n",
       "      <td>N</td>\n",
       "      <td>1.4</td>\n",
       "      <td>486.0</td>\n",
       "      <td>3.45</td>\n",
       "      <td>32.0</td>\n",
       "      <td>2201.0</td>\n",
       "      <td>117.80</td>\n",
       "      <td>70.0</td>\n",
       "      <td>410.0</td>\n",
       "      <td>11.7</td>\n",
       "      <td>3</td>\n",
       "      <td>C</td>\n",
       "    </tr>\n",
       "  </tbody>\n",
       "</table>\n",
       "</div>"
      ],
      "text/plain": [
       "        N_Days             Drug      Age Sex Ascites Hepatomegaly Spiders  \\\n",
       "1263    2995.0          Placebo   2990.0   F       N            N       N   \n",
       "4216    2504.0  D-penicillamine    133.3   F       N            N       N   \n",
       "5860    3445.0  D-penicillamine    133.3   F       N            Y       N   \n",
       "14686  13728.0          Placebo  13727.0   F       Y            Y       N   \n",
       "14692  40795.0  D-penicillamine  17874.0   F       N            N       Y   \n",
       "\n",
       "      Edema  Bilirubin  Cholesterol  Albumin  Copper  Alk_Phos    SGOT  \\\n",
       "1263      N        0.9        314.0     3.48    18.0    1164.0   71.00   \n",
       "4216      N        2.1          NaN     3.00    24.0    1828.0  133.30   \n",
       "5860      N        2.3          NaN     3.61    39.0    1828.0  133.30   \n",
       "14686     Y       12.2        373.0     2.94   150.0    1029.0  119.35   \n",
       "14692     N        1.4        486.0     3.45    32.0    2201.0  117.80   \n",
       "\n",
       "       Tryglicerides  Platelets  Prothrombin  Stage Status  \n",
       "1263           260.0      340.0         10.0      2      C  \n",
       "4216             NaN      474.0         10.1      3      C  \n",
       "5860             NaN      123.0         10.3      4      D  \n",
       "14686          151.0      399.0         11.6      4      D  \n",
       "14692           70.0      410.0         11.7      3      C  "
      ]
     },
     "execution_count": 18,
     "metadata": {},
     "output_type": "execute_result"
    }
   ],
   "source": [
    "train_df[train_df['Age']<train_df['N_Days']]\n",
    "# problème à ce niveau car il est imossible d'avoir un age inferieur au nombre de jour de traitement\n",
    "# les supprimer"
   ]
  },
  {
   "cell_type": "code",
   "execution_count": 19,
   "metadata": {
    "execution": {
     "iopub.execute_input": "2024-12-18T14:37:14.419631Z",
     "iopub.status.busy": "2024-12-18T14:37:14.418892Z",
     "iopub.status.idle": "2024-12-18T14:37:14.428990Z",
     "shell.execute_reply": "2024-12-18T14:37:14.427761Z",
     "shell.execute_reply.started": "2024-12-18T14:37:14.419583Z"
    },
    "trusted": true
   },
   "outputs": [],
   "source": [
    "train_df.drop(train_df[train_df['Age'] < train_df['N_Days']].index, inplace=True)"
   ]
  },
  {
   "cell_type": "code",
   "execution_count": 20,
   "metadata": {
    "execution": {
     "iopub.execute_input": "2024-12-18T14:37:34.970549Z",
     "iopub.status.busy": "2024-12-18T14:37:34.970185Z",
     "iopub.status.idle": "2024-12-18T14:37:34.983707Z",
     "shell.execute_reply": "2024-12-18T14:37:34.982421Z",
     "shell.execute_reply.started": "2024-12-18T14:37:34.970518Z"
    },
    "trusted": true
   },
   "outputs": [
    {
     "data": {
      "text/html": [
       "<div>\n",
       "<style scoped>\n",
       "    .dataframe tbody tr th:only-of-type {\n",
       "        vertical-align: middle;\n",
       "    }\n",
       "\n",
       "    .dataframe tbody tr th {\n",
       "        vertical-align: top;\n",
       "    }\n",
       "\n",
       "    .dataframe thead th {\n",
       "        text-align: right;\n",
       "    }\n",
       "</style>\n",
       "<table border=\"1\" class=\"dataframe\">\n",
       "  <thead>\n",
       "    <tr style=\"text-align: right;\">\n",
       "      <th></th>\n",
       "      <th>N_Days</th>\n",
       "      <th>Drug</th>\n",
       "      <th>Age</th>\n",
       "      <th>Sex</th>\n",
       "      <th>Ascites</th>\n",
       "      <th>Hepatomegaly</th>\n",
       "      <th>Spiders</th>\n",
       "      <th>Edema</th>\n",
       "      <th>Bilirubin</th>\n",
       "      <th>Cholesterol</th>\n",
       "      <th>Albumin</th>\n",
       "      <th>Copper</th>\n",
       "      <th>Alk_Phos</th>\n",
       "      <th>SGOT</th>\n",
       "      <th>Tryglicerides</th>\n",
       "      <th>Platelets</th>\n",
       "      <th>Prothrombin</th>\n",
       "      <th>Stage</th>\n",
       "      <th>Status</th>\n",
       "    </tr>\n",
       "  </thead>\n",
       "  <tbody>\n",
       "  </tbody>\n",
       "</table>\n",
       "</div>"
      ],
      "text/plain": [
       "Empty DataFrame\n",
       "Columns: [N_Days, Drug, Age, Sex, Ascites, Hepatomegaly, Spiders, Edema, Bilirubin, Cholesterol, Albumin, Copper, Alk_Phos, SGOT, Tryglicerides, Platelets, Prothrombin, Stage, Status]\n",
       "Index: []"
      ]
     },
     "execution_count": 20,
     "metadata": {},
     "output_type": "execute_result"
    }
   ],
   "source": [
    "train_df[train_df['Age']<train_df['N_Days']]"
   ]
  },
  {
   "cell_type": "code",
   "execution_count": 21,
   "metadata": {
    "execution": {
     "iopub.execute_input": "2024-12-18T14:38:11.602992Z",
     "iopub.status.busy": "2024-12-18T14:38:11.601903Z",
     "iopub.status.idle": "2024-12-18T14:38:11.615733Z",
     "shell.execute_reply": "2024-12-18T14:38:11.614527Z",
     "shell.execute_reply.started": "2024-12-18T14:38:11.602935Z"
    },
    "trusted": true
   },
   "outputs": [
    {
     "data": {
      "text/plain": [
       "count    14995.000000\n",
       "mean     19252.596065\n",
       "std       3688.884262\n",
       "min       1150.000000\n",
       "25%      16374.000000\n",
       "50%      19544.000000\n",
       "75%      22369.000000\n",
       "max      35472.000000\n",
       "Name: Age, dtype: float64"
      ]
     },
     "execution_count": 21,
     "metadata": {},
     "output_type": "execute_result"
    }
   ],
   "source": [
    "train_df['Age'].describe()"
   ]
  },
  {
   "cell_type": "code",
   "execution_count": 22,
   "metadata": {
    "execution": {
     "iopub.execute_input": "2024-12-18T14:39:26.687027Z",
     "iopub.status.busy": "2024-12-18T14:39:26.686628Z",
     "iopub.status.idle": "2024-12-18T14:39:26.693191Z",
     "shell.execute_reply": "2024-12-18T14:39:26.692100Z",
     "shell.execute_reply.started": "2024-12-18T14:39:26.686987Z"
    },
    "trusted": true
   },
   "outputs": [],
   "source": [
    "# probleme avec age qui est en jour\n",
    "train_df['Age'] = round(train_df['Age'] / 365, 0)"
   ]
  },
  {
   "cell_type": "code",
   "execution_count": 23,
   "metadata": {
    "execution": {
     "iopub.execute_input": "2024-12-18T14:39:27.511582Z",
     "iopub.status.busy": "2024-12-18T14:39:27.511214Z",
     "iopub.status.idle": "2024-12-18T14:39:27.517261Z",
     "shell.execute_reply": "2024-12-18T14:39:27.516140Z",
     "shell.execute_reply.started": "2024-12-18T14:39:27.511549Z"
    },
    "trusted": true
   },
   "outputs": [],
   "source": [
    "# age mettre en int\n",
    "train_df['Age'] = train_df['Age'].astype('int')"
   ]
  },
  {
   "cell_type": "code",
   "execution_count": 24,
   "metadata": {
    "execution": {
     "iopub.execute_input": "2024-12-18T14:43:37.970661Z",
     "iopub.status.busy": "2024-12-18T14:43:37.970271Z",
     "iopub.status.idle": "2024-12-18T14:43:37.976727Z",
     "shell.execute_reply": "2024-12-18T14:43:37.975581Z",
     "shell.execute_reply.started": "2024-12-18T14:43:37.970624Z"
    },
    "trusted": true
   },
   "outputs": [],
   "source": [
    "# Mettre N_Days en int\n",
    "train_df['N_Days'] = train_df['N_Days'].astype('int')"
   ]
  },
  {
   "cell_type": "code",
   "execution_count": 25,
   "metadata": {
    "execution": {
     "iopub.execute_input": "2024-12-18T14:39:36.925720Z",
     "iopub.status.busy": "2024-12-18T14:39:36.925339Z",
     "iopub.status.idle": "2024-12-18T14:39:36.937992Z",
     "shell.execute_reply": "2024-12-18T14:39:36.936814Z",
     "shell.execute_reply.started": "2024-12-18T14:39:36.925685Z"
    },
    "trusted": true
   },
   "outputs": [
    {
     "data": {
      "text/html": [
       "<div>\n",
       "<style scoped>\n",
       "    .dataframe tbody tr th:only-of-type {\n",
       "        vertical-align: middle;\n",
       "    }\n",
       "\n",
       "    .dataframe tbody tr th {\n",
       "        vertical-align: top;\n",
       "    }\n",
       "\n",
       "    .dataframe thead th {\n",
       "        text-align: right;\n",
       "    }\n",
       "</style>\n",
       "<table border=\"1\" class=\"dataframe\">\n",
       "  <thead>\n",
       "    <tr style=\"text-align: right;\">\n",
       "      <th></th>\n",
       "      <th>N_Days</th>\n",
       "      <th>Age</th>\n",
       "      <th>Bilirubin</th>\n",
       "      <th>Cholesterol</th>\n",
       "      <th>Albumin</th>\n",
       "      <th>Copper</th>\n",
       "      <th>Alk_Phos</th>\n",
       "      <th>SGOT</th>\n",
       "      <th>Tryglicerides</th>\n",
       "      <th>Platelets</th>\n",
       "      <th>Prothrombin</th>\n",
       "      <th>Stage</th>\n",
       "    </tr>\n",
       "  </thead>\n",
       "  <tbody>\n",
       "    <tr>\n",
       "      <th>count</th>\n",
       "      <td>14995.000000</td>\n",
       "      <td>14995.000000</td>\n",
       "      <td>14995.000000</td>\n",
       "      <td>6666.000000</td>\n",
       "      <td>14995.000000</td>\n",
       "      <td>8447.000000</td>\n",
       "      <td>8553.000000</td>\n",
       "      <td>8550.000000</td>\n",
       "      <td>6627.000000</td>\n",
       "      <td>14409.000000</td>\n",
       "      <td>14969.000000</td>\n",
       "      <td>14995.000000</td>\n",
       "    </tr>\n",
       "    <tr>\n",
       "      <th>mean</th>\n",
       "      <td>1963.422074</td>\n",
       "      <td>52.733378</td>\n",
       "      <td>1.860822</td>\n",
       "      <td>327.641614</td>\n",
       "      <td>3.525390</td>\n",
       "      <td>74.728779</td>\n",
       "      <td>1667.638957</td>\n",
       "      <td>106.574650</td>\n",
       "      <td>110.274445</td>\n",
       "      <td>253.788931</td>\n",
       "      <td>10.627711</td>\n",
       "      <td>3.025609</td>\n",
       "    </tr>\n",
       "    <tr>\n",
       "      <th>std</th>\n",
       "      <td>1314.933251</td>\n",
       "      <td>10.078603</td>\n",
       "      <td>2.751522</td>\n",
       "      <td>179.830771</td>\n",
       "      <td>0.369986</td>\n",
       "      <td>74.222268</td>\n",
       "      <td>1862.259165</td>\n",
       "      <td>56.506768</td>\n",
       "      <td>49.648352</td>\n",
       "      <td>94.047594</td>\n",
       "      <td>0.741882</td>\n",
       "      <td>0.877830</td>\n",
       "    </tr>\n",
       "    <tr>\n",
       "      <th>min</th>\n",
       "      <td>3.000000</td>\n",
       "      <td>3.000000</td>\n",
       "      <td>0.300000</td>\n",
       "      <td>120.000000</td>\n",
       "      <td>1.800000</td>\n",
       "      <td>4.000000</td>\n",
       "      <td>16.000000</td>\n",
       "      <td>8.000000</td>\n",
       "      <td>33.000000</td>\n",
       "      <td>0.400000</td>\n",
       "      <td>7.100000</td>\n",
       "      <td>1.000000</td>\n",
       "    </tr>\n",
       "    <tr>\n",
       "      <th>25%</th>\n",
       "      <td>1092.000000</td>\n",
       "      <td>45.000000</td>\n",
       "      <td>0.600000</td>\n",
       "      <td>242.000000</td>\n",
       "      <td>3.290000</td>\n",
       "      <td>31.000000</td>\n",
       "      <td>721.000000</td>\n",
       "      <td>71.000000</td>\n",
       "      <td>80.000000</td>\n",
       "      <td>183.000000</td>\n",
       "      <td>10.100000</td>\n",
       "      <td>2.000000</td>\n",
       "    </tr>\n",
       "    <tr>\n",
       "      <th>50%</th>\n",
       "      <td>1785.000000</td>\n",
       "      <td>54.000000</td>\n",
       "      <td>0.900000</td>\n",
       "      <td>280.000000</td>\n",
       "      <td>3.580000</td>\n",
       "      <td>52.000000</td>\n",
       "      <td>1072.000000</td>\n",
       "      <td>97.650000</td>\n",
       "      <td>99.000000</td>\n",
       "      <td>251.000000</td>\n",
       "      <td>10.600000</td>\n",
       "      <td>3.000000</td>\n",
       "    </tr>\n",
       "    <tr>\n",
       "      <th>75%</th>\n",
       "      <td>2635.000000</td>\n",
       "      <td>61.000000</td>\n",
       "      <td>1.800000</td>\n",
       "      <td>360.000000</td>\n",
       "      <td>3.770000</td>\n",
       "      <td>86.000000</td>\n",
       "      <td>1689.000000</td>\n",
       "      <td>133.300000</td>\n",
       "      <td>133.000000</td>\n",
       "      <td>312.000000</td>\n",
       "      <td>11.000000</td>\n",
       "      <td>4.000000</td>\n",
       "    </tr>\n",
       "    <tr>\n",
       "      <th>max</th>\n",
       "      <td>25202.000000</td>\n",
       "      <td>97.000000</td>\n",
       "      <td>28.000000</td>\n",
       "      <td>1790.000000</td>\n",
       "      <td>4.640000</td>\n",
       "      <td>588.000000</td>\n",
       "      <td>19270.000000</td>\n",
       "      <td>2148.000000</td>\n",
       "      <td>598.000000</td>\n",
       "      <td>724.000000</td>\n",
       "      <td>18.000000</td>\n",
       "      <td>4.000000</td>\n",
       "    </tr>\n",
       "  </tbody>\n",
       "</table>\n",
       "</div>"
      ],
      "text/plain": [
       "             N_Days           Age     Bilirubin  Cholesterol       Albumin  \\\n",
       "count  14995.000000  14995.000000  14995.000000  6666.000000  14995.000000   \n",
       "mean    1963.422074     52.733378      1.860822   327.641614      3.525390   \n",
       "std     1314.933251     10.078603      2.751522   179.830771      0.369986   \n",
       "min        3.000000      3.000000      0.300000   120.000000      1.800000   \n",
       "25%     1092.000000     45.000000      0.600000   242.000000      3.290000   \n",
       "50%     1785.000000     54.000000      0.900000   280.000000      3.580000   \n",
       "75%     2635.000000     61.000000      1.800000   360.000000      3.770000   \n",
       "max    25202.000000     97.000000     28.000000  1790.000000      4.640000   \n",
       "\n",
       "            Copper      Alk_Phos         SGOT  Tryglicerides     Platelets  \\\n",
       "count  8447.000000   8553.000000  8550.000000    6627.000000  14409.000000   \n",
       "mean     74.728779   1667.638957   106.574650     110.274445    253.788931   \n",
       "std      74.222268   1862.259165    56.506768      49.648352     94.047594   \n",
       "min       4.000000     16.000000     8.000000      33.000000      0.400000   \n",
       "25%      31.000000    721.000000    71.000000      80.000000    183.000000   \n",
       "50%      52.000000   1072.000000    97.650000      99.000000    251.000000   \n",
       "75%      86.000000   1689.000000   133.300000     133.000000    312.000000   \n",
       "max     588.000000  19270.000000  2148.000000     598.000000    724.000000   \n",
       "\n",
       "        Prothrombin         Stage  \n",
       "count  14969.000000  14995.000000  \n",
       "mean      10.627711      3.025609  \n",
       "std        0.741882      0.877830  \n",
       "min        7.100000      1.000000  \n",
       "25%       10.100000      2.000000  \n",
       "50%       10.600000      3.000000  \n",
       "75%       11.000000      4.000000  \n",
       "max       18.000000      4.000000  "
      ]
     },
     "execution_count": 25,
     "metadata": {},
     "output_type": "execute_result"
    }
   ],
   "source": [
    "train_df.describe()"
   ]
  },
  {
   "cell_type": "code",
   "execution_count": 26,
   "metadata": {
    "execution": {
     "iopub.execute_input": "2024-12-18T14:49:35.667789Z",
     "iopub.status.busy": "2024-12-18T14:49:35.666989Z",
     "iopub.status.idle": "2024-12-18T14:49:35.683742Z",
     "shell.execute_reply": "2024-12-18T14:49:35.682518Z",
     "shell.execute_reply.started": "2024-12-18T14:49:35.667747Z"
    },
    "trusted": true
   },
   "outputs": [
    {
     "data": {
      "text/plain": [
       "N_Days            0.000000\n",
       "Drug             42.920974\n",
       "Age               0.000000\n",
       "Sex               0.000000\n",
       "Ascites          42.927643\n",
       "Hepatomegaly     42.920974\n",
       "Spiders          42.980994\n",
       "Edema             0.000000\n",
       "Bilirubin         0.000000\n",
       "Cholesterol      55.545182\n",
       "Albumin           0.000000\n",
       "Copper           43.667889\n",
       "Alk_Phos         42.960987\n",
       "SGOT             42.980994\n",
       "Tryglicerides    55.805268\n",
       "Platelets         3.907969\n",
       "Prothrombin       0.173391\n",
       "Stage             0.000000\n",
       "Status            0.000000\n",
       "dtype: float64"
      ]
     },
     "execution_count": 26,
     "metadata": {},
     "output_type": "execute_result"
    }
   ],
   "source": [
    "# Valeur manquante\n",
    "train_df.isna().sum()/len(train_df)*100"
   ]
  },
  {
   "cell_type": "code",
   "execution_count": 27,
   "metadata": {
    "execution": {
     "iopub.execute_input": "2024-12-18T14:16:20.291146Z",
     "iopub.status.busy": "2024-12-18T14:16:20.290747Z",
     "iopub.status.idle": "2024-12-18T14:16:20.302217Z",
     "shell.execute_reply": "2024-12-18T14:16:20.300962Z",
     "shell.execute_reply.started": "2024-12-18T14:16:20.291113Z"
    },
    "trusted": true
   },
   "outputs": [
    {
     "data": {
      "text/plain": [
       "Status\n",
       "C     10046\n",
       "D      4558\n",
       "CL      391\n",
       "Name: count, dtype: int64"
      ]
     },
     "execution_count": 27,
     "metadata": {},
     "output_type": "execute_result"
    }
   ],
   "source": [
    "# visualisation de la variable cible :\n",
    "train_df['Status'].value_counts()\n",
    "# les classes sont déséquilibrées \n",
    "# en tenir compte "
   ]
  },
  {
   "cell_type": "code",
   "execution_count": 28,
   "metadata": {
    "execution": {
     "iopub.execute_input": "2024-12-18T14:55:54.156156Z",
     "iopub.status.busy": "2024-12-18T14:55:54.155217Z",
     "iopub.status.idle": "2024-12-18T14:55:54.165425Z",
     "shell.execute_reply": "2024-12-18T14:55:54.164412Z",
     "shell.execute_reply.started": "2024-12-18T14:55:54.156116Z"
    },
    "trusted": true
   },
   "outputs": [
    {
     "data": {
      "text/plain": [
       "Drug\n",
       "NaN                0.429210\n",
       "D-penicillamine    0.304435\n",
       "Placebo            0.266355\n",
       "Name: proportion, dtype: float64"
      ]
     },
     "execution_count": 28,
     "metadata": {},
     "output_type": "execute_result"
    }
   ],
   "source": [
    "# Analyse de la variable Drug\n",
    "train_df['Drug'].value_counts(dropna=False, normalize=True)\n",
    "# Autant de placebo que de cachets\n",
    "# plus de NaN"
   ]
  },
  {
   "cell_type": "code",
   "execution_count": 1,
   "metadata": {
    "trusted": true
   },
   "outputs": [
    {
     "name": "stdout",
     "output_type": "stream",
     "text": [
      "g\n"
     ]
    }
   ],
   "source": [
    "print(\"g\")"
   ]
  },
  {
   "cell_type": "code",
   "execution_count": null,
   "metadata": {},
   "outputs": [],
   "source": []
  }
 ],
 "metadata": {
  "kaggle": {
   "accelerator": "none",
   "dataSources": [
    {
     "databundleVersionId": 9247862,
     "sourceId": 83447,
     "sourceType": "competition"
    }
   ],
   "dockerImageVersionId": 30804,
   "isGpuEnabled": false,
   "isInternetEnabled": true,
   "language": "python",
   "sourceType": "notebook"
  },
  "kernelspec": {
   "display_name": ".venv",
   "language": "python",
   "name": "python3"
  },
  "language_info": {
   "codemirror_mode": {
    "name": "ipython",
    "version": 3
   },
   "file_extension": ".py",
   "mimetype": "text/x-python",
   "name": "python",
   "nbconvert_exporter": "python",
   "pygments_lexer": "ipython3",
   "version": "3.12.7"
  }
 },
 "nbformat": 4,
 "nbformat_minor": 4
}
